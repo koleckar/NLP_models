{
  "nbformat": 4,
  "nbformat_minor": 0,
  "metadata": {
    "colab": {
      "name": "Copy of NLP_assignment.ipynb",
      "provenance": [],
      "collapsed_sections": [],
      "toc_visible": true
    },
    "kernelspec": {
      "name": "python3",
      "display_name": "Python 3"
    },
    "language_info": {
      "name": "python"
    }
  },
  "cells": [
    {
      "cell_type": "markdown",
      "source": [
        "# NLP Assignment: Language Modelling with Poetry\n",
        "\n",
        "This assignment will check your basic NLP understanding through the fundamental NLP task of **language modelling**. \n",
        "\n",
        "You will reiterate on the task with techniques ranging from simple n-gram counting to embeddings and deep learning.\n"
      ],
      "metadata": {
        "id": "N-hHGbc_k6Qb"
      }
    },
    {
      "cell_type": "markdown",
      "source": [
        "You can work with the same short poetry texts that should be familiar to you by now:"
      ],
      "metadata": {
        "id": "0g92L3xquSd-"
      }
    },
    {
      "cell_type": "markdown",
      "source": [
        "Unless stated otherwise (Ex. 4,5,6), work just with the Robert Frost file for simplicity (Ex. 1,2,3,7,8)"
      ],
      "metadata": {
        "id": "sWZ9k9_fGTgH"
      }
    },
    {
      "cell_type": "code",
      "source": [
        "from abc import ABC, abstractmethod\n",
        "\n",
        "import numpy as np\n",
        "import plotly.express as px\n",
        "from sklearn.decomposition import TruncatedSVD\n",
        "\n",
        "\n",
        "rng = np.random.default_rng()"
      ],
      "metadata": {
        "id": "Y3MO8kzkzfMN"
      },
      "execution_count": 1,
      "outputs": []
    },
    {
      "cell_type": "markdown",
      "source": [
        "#### **Excercise 1**: Markov Language Model (**2 points**)\n",
        "\n",
        "1. Create a 1st order Markov (bi-gram) language model \n",
        "  - work with matrix representation of the model\n",
        "    - i.e. not dictionaries as we did in the tutorial!\n",
        "    - hence you'll need to assign indices to the words, too\n",
        "      - include an extra \\<UNK\\> token for unseen words\n",
        "  - correctly handle beginnings and ends of sentences\n",
        "    - sentence = line\n",
        "  - lower case and properly tokenize your sentences\n",
        "    - but you may skip all extra text preprocessing"
      ],
      "metadata": {
        "id": "m8EBH2lVBEWe"
      }
    },
    {
      "cell_type": "code",
      "source": [
        "class Model(ABC):\n",
        "    @abstractmethod\n",
        "    def create_model(self, corpus: list):\n",
        "        pass\n",
        "\n",
        "\n",
        "class BiGramModel(Model):\n",
        "    \"\"\"\n",
        "    1st order Markov (bi-gram) language model.\n",
        "    \"\"\"\n",
        "    def __init__(self, vocabulary: set, corpus: list, smooth: bool):\n",
        "        self.vocabulary = vocabulary\n",
        "\n",
        "        self.model = np.zeros([len(vocabulary) + 1, len(vocabulary) + 1])  # +1 for <UNK>\n",
        "\n",
        "        self.token_to_idx = {}\n",
        "        self.idx_to_token = {}\n",
        "        for idx, token in enumerate(vocabulary.union([\"<UNK>\"])):\n",
        "            self.token_to_idx[token] = idx\n",
        "            self.idx_to_token[idx] = token\n",
        "\n",
        "        self.create_model(corpus, smooth)\n",
        "\n",
        "    def create_model(self, corpus: list, smooth: bool):\n",
        "        for tokens in corpus:\n",
        "            for i in range(1, len(tokens)):\n",
        "                self.model[self.token_to_idx[tokens[i - 1]], self.token_to_idx[tokens[i]]] += 1\n",
        "\n",
        "        if smooth:\n",
        "            self.model_by_laplace_estimate(corpus)\n",
        "        else:\n",
        "            self.model_by_maximum_likelihood(corpus)\n",
        "            self.model[np.isnan(self.model)] = 0\n",
        "\n",
        "        assert np.sum(np.isnan(self.model)) == 0\n",
        "\n",
        "    def model_by_maximum_likelihood(self, corpus: list):\n",
        "        self.model /= np.sum(self.model, axis=1).reshape(-1, 1)\n",
        "\n",
        "    def model_by_laplace_estimate(self, corpus: list):\n",
        "        self.model += 1\n",
        "        self.model /= np.sum(self.model, axis=1).reshape(-1, 1)\n",
        "\n",
        "    def get_token_idx(self, token):\n",
        "        if self.token_to_idx.get(token) is None:\n",
        "            return self.token_to_idx[\"<UNK>\"]\n",
        "        else:\n",
        "            return self.token_to_idx[token]\n",
        "\n",
        "\n",
        "def assert_marginals_equal_one(model: Model, smooth: bool): \n",
        "    for i in range(model.model.shape[0]):\n",
        "\n",
        "        if smooth is False:\n",
        "            if model.idx_to_token[i] == \"<UNK>\" or model.idx_to_token[i] == \"</s>\":\n",
        "                continue\n",
        "\n",
        "        prob = np.sum(model.model[i, :])\n",
        "        assert np.abs(prob - 1) < 10**-9, f\"prob={prob} at token: \\\"{model.idx_to_token[i]}\\\"\"\n"
      ],
      "metadata": {
        "id": "G0rr_duJzF8o"
      },
      "execution_count": 2,
      "outputs": []
    },
    {
      "cell_type": "code",
      "source": [
        "def get_vocabulary_and_corpus(path: str):\n",
        "    vocabulary = set()\n",
        "    corpus = []\n",
        "\n",
        "    for line in open(path, encoding='utf-8'):\n",
        "        tokens = line.rstrip().lower().split()\n",
        "        if not tokens:\n",
        "            continue\n",
        "        tokens = ['<s>'] + tokens + ['</s>']\n",
        "        vocabulary.update(tokens)\n",
        "        corpus.append(tokens)\n",
        "\n",
        "    return vocabulary, corpus"
      ],
      "metadata": {
        "id": "e0Y3Fvpd06BY"
      },
      "execution_count": 3,
      "outputs": []
    },
    {
      "cell_type": "code",
      "source": [
        "!wget -nc https://raw.githubusercontent.com/GustikS/smu-nlp/master/robert_frost.txt\n",
        "!wget -nc https://raw.githubusercontent.com/GustikS/smu-nlp/master/edgar_allan_poe.txt\n",
        "\n",
        "vocabulary_frost, corpus_frost = get_vocabulary_and_corpus(\"robert_frost.txt\")\n",
        "vocabulary_poe, corpus_poe = get_vocabulary_and_corpus(\"edgar_allan_poe.txt\")\n",
        "\n",
        "# Exercise 1. Create bi-gram model.\n",
        "smooth = True\n",
        "model_frost = BiGramModel(vocabulary_frost, corpus_frost, smooth=smooth)\n",
        "assert_marginals_equal_one(model_frost, smooth)\n"
      ],
      "metadata": {
        "id": "tsj1Jt0Kz5fp",
        "outputId": "37168d69-1032-4b0a-82ea-0dcd8ada28e9",
        "colab": {
          "base_uri": "https://localhost:8080/"
        }
      },
      "execution_count": 4,
      "outputs": [
        {
          "output_type": "stream",
          "name": "stdout",
          "text": [
            "--2022-06-06 17:40:15--  https://raw.githubusercontent.com/GustikS/smu-nlp/master/robert_frost.txt\n",
            "Resolving raw.githubusercontent.com (raw.githubusercontent.com)... 185.199.108.133, 185.199.109.133, 185.199.110.133, ...\n",
            "Connecting to raw.githubusercontent.com (raw.githubusercontent.com)|185.199.108.133|:443... connected.\n",
            "HTTP request sent, awaiting response... 200 OK\n",
            "Length: 56286 (55K) [text/plain]\n",
            "Saving to: ‘robert_frost.txt’\n",
            "\n",
            "\rrobert_frost.txt      0%[                    ]       0  --.-KB/s               \rrobert_frost.txt    100%[===================>]  54.97K  --.-KB/s    in 0.008s  \n",
            "\n",
            "2022-06-06 17:40:16 (6.91 MB/s) - ‘robert_frost.txt’ saved [56286/56286]\n",
            "\n",
            "--2022-06-06 17:40:16--  https://raw.githubusercontent.com/GustikS/smu-nlp/master/edgar_allan_poe.txt\n",
            "Resolving raw.githubusercontent.com (raw.githubusercontent.com)... 185.199.108.133, 185.199.109.133, 185.199.110.133, ...\n",
            "Connecting to raw.githubusercontent.com (raw.githubusercontent.com)|185.199.108.133|:443... connected.\n",
            "HTTP request sent, awaiting response... 200 OK\n",
            "Length: 26622 (26K) [text/plain]\n",
            "Saving to: ‘edgar_allan_poe.txt’\n",
            "\n",
            "edgar_allan_poe.txt 100%[===================>]  26.00K  --.-KB/s    in 0.002s  \n",
            "\n",
            "2022-06-06 17:40:16 (15.4 MB/s) - ‘edgar_allan_poe.txt’ saved [26622/26622]\n",
            "\n"
          ]
        }
      ]
    },
    {
      "cell_type": "markdown",
      "source": [
        "#### **Excercise 2**: Probability + Smoothing (**1 points**)\n",
        "1. write a function to obtain probability of a given sentence with your model\n",
        "    - include the beginning and end mark of the sentence as well\n",
        "2. incorporate the add-1 (Laplace) smoothing to account for unseen bi-grams\n",
        "    - you should have your \\<UNK\\> for unseen unigrams already"
      ],
      "metadata": {
        "id": "yUD5eCd0PQ3w"
      }
    },
    {
      "cell_type": "code",
      "source": [
        "def get_log_probability(sentence: list, model: BiGramModel) -> float:\n",
        "    prob_log = 0\n",
        "    n = len(sentence)\n",
        "    for i in range(1, n):\n",
        "        idx1 = model.get_token_idx(sentence[i - 1])\n",
        "        idx2 = model.get_token_idx(sentence[i])\n",
        "        p = np.log(model.model[idx1, idx2])\n",
        "        prob_log += p\n",
        "    return prob_log\n",
        "\n",
        "\n",
        "def get_probability(sentence: list, model: BiGramModel) -> float:\n",
        "    prob = 1\n",
        "    n = len(sentence)\n",
        "    for i in range(1, n):\n",
        "        idx1 = model.get_token_idx(sentence[i - 1])\n",
        "        idx2 = model.get_token_idx(sentence[i])\n",
        "        p = model.model[idx1, idx2]\n",
        "        prob *= p\n",
        "    return prob"
      ],
      "metadata": {
        "id": "IDysD1qJ0U_X"
      },
      "execution_count": 5,
      "outputs": []
    },
    {
      "cell_type": "code",
      "source": [
        "sentence = corpus_frost[rng.integers(0, len(corpus_frost))] \n",
        "print(\"==== Exercise 2. ====\")\n",
        "print(f\"Probability of \\\"{' '.join(sentence[1:-1])}\\\" is {get_probability(sentence, model_frost)}.\")\n",
        "\n",
        "# sentence = \"<s> the young folk held some hope out to each other. </s>\".split()\n",
        "# print(f\"Probability of \\\"{' '.join(sentence[1:-1])}\\\" is {get_probability(sentence, model_frost)}.\")"
      ],
      "metadata": {
        "id": "bEKIA-5l0U2H",
        "outputId": "580fa22c-a96c-4df0-f2f5-d715a0c105ff",
        "colab": {
          "base_uri": "https://localhost:8080/"
        }
      },
      "execution_count": 6,
      "outputs": [
        {
          "output_type": "stream",
          "name": "stdout",
          "text": [
            "==== Exercise 2. ====\n",
            "Probability of \"the least i could do was to help dig their grave.\" is 1.3656047530533152e-36.\n"
          ]
        }
      ]
    },
    {
      "cell_type": "markdown",
      "source": [
        "#### **Excercise 3**: Perplexity (**1 points**)\n",
        "1. write a function fo calculate perplexity of your smoothed model on a given sentence\n",
        "  - including its beginning and ending\n",
        "2. find the sentence(s) from the corpus with minimum and maximum perplexity"
      ],
      "metadata": {
        "id": "WQ_eRLBU_sRI"
      }
    },
    {
      "cell_type": "code",
      "source": [
        "def get_perplexity(sentence: list, model: Model) -> float:\n",
        "    n = len(sentence)\n",
        "    perp = 1\n",
        "    for i in range(1, n):\n",
        "        idx1 = model.get_token_idx(sentence[i - 1])\n",
        "        idx2 = model.get_token_idx(sentence[i])\n",
        "        perp *= 1 / model.model[idx1, idx2]\n",
        "    return np.power(perp, 1 / n)\n"
      ],
      "metadata": {
        "id": "pKH2l9l90tYk"
      },
      "execution_count": 7,
      "outputs": []
    },
    {
      "cell_type": "code",
      "source": [
        "if not smooth:\n",
        "    sentence = \"the young folk held some hope out to each other.\".split()\n",
        "    print(f'{get_perplexity(sentence, model_frost)}')\n",
        "\n",
        "max_perplexity = 0\n",
        "min_perplexity = np.inf\n",
        "min_idx = np.nan\n",
        "max_idx = np.nan\n",
        "for i, sentence in enumerate(corpus_frost):\n",
        "    perp = get_perplexity(sentence, model_frost)\n",
        "    if perp > max_perplexity:\n",
        "        max_perplexity = perp\n",
        "        max_idx = i\n",
        "    if perp < min_perplexity:\n",
        "        min_perplexity = perp\n",
        "        min_idx = i\n",
        "\n",
        "print(\"\\n==== Exercise 3. ====\")\n",
        "print(f\"Sentence with minimum perplexity = {np.round(min_perplexity, 2)}: \\\"{' '.join(corpus_frost[min_idx][1:-1])}\\\"\")\n",
        "print(f\"Sentence with maximum perplexity = {np.round(max_perplexity, 2)}: \\\"{' '.join(corpus_frost[max_idx][1:-1])}\\\"\")"
      ],
      "metadata": {
        "id": "Vlnv0wBU0tSf",
        "outputId": "f6a17f26-c69c-472a-e387-4c8b98df3595",
        "colab": {
          "base_uri": "https://localhost:8080/"
        }
      },
      "execution_count": 8,
      "outputs": [
        {
          "output_type": "stream",
          "name": "stdout",
          "text": [
            "\n",
            "==== Exercise 3. ====\n",
            "Sentence with minimum perplexity = 75.59: \"it.\"\n",
            "Sentence with maximum perplexity = 843.08: \"life long in bed, and wrote her things in bed.\"\n"
          ]
        }
      ]
    },
    {
      "cell_type": "markdown",
      "source": [
        "#### **Excercise 4:**  Markov classifier (**4 points**)\n",
        "Implement your own probabilistic classifier based on your bi-gram language model. That is:\n",
        "  1. given some classes of sentences, train a separate language model for each class respectively\n",
        "  2. then classify a given sentence (=sample) based on maximum a-posteriori probability (MAP)\n",
        "    - i.e. don't forget about the class priors, too!\n",
        "    - use log probabilities!\n",
        "    - make sure your smoothing treats all the classes equally!\n",
        "  3. evaluate on a task of recognizing sentences from the 2 different poets (Frost vs. Poe)\n",
        "    - split the sentences (=samples) from each poet into train-test in advance!\n",
        "      - skip empty lines (of course)\n",
        "\n",
        "*Note that this is very similar to our previous classification with Naive Bayes, but with bi-grams instead of unigrams.*"
      ],
      "metadata": {
        "id": "67ukRce0_myA"
      }
    },
    {
      "cell_type": "code",
      "source": [
        "class MarkovClassifier:\n",
        "    \"\"\"\n",
        "    Naive Bayes classifier using Markov models.\n",
        "    \"\"\"\n",
        "    def __init__(self, prior_1: int, prior_2: int, \n",
        "                 model_1: Model, model_2: Model,\n",
        "                 name_class_1=None, name_class_2=None):\n",
        "        self.prior_1 = prior_1\n",
        "        self.prior_2 = prior_2\n",
        "        self.model_1 = model_1\n",
        "        self.model_2 = model_2\n",
        "        self.name_class_1 = name_class_1\n",
        "        self.name_class_2 = name_class_2\n",
        "\n",
        "    def classify(self, sentence: list):\n",
        "        p_1 = np.log(self.prior_1) + get_log_probability(sentence, self.model_1)\n",
        "        p_2 = np.log(self.prior_2) + get_log_probability(sentence, self.model_2)\n",
        "\n",
        "        if self.name_class_1 is not None:\n",
        "            return self.name_class_1 if p_1 > p_2 else self.name_class_2\n",
        "        else:\n",
        "            return 1 if p_1 > p_2 else 2\n",
        "\n",
        "\n",
        "def get_train_test_indices(length, train_fraction=0.8):\n",
        "    indices = rng.permutation(np.arange(length))\n",
        "    delim = np.round(length * train_fraction).astype(np.int32)\n",
        "    return indices[0: delim], indices[delim:]"
      ],
      "metadata": {
        "id": "PBLX_ixi09VT"
      },
      "execution_count": 9,
      "outputs": []
    },
    {
      "cell_type": "code",
      "source": [
        "vocabulary = vocabulary_frost.union(vocabulary_poe)\n",
        "\n",
        "frost_idcs_train, frost_idcs_test = get_train_test_indices(len(corpus_frost))\n",
        "poe_idcs_train, poe_idcs_test = get_train_test_indices(len(corpus_poe))\n",
        "corpus_frost_train = [corpus_frost[idx] for idx in frost_idcs_train]\n",
        "corpus_frost_test = [corpus_frost[idx] for idx in frost_idcs_test]\n",
        "corpus_poe_train = [corpus_poe[idx] for idx in poe_idcs_train]\n",
        "corpus_poe_test = [corpus_poe[idx] for idx in poe_idcs_test]\n",
        "\n",
        "# # The two vocabularies are presumably not identical. \n",
        "# # The smoothing is done for each vocabulary independently.\n",
        "# # The probability of <UNK> is 1/V differs. \n",
        "# # So I will use V as union of both vocabularies.\n",
        "# print(np.sum(model_poe.model[model_poe.token_to_idx[\"<UNK>\"], :]))\n",
        "# print(np.sum(model_frost.model[model_frost.token_to_idx[\"<UNK>\"], :]))\n",
        "# Training on the different corpora which can differ in size,\n",
        "#   but on union of vocabularies, thus smoothing treat classes equally.\n",
        "\n",
        "model_frost = BiGramModel(vocabulary, corpus_frost_train, smooth=True)\n",
        "model_poe = BiGramModel(vocabulary, corpus_poe_train, smooth=True)\n",
        "\n",
        "# assert marginals == 1\n",
        "for i in range(model_frost.model.shape[0]):\n",
        "    prob = np.sum(model_frost.model[i, :])\n",
        "    assert np.abs(prob - 1) < 10**-9, f\"prob={prob} at token: \\\"{model_frost.idx_to_token[i]}\\\"\"\n",
        "\n",
        "# number_of_tokens_frost = 0\n",
        "# number_of_tokens_poe = 0\n",
        "# for sentence in corpus_frost:\n",
        "#     number_of_tokens_frost += len(sentence) - 2\n",
        "# for sentence in corpus_poe:\n",
        "#     number_of_tokens_poe += len(sentence) - 2\n",
        "# number_of_tokens = (number_of_tokens_poe + number_of_tokens_frost)\n",
        "# prior_poe = number_of_tokens_poe / number_of_tokens\n",
        "# prior_frost = number_of_tokens_frost / number_of_tokens\n",
        "\n",
        "# As samples are sentences, I calculate priors rather from \n",
        "#  their respective sizes, rather than by tokens.\n",
        "corpus = corpus_frost + corpus_poe\n",
        "prior_poe = len(corpus_poe) / len(corpus)\n",
        "prior_frost = len(corpus_frost) / len(corpus)\n",
        "\n",
        "print(\"\\n==== Exercise 4. ====\")\n",
        "print(f\"prior_frost={np.round(prior_frost, 2)}\")\n",
        "print(f\"prior_poe={np.round(prior_poe, 2)}\")\n",
        "\n",
        "markov_classifier = MarkovClassifier(prior_1=prior_poe, prior_2=prior_frost,\n",
        "                                      model_1=model_poe, model_2=model_frost,\n",
        "                                      name_class_1=\"poe\", name_class_2=\"frost\")\n",
        "\n",
        "correctly_classified_poe = 0\n",
        "for sentence in corpus_poe_test:\n",
        "    if markov_classifier.classify(sentence) == \"poe\":\n",
        "        correctly_classified_poe += 1\n",
        "\n",
        "correctly_classified_frost = 0\n",
        "for sentence in corpus_frost_test:\n",
        "    if markov_classifier.classify(sentence) == \"frost\":\n",
        "        correctly_classified_frost += 1\n",
        "\n",
        "test_accuracy_poe = correctly_classified_poe / len(corpus_poe_test)\n",
        "print(f\"Test accuracy Poe: {np.round(test_accuracy_poe * 100, 2)}%.\")\n",
        "\n",
        "test_accuracy_frost = correctly_classified_frost / len(corpus_frost_test)\n",
        "print(f\"Test accuracy Frost: {np.round(test_accuracy_frost * 100, 2)}%.\")"
      ],
      "metadata": {
        "id": "wQ-OJSjC09JA",
        "outputId": "923e4c1b-4162-4bb9-957f-93b1e9361a60",
        "colab": {
          "base_uri": "https://localhost:8080/"
        }
      },
      "execution_count": 10,
      "outputs": [
        {
          "output_type": "stream",
          "name": "stdout",
          "text": [
            "\n",
            "==== Exercise 4. ====\n",
            "prior_frost=0.67\n",
            "prior_poe=0.33\n",
            "Test accuracy Poe: 50.69%.\n",
            "Test accuracy Frost: 95.12%.\n"
          ]
        }
      ]
    },
    {
      "cell_type": "markdown",
      "source": [
        "#### **Excercise 5**: PPMI word-word cooccurence (**2 points**)\n",
        "1. Create a word-word co-occurence matrix from all the text of the both poets altogether\n",
        "  - use a sliding window of size 5 (2 left + 2 right context words)\n",
        "    - remember that you can reuse existing solutions...\n",
        "2. Post-process the matrix with PPMI"
      ],
      "metadata": {
        "id": "rqOHBzHurTsM"
      }
    },
    {
      "cell_type": "code",
      "source": [
        "class TokenIndexer:\n",
        "    def __init__(self, vocabulary, include_unk):\n",
        "        self.token_to_idx = {}\n",
        "        self.idx_to_token = {}\n",
        "\n",
        "        unk = \"<UNK>\" if include_unk else \"\"\n",
        "        for idx, token in enumerate(vocabulary.union(unk)):\n",
        "            self.token_to_idx[token] = idx\n",
        "            self.idx_to_token[idx] = token\n",
        "\n",
        "    def get_token_idx(self, token):\n",
        "        if self.token_to_idx.get(token) is None:\n",
        "            return self.token_to_idx[\"<UNK>\"]\n",
        "        else:\n",
        "            return self.token_to_idx[token]\n",
        "\n",
        "    def get_idx_token(self, idx):\n",
        "        if self.idx_to_token.get(idx) is None:\n",
        "            return self.idx_to_token[\"<UNK>\"]\n",
        "        else:\n",
        "            return self.idx_to_token[idx]\n",
        "\n",
        "\n",
        "class PPMI:\n",
        "    def __init__(self, corpus: list, vocabulary: set, \n",
        "                 context_size: int, token_indexer: TokenIndexer):\n",
        "        self.text = []\n",
        "        self.get_text(corpus)\n",
        "\n",
        "        self.vocabulary = vocabulary\n",
        "        self.token_indexer = token_indexer\n",
        "        self.context_size = context_size\n",
        "        self.half_window_size = (context_size - 1) // 2\n",
        "\n",
        "        self.co_occurrence_matrix = np.zeros([len(vocabulary), len(vocabulary)], dtype=np.int32)\n",
        "        self.populate_co_occurrence_matrix()\n",
        "\n",
        "        self.ppmi_matrix = np.zeros([len(vocabulary), len(vocabulary)])\n",
        "        self.create_ppmi_matrix()\n",
        "\n",
        "    def get_text(self, corpus):\n",
        "        for line in corpus:\n",
        "            self.text += line[1: -1]  # <s> and </s>\n",
        "\n",
        "    def populate_co_occurrence_matrix(self):\n",
        "        for i in range(self.half_window_size, len(self.text) - self.half_window_size):\n",
        "            context_tokens = self.text[i - self.half_window_size: i] + self.text[i + 1: i + 1 + self.half_window_size]\n",
        "            idx1 = self.token_indexer.get_token_idx(self.text[i])\n",
        "            for token in context_tokens:\n",
        "                idx2 = self.token_indexer.get_token_idx(token)\n",
        "                self.co_occurrence_matrix[idx1, idx2] += 1\n",
        "                self.co_occurrence_matrix[idx2, idx1] += 1\n",
        "\n",
        "    def create_ppmi_matrix(self):\n",
        "        rows_sums = np.sum(self.co_occurrence_matrix, axis=0)\n",
        "        cols_sums = np.sum(self.co_occurrence_matrix, axis=1)\n",
        "        total_sum = np.sum(self.co_occurrence_matrix)\n",
        "        expected = np.outer(rows_sums, cols_sums) / total_sum\n",
        "        self.ppmi_matrix = np.log(self.co_occurrence_matrix / expected)\n",
        "        self.ppmi_matrix[np.isnan(self.ppmi_matrix)] = 0\n",
        "        self.ppmi_matrix[self.ppmi_matrix < 0] = 0\n"
      ],
      "metadata": {
        "id": "ahexpDbYyqWI"
      },
      "execution_count": 11,
      "outputs": []
    },
    {
      "cell_type": "code",
      "source": [
        "token_indexer = TokenIndexer(vocabulary, include_unk=False)\n",
        "\n",
        "ppmi = PPMI(corpus=corpus_frost + corpus_poe, \n",
        "            vocabulary=vocabulary, \n",
        "            context_size=5, \n",
        "            token_indexer=token_indexer)"
      ],
      "metadata": {
        "id": "d3_Hh2xByjYA",
        "colab": {
          "base_uri": "https://localhost:8080/"
        },
        "outputId": "45c5b94f-cd61-4fdb-9ee8-57f8e44e0efe"
      },
      "execution_count": 12,
      "outputs": [
        {
          "output_type": "stream",
          "name": "stderr",
          "text": [
            "/usr/local/lib/python3.7/dist-packages/ipykernel_launcher.py:59: RuntimeWarning: invalid value encountered in true_divide\n",
            "/usr/local/lib/python3.7/dist-packages/ipykernel_launcher.py:59: RuntimeWarning: divide by zero encountered in log\n"
          ]
        }
      ]
    },
    {
      "cell_type": "markdown",
      "source": [
        "#### **Excercise 6**: Word embeddings (**1 points**)\n",
        "1. Extract 8-dimensional word embeddings from your PPMI matrix\n",
        "  - using the truncated SVD matrix decomposition\n",
        "2. Plot them in 2D with word labels"
      ],
      "metadata": {
        "id": "nUWr5HsIry66"
      }
    },
    {
      "cell_type": "code",
      "source": [
        "components = TruncatedSVD(n_components=8).fit_transform(ppmi.ppmi_matrix)\n",
        "fig = px.scatter(x=components[:, 0], y=components[:, 1], text=list(token_indexer.token_to_idx.keys()),\n",
        "                  size_max=60, title=\"first two SVD components of PPMI matrix.\")\n",
        "fig.update_traces(textposition='top center')\n",
        "fig.show()"
      ],
      "metadata": {
        "id": "9nGu5E8kymK_",
        "colab": {
          "base_uri": "https://localhost:8080/",
          "height": 542
        },
        "outputId": "c785ce9a-6d13-4726-f0b4-9c4def16ff74"
      },
      "execution_count": 13,
      "outputs": [
        {
          "output_type": "display_data",
          "data": {
            "text/html": [
              "<html>\n",
              "<head><meta charset=\"utf-8\" /></head>\n",
              "<body>\n",
              "    <div>            <script src=\"https://cdnjs.cloudflare.com/ajax/libs/mathjax/2.7.5/MathJax.js?config=TeX-AMS-MML_SVG\"></script><script type=\"text/javascript\">if (window.MathJax) {MathJax.Hub.Config({SVG: {font: \"STIX-Web\"}});}</script>                <script type=\"text/javascript\">window.PlotlyConfig = {MathJaxConfig: 'local'};</script>\n",
              "        <script src=\"https://cdn.plot.ly/plotly-2.8.3.min.js\"></script>                <div id=\"817d49b4-b641-4ae6-b4cb-045cfd9da4a5\" class=\"plotly-graph-div\" style=\"height:525px; width:100%;\"></div>            <script type=\"text/javascript\">                                    window.PLOTLYENV=window.PLOTLYENV || {};                                    if (document.getElementById(\"817d49b4-b641-4ae6-b4cb-045cfd9da4a5\")) {                    Plotly.newPlot(                        \"817d49b4-b641-4ae6-b4cb-045cfd9da4a5\",                        [{\"hovertemplate\":\"x=%{x}<br>y=%{y}<br>text=%{text}<extra></extra>\",\"legendgroup\":\"\",\"marker\":{\"color\":\"#636efa\",\"symbol\":\"circle\"},\"mode\":\"markers+text\",\"name\":\"\",\"showlegend\":false,\"text\":[\"wet-kneed\",\"auber,\",\"upper\",\"posies\",\"ledges\",\"dignity\",\"speaking.\",\"symbol\",\"is\",\"years.\",\"vegetation\",\"doubt\",\"great-grandmother\",\"bought\",\"we,\",\"slopes!\",\"spires\",\"blanket\",\"thrones\",\"kiss\",\"way\",\"serial\",\"violin;\",\"button,'\",\"hawks\",\"odour\",\"words\",\"mine.\",\"sits\",\"elfin\",\"entablatures\",\"upstairs,\",\"wings\",\"apple\",\"eased\",\"adoring\",\"beaten\",\"point\",\"woods\",\"only\",\"travel\",\"never\",\"clara\",\"\\\"i\",\"clime\",\"track.\",\"stark.'\",\"sprung,\",\"unafraid,\",\"learn,\",\"car\",\"only,\",\"beside\",\"earnest.\",\"'then\",\"(the\",\"art,\",\"try\",\"believe\",\"unearthed\",\"they're\",\"sober,\",\"strong\",\"what's\",\"none\",\"pauses\",\"door;\",\"explain.\",\"mistake?\",\"i!\",\"upstairs\",\"brown\",\"besides.\",\"danger\",\"diomed\",\"all's\",\"spilled\",\"love,\",\"blest;\",\"talking.\",\"all.'\",\"themselves\",\"so's\",\"names\",\"heart's\",\"child,\",\"weeks\",\"concerned\",\"dale\",\"powerless\",\"except,\",\"hole,\",\"aright\",\"caught\",\"strings,\",\"trance.\",\"legs.\",\"valley.\",\"tottering\",\"done\",\"hopes\",\"shoeing\",\"capacity\",\"cheek,\",\"trees,\",\"source,\",\"strangeness\",\"while\",\"groan\",\"watch\",\"playthings\",\"god\",\"so-\",\"half-drowned\",\"over-heated,\",\"stamped\",\"meanwhile\",\"voices.\",\"show,\",\"afar\",\"has\",\"granny's,\",\"pasture,\",\"want.'\",\"pleiads,\",\"books\",\"deliverers\",\"toward\",\"once;\",\"were\",\"eve.\",\"detail-\",\"rings\",\"which\",\"aster\",\"a-known\",\"living,\",\"saddest\",\"home:\",\"power\",\"saint\",\"to-night:-\",\"wishing\",\"adventure\",\"way.'\",\"they?\",\"th'\",\"amid\",\"lightning\",\"divine\",\"stopped\",\"nice\",\"young\",\"short,\",\"quite\",\"hades,\",\"serious\",\"sincere\",\"they\",\"gone.\",\"stain\",\"closed\",\"lenses.\",\"several\",\"joe\",\"roar\",\"singing,\",\"berries\",\"feet\",\"duty,\",\"fires\",\"herself?'\",\"aglitter,\",\"go.'\",\"poetess's\",\"shall\",\"sublime\",\"boys\",\"glowing\",\"man\\u2014\",\"headed\",\"paint\",\"wing?\",\"us\",\"nights\",\"monarch's\",\"don't\",\"hall\",\"trod,\",\"illumine\",\"flowers\",\"lurid\",\"such\",\"(now\",\"young.\",\"harmodious,\",\"cider,\",\"miraculous\",\"speed,-\",\"sighs-\",\"memory\",\"utterly\",\"still!\",\"stood\",\"soul-\",\"'ulalume-\",\"moving\",\"imbued\",\"bed\",\"truly,\",\"'no\",\"outward\",\"purport\",\"dangle\",\"person\",\"years-\",\"ripples\",\"outside\",\"arm,\",\"auk!'\",\"plane\",\"a-piece\",\"in!'\",\"empty\",\"bliss!\",\"books.'\",\"braced\",\"taken\",\"wonderful\",\"masonry.\",\"windows\",\"blame\",\"am.'\",\"pallor\",\"skies,\",\"daylight\",\"walk\",\"italian\",\"minute:\",\"but\",\"heman\",\"legitimately.\",\"wit\",\"anything.\",\"coolness\",\"scruples\",\"hide,--\",\"technical.-\",\"bed.'\",\"uncertain,\",\"'reason\",\"you've\",\"psyche,\",\"but,\",\"race\",\"sadder\",\"enough\",\"swarm\",\"red.\",\"tomb?'\",\"fame\",\"bells,\",\"despite\",\"o'clock,\",\"stable\",\"crater's\",\"protection.'\",\"orchard.\",\"constellations.\",\"glances\",\"settlement?\",\"showed\",\"venuses,\",\"hamadryad\",\"praise,\",\"advantage\",\"started\",\"flashed\",\"shelter\",\"shaded\",\"zante!\",\"summer\",\"it?'\",\"\\u2018tis\",\"over\",\"board\",\"keep,\",\"you;\",\"risk\",\"timber-\",\"ones\",\"bigger\",\"proof.\",\"reason\",\"road,\",\"snapped\",\"cared\",\"realities?\",\"cards,\",\"both,\",\"red\",\"asked\",\"failed\",\"fall,\",\"out-doors.\",\"right's\",\"herself.'\",\"night\",\"complain:\",\"road\",\"rather\",\"given\",\"unwilling\",\"'it's\",\"thus\",\"lettered,\",\"part\",\"up;\",\"proud\",\"nature's\",\"first's\",\"look\",\"tasted\",\"'will\",\"this:\",\"be.'\",\"whir\",\"whom\",\"settled\",\"street,\",\"field,\",\"allowed\",\"breathing\",\"it?\",\"cultures\",\"bedeviled-\",\"whatever\",\"coupling\",\"plagued\",\"bottle.'\",\"anyway.\",\"books!\",\"'nor\",\"ago\",\"me:\",\"shame\",\"john-joe,\",\"lavas\",\"nearer\",\"'let's\",\"effect.\",\"'oh,\",\"greatness\",\"else.'\",\"silver,\",\"our\",\"wonder.'\",\"grassy\",\"prospect\",\"thrive)\",\"unless\",\"thought\",\"well.\",\"field.\",\"pace\",\"sea-\",\"yard,\",\"ulalume!\\\"\",\"fun\",\"banks\",\"scribble,\",\"more:\",\"rapid\",\"chanced,\",\"!'\",\"lake\",\"waiting.'\",\"rain.\",\"'haven't\",\"kiting.\",\"smoke\",\"strengths,\",\"again?'\",\"object\",\"yet\",\"shine\",\"diana\",\"'tis\",\"twenty\",\"lute's\",\"find\",\"as\",\"allowance,\",\"out.\",\"gleaming,\",\"preyest\",\"see!\",\"noon\",\"sigh\",\"skulls\",\"windows.\",\"beloved!\",\"raspberries,\",\"liberty's\",\"tomb-\",\"drew\",\"a\",\"uplifting\",\"height\",\"sere-\",\"flowing,\",\"mark\",\"moans,\",\"sweets\",\"(who\",\"everywhere!\\u2014\",\"solace\",\"rest.\",\"night;\",\"around,\",\"proof.'\",\"slumbering\",\"song,\",\"clothes,\",\"thee-\",\"ether\",\"together.\",\"outrage?\",\"man,\",\"skull\",\"bluebells\",\"describing\",\"despisest\",\"my\",\"telling\",\"father's\",\"celestial\",\"everywhere-\",\"hold.\",\"had,\",\"precipitate\",\"2o3\",\"must.\\\"\",\"face;\",\"myth\",\"looking\",\"outdoors.\",\"earthly\",\"choice\",\"(whose\",\"branch\",\"do\",\"indian\",\"hers.\",\"astarte's\",\"scarified.\",\"upturned\",\"resurrection\",\"amy.\",\"romp,\",\"became\",\"pole-\",\"lap\",\"liquescent\",\"attic\",\"into\",\"reasons;\",\"at\",\"seems,\",\"state\",\"hair\",\"brushed\",\"cried\",\"lines\",\"(but\",\"thrive!\",\"grow\",\"lantern\",\"filmy\",\"manages\",\"dew,\",\"rustling\",\"steeple.\",\"guiders,\",\"tamed\",\"storms\",\"--was\",\"signals\",\"mistake.\",\"changed\",\"sailed.\",\"cutting\",\"scarlet\",\"man\",\"member\",\"serene\",\"glare\",\"yours,\",\"raining.\",\"hate\",\"twelvemonth\",\"slammed\",\"dance\",\"caves\",\"origin\",\"thrilly\",\"late\",\"frogs\",\"godliness-\",\"small\",\"leaf\",\"disappeared.\",\"unhitch.'\",\"can't:\",\"bad\",\"known\",\"firkins.\",\"ice.\",\"astride,\",\"fathomless\",\"so,\",\"thee,\",\"steel,\",\"tutelar\",\"interfered\",\"river,\",\"playhouse.)\",\"essence,\",\"book,\",\"watering\",\"once,\",\"flood,\",\"then,\",\"substitute.\",\"fighting\",\"arose\",\"little\",\"rear\",\"finger-bone\",\"bound.\",\"besides\",\"crust.\",\"headshake\",\"tote-road.\",\"knowing\",\"ye\",\"thine\",\"safely\",\"presented,\",\"county.\",\"about.'\",\"we've\",\"farm.\",\"throbbing\",\"lily\",\"priority\",\"time,\",\"denied\",\"edition\",\"buds\",\"wise,\",\"athens\",\"gnawed\",\"founts\",\"mule.\",\"earth,\",\"sound,\",\"else.\",\"mother-\",\"thinks\",\"'how\",\"erect.\",\"petered\",\"isle!\",\"playhouse\",\"purer\",\"are:\",\"passion,\",\"know.\",\"like,\",\"slept\",\"eyes?'\",\"'hesperides'\",\"cared.\",\"albeit\",\"'toffile,\",\"conquered\",\"lost.\",\"shore,\",\"excited\",\"that.'\",\"darkest\",\"unfortunately\",\"natural\",\"pretense\",\"wealth,\",\"alive\",\"feeling,\",\"ministers-\",\"there'd\",\"they'll\",\"flattered\",\"odors\",\"speculation,\",\"morn\",\"torn\",\"floor,\",\"sight\",\"hasten!\",\"course\",\"hang\",\"luck.\",\"tree,\",\"me!\",\"same!'\",\"out\",\"paneling.\",\"farmer.\",\"blood.\",\"moment\",\"woo),\",\"loss\",\"politician\",\"funereal\",\"painted,\",\"isn't\",\"faintest\",\"setting\",\"skies\",\"baubles\",\"forever,\",\"prove?\",\"roses,\",\"apathy?\",\"bottom.\",\"converging\",\"truth\",\"however\",\"beauty\",\"'today.'\",\"bowers\",\"israfeli's\",\"break\",\"who'd\",\"go?'\",\"simply\",\"stained\",\"city\",\"boreal\",\"done!\",\"banking,\",\"once\",\"rose)-\",\"font.\",\"southeast-northwest,\",\"cousinship.\",\"us.\",\"music\",\"tomb?\\\"\",\"nation.\",\"boy,\",\"authority\",\"voted\",\"sees\",\"roses?\",\"graciously.\",\"name\",\"drouth.\",\"seedpod.\",\"cost\",\"noise\",\"mute!\",\"you,\",\"seem\",\"crew\",\"frozen\",\"sparkling\",\"woe,\",\"under\",\"fountain\",\"none.\",\"text,\",\"really\",\"from,\",\"posts\",\"throw\",\"clasps\",\"'this\",\"eye\",\"marrying\",\"dian\",\"tho'\",\"inward\",\"heaven\",\"heart!-\",\"subdued,\",\"(where\",\"places\",\"heaven!-\",\"wait.\",\"shape\",\"consent\",\"sober;\",\"wa'n't\",\"cousins:\",\"knob\",\"plan\",\"chases,\",\"start\",\"trod\",\"deliverance\",\"empty.\",\"on.\",\"intelligence!\",\"chimney\",\"teeth.\",\"what-\",\"sours;\",\"ago:\",\"'he's\",\"musically\",\"hope),\",\"breaking\",\"'no,\",\"out-\",\"short\",\"tree.\",\"what:\",\"pile\",\"heart-\",\"hitched\",\"undo\",\"voices\",\"agony\",\"boring\",\"fool?'\",\"'the\",\"throats.\",\"gone?\",\"harmless.\",\"smell\",\"strange!\",\"currents\",\"tempt\",\"reverence,\",\"bright\",\"there,\",\"ways,\",\"vista,\",\"eyes.\\\"\",\"invisible\",\"waiting\",\"crib\",\"throve\",\"avalanches,\",\"bade\",\"dies,\",\"verse\",\"grown-up\",\"now\",\"stone\",\"difference\",\"lived.\",\"weeping,\",\"garlands.\",\"fairy-like\",\"legends\",\"mad.'\",\"girl,\",\"much\",\"o'ercast\",\"reclining;\",\"pursued\",\"alone,\",\"few:\",\"plenty,\",\"still,\",\"to-night\",\"farmers\",\"hands,\",\"smooth-laid\",\"'it\",\"?\",\"dragging\",\"held\",\"salted.\",\"worlds\",\"light,\",\"tall,\",\"destination\",\"nausicaa,\",\"voice\",\"this?'\",\"underneath\",\"sky-high\",\"now-\",\"shadow\",\"weight\",\"bark,\",\"hours\",\"undone,\",\"briskly\",\"heroes!\",\"have\",\"has.\",\"'from\",\"trees\",\"tree\",\"interlock.\",\"night.\\\"\",\"yours.\",\"sit\",\"stock;\",\"aside,\",\"life.\",\"driven\",\"burden\",\"once.\",\"after.\",\"lifelike\",\"gone,\",\"sere;\",\"other,\",\"rude\",\"said,\",\"(oh,\",\"another.\",\"bat\",\"harm.\",\"goblet\",\"presence\",\"sky\",\"farm\",\"gathered\",\"hinder\",\"teased.\",\"him.'\",\"naiad\",\"motes\",\"run,\",\"covered.\",\"proof\",\"demon\",\"warren.\",\"rustle\",\"making\",\"word,\",\"tears-\",\"if\",\"gilt\",\"left,\",\"deathless\",\"toffile.\",\"libation\",\"without\",\"violet\",\"position\",\"sacrifice,\",\"'if\",\"slight,\",\"crown.\",\"then.\",\"then?'\",\"year\",\"since;\",\"aroused\",\"double\",\"against\",\"'too\",\"art\",\"light!'\",\"distinctly,-\",\"also\",\"box.\",\"pen\",\"forget\",\"pass,\",\"lord,\",\"shadows\",\"life-\",\"flooded\",\"guide,\",\"'twas\",\"mother:\",\"shelf.\",\"remembering\",\"knees,\",\"liking\",\"picked\",\"picking\",\"bewitched\",\"good,\",\"sometimes\",\"viola.\",\"wall\",\"flow\",\"mother\",\"ralle\",\"bones\",\"month\",\"light-\",\"horse.\",\"stairs.\",\"fly!-\",\"ears\",\"tent\",\"sword\",\"weir.\\\"\",\"death\",\"letter-box\",\"night.'\",\"glimpse\",\"fountain,\",\"you\",\"so\",\"rear'd\",\"region\",\"everything.\",\"sold\",\"arthur\",\"evermore,\",\"say,\",\"stay;\",\"faster\",\"spin.\",\"headless\",\"successful\",\"light!\\\"\",\"wither'd\",\"yellow,\",\"stay\",\"spoiled\",\"anyone\",\"mine,\",\"ridgepole,\",\"israfel\",\"smoking\",\"nodded.\",\"scarce\",\"ray.\",\"idol's\",\"fingers\",\"fold\",\"davis\",\"all\",\"here?\",\"control\",\"chalk-pile\",\"their\",\"beat\",\"twitter,\",\"wrong!'\",\"helping\",\"bird\",\"gallant\",\"\\\"she\",\"renewed\",\"now.'\",\"ice\",\"bard,\",\"felt-\",\"--\",\"level\",\"roll\",\"path.\",\"numerous\",\"lowes,\",\"satisfy\",\"foothold,\",\"the'\",\"mean?-\",\"men.\",\"verge\",\"miles\",\"slopes\",\"instead\",\"are\",\"dew\",\"scars\",\"swarm,\",\"universal\",\"village,\",\"weary\",\"wandering\",\"faces\",\"that\",\"look.\",\"even,\",\"suddenly\",\"wet\",\"hunters\",\"yankees?\",\"nova,\",\"replied-\",\"place.'\",\"withered\",\"raises\",\"dreams,\",\"mica\",\"girl;\",\"'let\",\"mouth-\",\"crystalline\",\"no\",\"had\",\"ascending\",\"october\",\"accursed\",\"guess\",\"unembodied\",\"show.\",\"linger!\",\"show\",\"place.\",\"hell\",\"'in\",\"say?\",\"john:\",\"mortal\",\"born,\",\"song;\",\"fill\",\"back\",\"wood\",\"mortgage.'\",\"thrilling\",\"let\",\"mountain.\",\"flake.\",\"often\",\"toffile,\",\"senescent,\",\"rests\",\"false.\",\"treat\",\"bidden\",\"time-eaten\",\"traveled\",\"'bout\",\"off\",\"paths,\",\"warn\",\"headboard.\",\"pole\",\"set\",\"ghastly\",\"bed,\",\"lone\",\"motor-cars,\",\"someone\",\"quarry\",\"things-\",\"rural\",\"went.\",\"forms\",\"lonesome\",\"inexperience.\",\"kissed\",\"lift\",\"sings-\",\"air.\",\"sight,\",\"enamored\",\"flying\",\"bodice,\",\"feathers\",\"it\",\"three?'\",\"days\",\"nature.\",\"roam\",\"mean\",\"cheering\",\"down;\",\"weeds\",\"him,\",\"worse\",\"voice,\",\"cousins,\",\"thatch\",\"entombed.\",\"softly\",\"bathtub,\",\"yourself;\",\"fervour\",\"green\",\"me?\",\"rouse\",\"gone\",\"alias\",\"wings,\",\"'button,\",\"money,\",\"else\",\"tree's\",\"higher\",\"gnaw\",\"still-\",\"weir-\",\"visions\",\"all.\",\"excitement\",\"off.'\",\"long-forgotten\",\"wind\",\"creaking\",\"bones?'\",\"consideration?\",\"bones.\",\"winter\",\"earlier\",\"youth\",\"sell,\",\"years\",\"here!\",\"her\",\"john's\",\"shake\",\"march\",\"know.'\",\"fortune.\",\"hence:\",\"track\",\"fifty-five,\",\"air!\",\"dalton\",\"(this\",\"stand.'\",\"times\",\"heart.\",\"swimming\",\"clear\",\"thee\",\"sunshine\",\"recognize\",\"throne\",\"look,\",\"or\",\"\\\"ulalume\",\"present\",\"alley\",\"pallid,\",\"married\",\"flickers\",\"why\",\"traveler,\",\"wrong,\",\"lips-\",\"meeting\",\"truth,\",\"door,\",\"starry\",\"pipe's\",\"presence.\",\"pairs\",\"direct\",\"lizard.\",\"dust.\",\"heavens,\",\"silvery-silken\",\"four\",\"welcomed\",\"farmhouse\",\"viol\",\"carried\",\"devoted,\",\"olden\",\"therein\",\"_can_\",\"seek\",\"till\",\"he'll\",\"feather-hammer\",\"grass-\",\"is.\",\"tin\",\"keeping\",\"redder\",\"geese\",\"swell\",\"evening\",\"sawdust\",\"glancing\",\"charge\",\"pens\",\"doll\",\"trailing\",\"arisen\",\"desperate\",\"recognize,\",\"business.\",\"inner\",\"year;\",\"october,\",\"in?\",\"stop.\",\"button,\",\"confusion.\",\"knees\",\"winds\",\"it.'\",\"shudder\",\"wanderers\",\"gold\",\"scultur'd\",\"trouble?\",\"cloud\",\"robinson,\",\"monolithic\",\"couldn't\",\"zealous\",\"invested\",\"hail\",\"over-\",\"relationship,\",\"know\",\"there.'\",\"doesn't\",\"witch's\",\"harper,\",\"further\",\"whereat,\",\"mistrusted\",\"hymn!\",\"highest\",\"smother\",\"pride!\",\"counts\",\"despair's\",\"days.\",\"enshrined,\",\"table\",\"there.\",\"to-day.'\",\"duty.\",\"shrines,\",\"babylon-like\",\"estelle\",\"growing\",\"cased\",\"roger's\",\"chill\",\"him.\",\"swellings\",\"paid\",\"fireweed\",\"stairs\",\"legended\",\"door.\",\"except\",\"grove\",\"crooked\",\"most\",\"flower's\",\"power.\",\"piled\",\"married-\",\"entombed\",\"broomstick,\",\"yellow\",\"far\",\"sioux\",\"mars\",\"bells\",\"undergrowth;\",\"oh!\",\"'going\",\"out:\",\"man's\",\"others\",\"heaven,\",\"pale\",\"kneel\",\"both\",\"cribber\",\"bearing\",\"clock\",\"waters\",\"son.\",\"'one\",\"gloom!\",\"counting\",\"others'\",\"lank,\",\"gun\",\"twice,\",\"ridgely\",\"oracle.'\",\"feather.\",\"and,\",\"deep-buried\",\"meet\",\"worship-\",\"suppose\",\"pieces\",\"simple\",\"jug.\",\"broken,\",\"joined\",\"remember\",\"lived\",\"wait\",\"mouth\",\"smells\",\"like:\",\"exclaimed\",\"same\",\"likely\",\"solemn\",\"shifted\",\"will\",\"castles\",\"knock.\",\"may,\",\"hide.\",\"hasten!-\",\"directions.\",\"blaming\",\"night-time\",\"auber\",\"utmost\",\"eden\",\"after\",\"sound's\",\"spirit\",\"he's\",\"talk,\",\"scoriac\",\"somewhere\",\"proclaimed\",\"size,\",\"roses'\",\"suspected\",\"chores\",\"among\",\"tells\",\"foreign\",\"maintained\",\"dropped\",\"of\",\"thirsty;\",\"fell\",\"turrets\",\"herself\",\"threshold\",\"always\",\"signify\",\"saying\",\"(ah,\",\"--all\",\"gone!\",\"facts\",\"there's\",\"outspread\",\"shut\",\"glass:\",\"hue\",\"valley\",\"letting\",\"them\",\"noted\",\"windows,\",\"demand.\",\"mistrust:-\",\"difference.\",\"sudden\",\"get\",\"be\",\"library-\",\"haunt\",\"jewelled\",\"too.\",\"silver\",\"they?'\",\"fraught\",\"master\",\"nation\",\"by.\",\"round.\",\"radiant\",\"heat!\",\"ordeal\",\"love's\",\"<s>\",\"gale\",\"guide.'\",\"backs.\",\"travellers\",\"watched\",\"united\",\"communing\",\"missing\",\"car?\",\"garden,\",\"brown,\",\"kiting\",\"house.'\",\"told-\",\"gives\",\"dispose\",\"wasted\",\"'not\",\"thrills\",\"sound\",\"runs\",\"crystal\",\"becoming\",\"kick\",\"alight.\",\"together\",\"hers\",\"blue;\",\"(silent\",\"prefer\",\"'so's\",\"ourselves\",\"donkey's\",\"little,\",\"once-\",\"for\",\"because\",\"rushes\",\"shouting.'\",\"(so\",\"grown-\",\"trains\",\"pecker-fretted\",\"'excuse\",\"certain\",\"wood,\",\"s'pose,\",\"sweep\",\"finger,\",\"is;\",\"colonial\",\"fallen\",\"dear-eye.\",\"resignedly\",\"fur\",\"see?\",\"sancta\",\"sweet,\",\"sea:\",\"tongue\",\"turning\",\"worst,\",\"nothing.\",\"birth.\",\"smart\",\"house\",\"lest\",\"weir.'\",\"we're-\",\"chalky\",\"earnest\",\"troubles\",\"upturn'd\",\"bolder\",\"brightly\",\"no,\",\"body\",\"leaves,\",\"admiring\",\"bed.\",\"fix\",\"airs.\",\"stronger,\",\"used\",\"remoteness\",\"way.\",\"strange.\",\"thine;\",\"stampede,\",\"wouldst\",\"flourish\",\"smith,\",\"virgin\",\"aren't\",\"instep\",\"deal\",\"upstairs;\",\"by,\",\"cake.\",\"psyche\",\"lean\",\"explain\",\"watchman\",\"'what\",\"burnt-\",\"shouted,\",\"(a\",\"beads-\",\"mourn,\",\"two.\",\"curl,\",\"verses\",\"scuttled\",\"unhallowed\",\"worm\",\"there,'\",\"shutter,\",\"pull\",\"hill.\",\"peeping\",\"path,\",\"grange.\\\"\",\"talk.'\",\"ask\",\"hands\\u2014\",\"will.'\",\"shouldn't\",\"bead\",\"monarch\",\"sorrow,\",\"mark.\",\"year!)\",\"birth\",\"redoubling\",\"men\",\"leaves\",\"slope;\",\"remaining\",\"primped\",\"(and\",\"achilles\",\"sultriness,\",\"stirred\",\"merely-\",\"broken.\",\"merrily\",\"guessed\",\"remained;\",\"john?'\",\"tarn\",\"impulse\",\"age:\",\"lizards\",\"starlight\",\"grail\",\"climbing\",\"thorn.)\",\"sign,\",\"plumed\",\"who,\",\"office\",\"wife,\",\"for\\u2014montreal?\",\"fior\",\"idled\",\"beast\",\"bathe\",\"word\",\"lost,\",\"are.'\",\"enchanted\",\"have)\",\"down\",\"own:\",\"echoes\",\"fate\",\"slippery\",\"one,'\",\"embalmed\",\"self-clear;\",\"suit-\",\"birth:\",\"truest-\",\"temptation\",\"star.\",\"folk.\",\"riddle\",\"slides,\",\"digger,\",\"think-\",\"fence\",\"killed\",\"for\\u2014\",\"wants\",\"checked;\",\"chimney:\",\"barrier\",\"champions\",\"--but\",\"though;\",\"intellectuality,\",\"ah,\",\"you,'\",\"heart-histories\",\"everyone\",\"morning:\",\"outdoor\",\"houri\",\"f\\u00eate\",\"written\",\"you.\",\"us,\",\"hangs\",\"wish\",\"(drear\",\"won't\",\"knows\",\"felt\",\"clad\",\"stirred:\",\"tumble\",\"grief,\",\"checked\",\"record\",\"say!-\",\"bleeding\",\"expecting\",\"published.\",\"until\",\"hoe\",\"friends?'\",\"side\",\"speaking:\",\"learned\",\"surely\",\"myself.\",\"out.)\",\"cosmic\",\"do?\",\"tremble\",\"mow\",\"maybe\",\"god's\",\"one.\",\"garden-gate,\",\"know?\",\"refuse\",\"nail\",\"when,\",\"appears.'\",\"trust\",\"'hadn't\",\"haven't\",\"hopes!\",\"strait\",\"desolate\",\"buggy\",\"half-past\",\"at.\",\"melody;\",\"(that\",\"banners\",\"seal\",\"moonlit\",\"sun;\",\"it!\",\"dreams.\",\"grows\",\"tell),\",\"wisdom\",\"joy,\",\"'see\",\"get.\",\"stretch\",\"lofty\",\"poetry\",\"life's\",\"judged\",\"rose\",\"we?'\",\"new-cut\",\"experts\",\"ladder\",\"woods-\",\"future\",\"well,\",\"prayer\",\"bones-\",\"angel\",\"hermon\",\"beloved\",\"trapper\",\"turns\",\"anything;\",\"comers,\",\"sun\",\"bones.'\",\"rule,\",\"'she's\",\"feel;\",\"'oho,\",\"ever\",\"throng\",\"being.\",\"care\",\"estelle's\",\"drag\",\"oh\",\"spread\",\"poems.\",\"lane,\",\"notes\",\"stifling\",\"bid\",\"barn\",\"said-\",\"within\",\"shatter\",\"panther\",\">from\",\"coops,\",\"trance\",\"abysses\",\"chimney,\",\"storm\",\"leak\",\"about?\",\"sad,\",\"purple\",\"warriors\",\"lay.\",\"age\",\"everything.'\",\"withering\",\"her?\",\"rock-strewn\",\"truth-\",\"baptismal\",\"dwelling\",\"bediamonded\",\"street\",\"me?'\",\"comes\",\"spoke\",\"throne;\",\"courting\",\"hour.\",\"(two\",\"found\",\"friend\",\"other.\",\"ago,\",\"hath\",\"cruel\",\"thousand\",\"stars\",\"soft-murmured\",\"story:\",\"splinters.\",\"twitch,\",\"(we\",\"entwine,\",\"range.\",\"pole\\u2014\",\"existence\",\"cypress,\",\"gaining\",\"saturn\",\"talk-talk\",\"'under\",\"hour\",\"\\\"the\",\"ere\",\"here's\",\"flowing\",\"favor\",\"goes\",\"night.\",\"yankees\",\"plate-glass\",\"absence\",\"tide\",\"west\",\"breeder,\\\"\",\"chisel\",\"children's\",\"listening\",\"door:\",\"flew\",\"strangely\",\"fire.\",\"girl\",\"crisped\",\"torch\",\"heaven.\",\"fine\",\"country\",\"black.\",\"were.\",\"slope\",\"many,\",\"again\",\"exist,\",\"kitchen\",\"</s>\",\"shook\",\"rights\",\"coast;\",\"bones,\",\"thrown\",\"drawn\",\"treasure\",\"shining\",\"broke\",\"reconnoitre,\",\"licked\",\"world,\",\"repose.\",\"dig\",\"death-\",\"deep\",\"law,\",\"'you\",\"lurched,\",\"seize\",\"glimpses\",\"mind,\",\"'which\",\"hence,\",\"sweetest\",\"luminous\",\"wizard\",\"new\",\"rage.\",\"cry\",\"pine,\",\"home.\",\"stir\",\"palace\",\"fever\",\"here),\",\"may\",\"paddle\",\"yet.\",\"starks,\",\"your\",\"village\",\"cards.'\",\"into?\",\"should\",\"hitching\",\"strain's\",\"thing,\",\"weir\",\"axe.\",\"sheets\",\"farm,\",\"graveyard\",\"nowadays\",\"common\",\"me.\",\"d'oro!\",\"stake\",\"her,\",\"slumber,\",\"purse.'\",\"hands.\",\"lovely,\",\"spring\",\"flame\",\"meet,\",\"having\",\"waterside\",\"miss.\",\"dreaming:\",\"tried.\",\"above\",\"save\",\"horny-handed\",\"henry\",\"daring\",\"far-off\",\"gnawing\",\"island\",\"thou:\",\"no!\",\"married,'\",\"alas!\",\"humble\",\"wildly\",\"fit\",\"weather.\",\"himself,\",\"years;\",\"mormons\",\"lizard\",\"passed\",\"answering\",\"sulphurous\",\"buried,\",\"cedar\",\"time\",\"bring\",\"appear\",\"granny!'\",\"unearthly\",\"out.'\",\"hell-for-leather.'\",\"tile\",\"diviner\",\"veil\",\"ago?\",\"mountain\",\"me.'\",\"them,\",\"walk-\",\"to-night!\",\"gems\",\"trillium\",\"god,\",\"pretend\",\"name's\",\"tender\",\"harder\",\"dite\",\"stint\",\"rain.'\",\"rid\",\"self\",\"meandering\",\"throne,\",\"heart\",\"moonbeam\",\"cupboard\",\"news.\",\"named\",\"lots,\",\"elsewhere.'\",\"ramparts\",\"right.\",\"destiny's\",\"cat's-cradle\",\"introduce\",\"theme\",\"plowed\",\"height,\",\"moments\",\"melancholy\",\"rain\",\"watches\",\"vision\",\"everybody\",\"flowers,\",\"hardly\",\"fervor\",\"'estelle's\",\"lady,\",\"marry\",\"bare,\",\"housework,\",\"hook\",\"crunching\",\"own,\",\"\\\"you\",\"bushes\",\"row\",\"gold,\",\"done.\",\"'\",\"gleaming\",\"thunder-cloud;\",\"wild,\",\"winged\",\"wilds-\",\"path\",\"enough.\",\"unblanketed\",\"seemed\",\"gate\",\"mistrust\",\"souls\",\"box,\",\"chance?'\",\"ended\",\"years:\",\"clearing\",\"work\",\"extended\",\"wire\",\"meaning\",\"robes\",\"ultimate\",\"alas,\",\"consideration.'\",\"load\",\"love!\",\"provision\",\"packing\",\"lay\",\"walk.\",\"gave\",\"done?\",\"bay\",\"dwelt,\",\"valleys,\",\"there.)\",\"knew,\",\"claiming\",\"one,\",\"relish\",\"struck\",\"glorious,\",\"someone's\",\"only.\",\"breathe\",\"sacred\",\"magical\",\"now,\",\"life?\",\"good-bye;\",\"neighbour?\",\"family\",\"seen.\",\"trying\",\"wrote\",\"him-\",\"'bad\",\"took\",\"defied,\",\"ready,\",\"wriggling\",\"climb\",\"cut-\",\"rolled\",\"town\",\"somewhere.\",\"perplexed\",\"lie.\",\"sing\",\"flow;\",\"knob.\",\"plumes\",\"tying\",\"ghost,\",\"drowned\",\"feeling\",\"does\",\"domes\",\"pound,\",\"me-\",\"sake,\",\"(whom\",\"blade\",\"let's\",\"couch\",\"ever.\",\"pathway\",\"who\",\"empurpled\",\"guide\",\"energy\",\"mad\",\"sere,\",\"reeled,\",\"halls\",\"fulfilled\",\"reply:\",\"'we\",\"grass,\",\"strolled\",\"property.\",\"sovereignty\",\"hung\",\"striven,\",\"faith-\",\"stately\",\"ill\",\"came\",\"stark,\",\"feet,\",\"riches\",\"hens\",\"gourd\",\"all,\",\"brush\",\"tug.\",\"swear\",\"words!)\",\"theirs\",\"sea\",\"fire,\",\"angel's.\",\"to-day?'\",\"footstep\",\"burning\",\"roses\",\"ulalume\",\"storm?\",\"cool\",\"melt\",\"heavy\",\"earth\",\"tempted\",\"stand\",\"looks\",\"here-\",\"earnest,\",\"poor\",\"too\",\"departed\",\"hideous\",\"magic\",\"she,\",\"rain?'\",\"luxuriating\",\"reason.\",\"bad,\",\"ancestral\",\"toppling\",\"light!\",\"wearing\",\"they'd\",\"'better\",\"adding\",\"grandsir's\",\"'d'you\",\"single\",\"it'd\",\"weakly\",\"wisest!\",\"town,\",\"furs\",\"huse\",\"tending.\",\"book\",\"tote\",\"cars\",\"am,\",\"throats!\",\"fancied\",\"dim\",\"grace,\",\"slept,\",\"work,\",\"mother.\",\"'to\",\"that?\",\"names.\",\"this.\",\"waterfall.\",\"revels\",\"enormous\",\"israfeli,\",\"million\",\"sorry\",\"'she\",\"laugh\",\"repeatedly\",\"tail\",\"room\",\"stark\",\"isle,\",\"hated\",\"choir\",\"dear,\",\"still;\",\"job.'\",\"got\",\"think,\",\"novelty,\",\"weak\",\"dust\",\"birds\",\"drop.\",\"old\",\"'nowhere\",\"torrence\",\"carry\\u2014if\",\"stay.\",\"seemed,\",\"trouble\",\"possessed\",\"about\",\"grain.\",\"my,\",\"float\",\"scintillant\",\"beauty,\",\"below\",\"inside\",\"dunnow!\",\"tower\",\"seraph\",\"bough,\",\"escaped\",\"doth\",\"device.\",\"made\",\"beyond\",\"'on\",\"you.'\",\"song),\",\"lair\",\"think\",\"us.'\",\"lie-\",\"looked\",\"poor,\",\"hiding\",\"vapors,\",\"world\",\"blind.'\",\"on;\",\"'as\",\"smile.\",\"passionate\",\"about.\",\"according\",\"sank\",\"bowed\",\"'yes,\",\"vine.\",\"for?'\",\"many.\",\"prove\",\"weren't;\",\"therefore\",\"duplicate\",\"cash\",\"army\",\"tongue:\",\"promised\",\"tremulous\",\"seems\",\"post\",\"primeval\",\"gracing\",\"unswept\",\"home,\",\"vast\",\"sunshine.'\",\"awful!\",\"icy\",\"i'm\",\"try.\",\"peals\",\"mistrust:\",\"woman,\",\"\\\"sadly\",\"been\",\"me\",\"familiar\",\"didst\",\"was,\",\"vow\",\"saved\",\"again.\",\"soaring,\",\"afterward.\",\"wrong.\",\"say:\",\"traps\",\"bedroom,\",\"full-length\",\"along,\",\"doubted\",\"lingered\",\"last\",\"befitting,\",\"bless\",\"horn\",\"happened\",\"'for\",\"enter.\",\"plunged\",\"hand\",\"tribe\",\"hidden\",\"splendor\",\"ear\",\"give.'\",\"human\",\"am\",\"write-\",\"something\",\"diverged\",\"chin-\",\"wherever\",\"paused-\",\"unruffled\",\"weir.\",\"burned,\",\"needn't\",\"different\",\"clouds\",\"two\",\"kitchen,\",\"six\",\"sell.\",\"sockets\",\"desolate!)\",\"wreathed\",\"stroked\",\"if.\",\"woodland\",\"'tell\",\"look-off\",\"\\\"let\",\"lion,\",\"staid\",\"flung\",\"hiss\",\"mother's\",\"looked-\",\"all-\",\"tended\",\"lost\",\"turn\",\"i'd\",\"monody\",\"married,\",\"living\",\"words\\\"-\",\"adown\",\"hay\",\"house,\",\"step\",\"floats\",\"avengers\",\"flower;\",\"looks.\",\"ranged,\",\"the\",\"water\",\"abode.\",\"playing.\",\"slave.\",\"expense,\",\"there\",\"takes\",\"esquimaux,\",\"shame!\",\"affairs.\",\"yield,\",\"isn't.\",\"that's\",\"palsied\",\"trembling\",\"french\",\"bakeshop\",\"raining.'\",\"grace\",\"muffled.\",\"beading\",\"fingers,\",\"governor\",\"farming\",\"flower\",\"mountains\",\"walked\",\"that,\",\"told!\",\"well-tuned\",\"spectre.\",\"related\",\"even\",\"morning-\",\"sky,\",\"bottle\",\"untidy\",\"a-bouncing\",\"blade.\",\"we'd\",\"grown\",\"stray!\",\"'but\",\"'that's\",\"take!\",\"\\\"weather\",\"foe,\",\"oh,\",\"shoes\",\"creases!\",\"say\",\"streams\",\"john,\",\"dim-remembered\",\"safely.'\",\"mean.\",\"ashes,\",\"rattle\",\"dormant\",\"misted.\",\"buy-\",\"owe\",\"ryan's\",\"fences\",\"yawning\",\"ancient\",\"seriously\",\"south\",\"mormon\",\"buttons\",\"ceasing\",\"accept\",\"sighs\",\"to?\",\"smarty\",\"equally\",\"filled\",\"desire\",\"adventurously.'\",\"strife\",\"wagon\",\"why,\",\"back?\",\"deep,\",\"\\\"ile's\",\"box!\",\"hast\",\"more,\",\"beaming\",\"before\",\"news\",\"'sadly\",\"eye,\",\"treading\",\"favour.'\",\"echoing\",\"beneath\",\"horrible\",\"souls,\",\"'he'd\",\"suddenly,\",\"fantastically\",\"bed:\",\"live,\",\"(as\",\"'don't\",\"sober\",\"tenanted,\",\"described\",\"ago)\",\"curtain\",\"horn-\",\"coming\",\"wear,\",\"papered\",\"wanted\",\"dallied,\",\"bulkhead\",\"gloom-\",\"rush\",\"sought\",\"oracle\",\"other\",\"crescent\",\"build\",\"songs!\",\"o'er\",\"towns\",\"offers\",\"these\",\"all:\",\"sighed,\",\"'nonsense!\",\"hand.\",\"air\",\"built\",\"very\",\"yard.'\",\"handrail\",\"slap\",\"company\",\"won't,\",\"come.\",\"trade,\",\"rejected.\",\"put\",\"birds,\",\"lethean\",\"all!'\",\"expanding\",\"doing\",\"flickering\",\"many\",\"suspicious\",\"extravagance\",\"spray;\",\"infant\",\"now:\",\"two?'\",\"finger-pieces\",\"o!\",\"'stride\",\"years.'\",\"door\",\"strings.\",\"here,\",\"dream\",\"swamp\",\"cold\",\"neighbours,\",\"stole\",\"bare\",\"queer\",\"field\",\"sprung\",\"eyes.\",\"paradise\",\"journeyed\",\"nothing\",\"unextinguished\",\"measures\",\"snow\",\"things)\",\"loved\",\"deep-\",\"thee?\",\"more.\",\"wentworth.\",\"come\",\"grew\",\"bliss\",\"of.\",\"here.\",\"dost\",\"lies\",\"books,\",\"feet.\",\"himself\",\"boughs\",\"thou\",\"beats\",\"merry\",\"secret\",\"whole\",\"lute-\",\"say.\",\"grafton\",\"stranger\",\"take\",\"garden\",\"overhead,\",\"words,\",\"tight\",\"pocket.\",\"half-way\",\"'stark?'\",\"is!\",\"bells!\",\"laces\",\"love-\",\"sell\",\"day.'\",\"sport.\",\"famous\",\"fairest\",\"apart.\",\"bill\",\"attend\",\"thrill\",\"dreaming\",\"surer\",\"wampum,\",\"daylight,\",\"repented,\",\"with.\",\"peering\",\"fight\",\"'you've\",\"hew\",\"fibrils\",\"brittle\",\"sleep,\",\"tumultuous\",\"close.\",\"must,\",\"too,\",\"vacuum\",\"imagine\",\"where's\",\"bank\",\"orchid\",\"calypso.\\\"\",\"forward\",\"bleak;\",\"peace\",\"went\",\"amy\",\"rig\",\"allowance.'\",\"closing\",\"mustn't\",\"soul,\",\"perfumed\",\"down.'\",\"utterance\",\"star-dials\",\"color\",\"'who'd\",\"perhaps,\",\"object-\",\"she'll\",\"books.\",\"upturn'd-\",\"fervently\",\"ripple\",\"settle\",\"he\",\"serenest\",\"lifts\",\"taus\",\"ulalume!'\",\"boston\",\"grass?\",\"bearings,\",\"jupiter.\",\"like\",\"'why\",\"wander\",\"good-looking\",\"reins\",\"off?\",\"man.\",\"ain't\",\"glide\",\"acquainted\",\"unknown\",\"bodies\",\"intense\",\"leg\",\"love-light,\",\"worse.'\",\"'huh,\",\"(nine\",\"unafraid\",\"safe\",\"child.\",\"helpless\",\"years,\",\"starks\",\"gazing,\",\"'company?'\",\"girdle\",\"yaanek\",\"piece\",\"blue\",\"token\",\"ashes\",\"might\",\"something.\",\"spirits\",\"loving\",\"descended\",\"was\",\"talking\",\"held-\",\"leads\",\"said.\",\"saying,\",\"gather\",\"folk\",\"joy\",\"israfel,\",\"then\",\"thine!\",\"upside\",\"hear.'\",\"itself\",\"shelf,\",\"silently\",\"earth?\",\"steps\",\"great,\",\"sunny\",\"worse.\",\"go;\",\"can.'\",\"manner\",\"sure's\",\"pushed\",\"belong,\",\"thee;\",\"love\",\"getting\",\"owing\",\"who-\",\"keeps\",\"vulture,\",\"stock?\",\"silent\",\"yelp\",\"could!'\",\"besides-\",\"case,\",\"god-\",\"was.\",\"eighty-five.'\",\"breathe.'\",\"'one!'\",\"pit\",\"seven\",\"wet,\",\"pipe\",\"while,\",\"studying\",\"weather,\",\"agreed\",\"not!\",\"furniture.\",\"cottages\",\"copy-\",\"fit-\",\"thoughts\",\"case?'\",\"longer\",\"ne'er\",\"people's\",\"hole\",\"it,\",\"misting;\",\"time.\",\"up\",\"(i\",\"mossy\",\"skiff\",\"warren\",\"listen.\",\"she'd\",\"expense\",\"city,\",\"any\",\"trouble.\",\"especially\",\"opening\",\"salt\",\"snow!\",\"'cross\",\"here\",\"reach\",\"her?'\",\"have,\",\"vines?'\",\"worn\",\"daughters.\",\"mist\",\"evening,\",\"stop\",\"talk\",\"kinsman,\",\"cottage\",\"whether\",\"grandchildren.\",\"partial\",\"greenest\",\"story\",\"strength\",\"back-\",\"hint\",\"emptied\",\"godliness\",\"bloom.\",\"feat\",\"stir,\",\"interest\",\"laurels\",\"dust-\",\"sometime\",\"crowd\",\"sun!\",\"times.\",\"year's\",\"did\",\"cock,\",\"bent\",\"sad\",\"valley,\",\"-\",\"son\",\"remind\",\"eyes.)\",\"unbridled\",\"sorrow!\",\"mockery\",\"barrel\",\"wet-elbowed\",\"chandelier.\",\"heed\",\"unusual\",\"o\",\"more\",\"due\",\"hardest\",\"dark)\",\"by-road\",\"awake\",\"strung\",\"\\\"dew\",\"steered\",\"leave,\",\"well\",\"closes\",\"eternal\",\"saw\",\"tourist.\",\"spend\",\"make-believe.\",\"blue,\",\"move\",\"thence\",\"real\",\"time?'\",\"him;\",\"free\",\"surprised\",\"wilderness\",\"sky.\",\"gloom\",\"song\",\"lore\",\"many-\",\"dian:\",\"property.'\",\"richer,\",\"inquired.\",\"rivers\",\"year-\",\"us-\",\"wrong\",\"golden\",\"moon,\",\"genealogy\",\"boss.\",\"to\",\"sun's\",\"in,\",\"mother?\",\"yes,\",\"they?)\",\"figures\",\"skies-\",\"be,\",\"\\\"well\\u2014i\\u2014be\\u2014\\\"\",\"trap\",\"can\",\"hurried,\",\"midnight;\",\"banked\",\"wantonest\",\"object)\",\"thought's\",\"long!\",\"light.\",\"ages\",\"noon,\",\"wheels\",\"wide-open\",\"poured\",\"london.\",\"full-orbed\",\"wash\",\"few\",\"blowing\",\"hear?\",\"melody\",\"we're\",\"pole.\",\"more-\",\"tar\",\"pure\",\"drinking\",\"see?'\",\"doubts\",\"rightly,\",\"promises\",\"off,\",\"sort\",\"gigantically\",\"wear\",\"early\",\"attempting\",\"seats\",\"friends,\",\"loom\",\"next\",\"pair\",\"voted,\",\"tone\",\"kind,\",\"hudson's\",\"leases\",\"rattling\",\"intertwine\",\"back.\",\"storms-\",\"landing,\",\"stroke\",\"accounts\",\"dark.\",\"big\",\"paint,\",\"long\",\"almost\",\"stove\",\"stripped\",\"everything\",\"owned\",\"is.'\",\"gushing-\",\"him?\",\"less\",\"only-\",\"drink\",\"something-\",\"thrones,\",\"presume\",\"snow.\",\"troop\",\"worship\",\"granny,\",\"chains\",\"head.\",\"alone.\",\"own?'\",\"angels\",\"means\",\"gloom;\",\"reascend.\",\"fair\",\"viewing\",\"day!\",\"called\",\"revolving\",\"langshang\",\"respect\",\"budded\",\"long,\",\"volcanic\",\"mother,\",\"creatures,\\\")\",\"tomb\",\"up,\",\"downstairs\",\"font\",\"hid\",\"would\",\"spells\",\"hot\",\"old,\",\"motionless\",\"footsteps\",\"care-\",\"overflow,\",\"high\",\"hoed\",\"pause\",\"hurt\",\"angelic\",\"'well\",\"sew:\",\"titanic,\",\"sill-\",\"tip\",\"reply\",\"lying\",\"luxuriant\",\"lion\",\"we'll\",\"darkly\",\"parterre,\",\"king.\",\"cheeks,\",\"en\",\"spheres!\",\"soul.\",\"can't\",\"you-\",\"skin\",\"tatters\",\"deem\",\"upstart\",\"duty\",\"flock\",\"separate\",\"sybilic\",\"\\\"where\",\"suffice.\",\"flowers.\",\"happen\",\"defeat\",\"matter\",\"indians\",\"bill-\",\"enchanted!)\",\"do.\",\"afraid\",\"entombing\",\"better\",\"brought\",\"whined.\",\"liked\",\"auber-\",\"pearly\",\"tangle\",\"left's\",\"out!\\\"\",\"baby:\",\"those\",\"first.\",\"robinsons.\",\"(with\",\"bottle,\",\"cane\",\"pendulous\",\"family.\",\"rare\",\"strove\",\"climbed\",\"much.\",\"surest\",\"told\",\"alone\",\"since\",\"halted\",\"wentworth\",\"his\",\"church\",\"gratitude\",\"everything,\",\"sculpture\",\"find?\",\"they've\",\"anywhere\",\"that?'\",\"you're\",\"trailed\",\"memories\",\"coat\",\"sleep\",\"hoary\",\"thinking.\",\"sigmas\",\"milk\",\"perhaps.\",\"lifting\",\"bloomed\",\"lo!\",\"sounds\",\"terminates-\",\"should,\",\"sunday\",\"cedar.\",\"ready\",\"spare\",\"toffile\",\"summoning\",\"said\",\"place\",\"cherish\",\"land\",\"yourself\",\"hall.\",\"either.\",\"down.\",\"courage\",\"riding\",\"stones\",\"flower-enameled\",\"lid\",\"foot\",\"likes\",\"smiled\",\"across\",\"ulalume-\",\"glow\",\"jug-\",\"force\",\"forgot\",\"potatoes\",\"tone,\",\"deep-toned\",\"staying\",\"can't.'\",\"mistrust-\",\"sat\",\"'can't\",\"lighting\",\"ungodly\",\"rested\",\"immemorial\",\"tree.'\",\"idleness.\",\"gone-\",\"common-\",\"nails.'\",\"mind\",\"bullets.\",\"mystery\",\"friends.\",\"lines,\",\"morning\",\"go\",\"lit\",\"wrongs!\",\"poetess\",\"mountains-\",\"match\",\"stands\",\"slowly\",\"end\",\"across,\",\"wide\",\"disturbed\",\"me,\",\"dominion\",\"twenty-five\",\"empty.'\",\"blandishments\",\"baileys,\",\"cross-legged,\",\"best,\",\"rolls\",\"hope\",\"i\\u2014'\",\"wrought\",\"be-\",\"tinkling\",\"replied\",\"dreams\",\"walls\",\"mountains,\",\"gorgeous\",\"anyway\",\"ought\",\"attic.\",\"odorous\",\"cast\",\"whirling\",\"things,\",\"fate,\",\"fathom\",\"'four\",\"ten\",\"lute\\\";\",\"name,\",\"stopping\",\"wrapper\",\"falls\",\"them-\",\"iron\",\"barkless\",\"ain't'),\",\"chicamoztoc,\",\"shattered\",\"air,\",\"happens\",\"cellar.\",\"one\",\"loudly\",\"cried-\",\"trembled\",\"jerk\",\"ambition;\",\"right,\",\"mien.\",\"lap.\",\"before.\",\"run.\",\"warm\",\"fountain.'\",\"youthful\",\"day,\",\"planets\",\"enough,\",\"\\\"whose\",\"through\",\"beaded\",\"uncomfortably\",\"stumps\",\"give\",\"window\",\"estelle?\",\"warmer\",\"stove.\",\"one's\",\"gaunt\",\"born\",\"whose\",\"bushy\",\"conies\",\"kindness.\",\"bud-inspecting.\",\"complain.\",\"towers\",\"peas.\",\"this\",\"here?\\\"\",\"listened\",\"himself-\",\"snows.\",\"miles.\",\"surpassing\",\"stirred,\",\"he'd\",\"doors\",\"passing\",\"knock!\",\"curving\",\"seven,)\",\"fair,\",\"broad-board\",\"where\",\"three.\",\"aright,\",\"gap\",\"tell;\",\"marked\",\"rains?\",\"\\\"it\",\"learned.\",\"('you\",\"estelle;\",\"forgot,\",\"feared\",\"enough:\",\"two-thousand-mile\",\"died--\",\"low\",\"neither\",\"mosses\",\"fast.\",\"art!\",\"ruled\",\"aftermath,\",\"bet\",\"ahead\",\"cannot\",\"dissyllables-\",\"tree?\",\"name.'\",\"obscured\",\"beadwork\",\"river\",\"to-morrow,\",\"wo\",\"off.\",\"began\",\"stricken\",\"interrupted\",\"axis,\",\"was)\",\"straight\",\"shivery,\",\"humanity-\",\"loveless\",\"prize\",\"ears.\",\"comfort.\",\"stir.\",\"marshall,\",\"celebrating\",\"ancestry,\",\"good.\",\"sleep.\",\"daylight.'\",\"spot.\",\"skeleton.\",\"fresh\",\"dragged\",\"didn't\",\"speak\",\"gaily-jewell'd\",\"roof\",\"laid\",\"ground\",\"fond,\",\"makes\",\"mighty\",\"deserted.\",\"lets\",\"lustre\",\"found.\",\"around\",\"doubtless\",\"cock-\",\"terror\",\"fountains\",\"natural?\",\"hope!\",\"bear\",\"enwritten\",\"palace,\",\"situation\",\"fought\",\"correct\",\"quarrel\",\"devoted\",\"bland\",\"right\",\"chimney's\",\"bedroom\",\"dry-shod\",\"ecstatic\",\"uplifted\",\"half\",\"subsides\",\"harness\",\"downstairs.\",\"troubling\",\"carry\",\"myself\",\"piano's\",\"science!\",\"satisfied\",\"wake\",\"ours.\",\"easy\",\"mile,\",\"sinking,\",\"truth.\",\"root\",\"night,\",\"away\",\"desert.\",\"silence\",\"see!-\",\"chose,\",\"tell\",\"leaf's\",\"time's\",\"opening,\",\"hymns,\",\"mebbe\",\"sign\",\"continually\",\"detail,\",\"hall,\",\"wonted\",\"awake!\",\"strain,\",\"you'd\",\"purse.\",\"things\",\"pretty\",\"heel.\",\"and\",\"morrow\",\"diamond\",\"voices.'\",\"nature?\",\"soul-and-body\",\"life\",\"pity,\",\"above,\",\"children.\",\"piercing\",\"melody,\",\"fifteen\",\"mother.'\",\"ridiculous.\",\"smile\",\"swamp,\",\"lifted\",\"sorrow,)\",\"supposed\",\"'two\",\"grass.\",\"flight,\",\"hoping\",\"dull\",\"herself.\",\"burned\",\"repining\",\"unimpassioned\",\"night-\",\"from.\",\"year,\",\"sailing\",\"tamarind\",\"threw\",\"'is\",\"within:\",\"easier\",\"rivulets\",\"crooking\",\"wasn't\",\"perish\",\"her.'\",\"trodden\",\"buried\",\"--reared\",\"ideas\",\"keep.\",\"odd\",\"ah!\",\"listen,\",\"chicken-time.\",\"friends.'\",\"headboard\",\"down,\",\"instant\",\"hog\",\"seated,\",\"journey\",\"thither,\",\"sitting\",\"builder,\",\"dent\",\"more!\",\"not.\",\"on\",\"grave\",\"sleeping\",\"son!\",\"thought,\",\"mid\",\"ideals,\",\"star\",\"statement\",\"unhouse).\",\"heard\",\"button-box-\",\"moisture\",\"descent.\",\"cock\",\"day\",\"upon\",\"reconciled\",\"that-\",\"that.\",\"\\\"isola\",\"rangers\",\"laborious\",\"twice\",\"slightly\",\"home\",\"light)\",\"oil\",\"narrow\",\"that'd\",\"best\",\"ghoul-haunted\",\"make\",\"dreadful\",\"profanation,\",\"sigh,\",\"him\",\"tunnel\",\"plumage\",\"resurrected\",\"failed,\",\"morn-\",\"o'clock.\",\"slow\",\"sand\",\"may.\",\"visions-\",\"realm\",\"cart\",\"acquaintance\",\"hell,'\",\"feel\",\"fanes\",\"pearl\",\"'i'm\",\"broken\",\"lately\",\"hear\",\"mowing\",\"soul\",\"box\",\"arctic\",\"heard!'\",\"woman\",\"outstretched,\",\"nebulous\",\"up.\",\"electric\",\"eyes-\",\"brushing\",\"in\",\"sighs:\",\"joe,\",\"cows\",\"harpstring\",\"ours\",\"myrtle,\",\"masse\",\"groans\",\"better.\",\"faded\",\"harm\",\"she's\",\"t'\",\"stairs,\",\"outdoors-\",\"levin\",\"again\\u2014\",\"isle\",\"course,\",\"together,\",\"great\",\"ways\",\"tiptoe-\",\"pigs\",\"scurf\",\"pumps\",\"irreverently\",\"moon\",\"likeness\",\"groping\",\"springs\",\"soon\",\"halting\",\"night!\",\"hourly\",\"organ.\",\"(which\",\"thou,\",\"elysian\",\"it:\",\"to-day,'\",\"gave.\",\"glacier\",\"remember-\",\"piano\",\"i-dea,\",\"return\",\"is,\",\"poet's\",\"vines-\",\"i'll\",\"dead\",\"eat\",\"follow\",\"realms\",\"drop\",\"just\",\"flight\",\"waves\",\"must.'\",\"here:\",\"'aren't\",\"pays.\",\"though:\",\"sere\",\"face.\",\"levante!\\\"\",\"below,\",\"childishness\",\"victories\",\"hampshire\",\"verdant\",\"deserves\",\"with\",\"fist\",\"bow,\",\"what\",\"help;\",\"vase\",\"january\",\"quietude,\",\"head\",\"queenly\",\"by\",\"'t\",\"rock\",\"battle\",\"shrill\",\"dear\",\"wherewith\",\"housework\",\"hard\",\"lonely\",\"trees.\",\"dank\",\"entertain\",\"resemble\",\"pairing\",\"descend\",\"consult\",\"cellar\",\"anyone-\",\"wild\",\"birch\",\"sanctified\",\"descent\",\"dry\",\"talked-of\",\"look-\",\"note\",\"passport\",\"ground,\",\"faith\",\"fly!\",\"grew.\",\"length,\",\"gained\",\"town.\",\"seen\",\"ghost\\u2014\",\"dishes\",\"someday\",\"isles\",\"good\",\"mute.\",\"dwell\",\"'what's\",\"\\\"what\",\"open\",\"hears\",\"clothes\",\"publisher\",\"building\",\"endless\",\"signs\",\"first\",\"fade,\",\"woods'\",\"downy\",\"uncommonly\",\"burns\",\"bred\",\"eyes\",\"hate,\",\"horse\",\"gentle\",\"blend\",\"nearest\",\"flatness\",\"people\",\"daughter\",\"strange\",\"restless\",\"regard\",\"sap\",\"tall\",\"estate;\",\"do,\",\"help\",\"floor\",\"'a\",\"judgment.\",\"woes\",\"read\",\"john\",\"star?\",\"ivy\",\"see-\",\"behind\",\"i\",\"least\",\"hillside\",\"receipted.\",\"frost\",\"second\",\"whence\",\"tried\",\"now.\",\"though.\",\"seasons.\",\"tyranny's\",\"rained\",\"step,\",\"vigor.\",\"gall.\",\"aright-\",\"thaw\",\"poem.\",\"else,\",\"past\",\"blew\",\"fervid,\",\"all!\",\"charms\",\"timber\",\"murmured\",\"lot\",\"creation\",\"'i'll\",\"crust\",\"beast's\",\"cut\",\"always.\",\"perhaps\",\"henceforth\",\"through.\",\"card-\",\"hill,\\\"\",\"eddy\",\"business\",\"sun-\",\"lately?\",\"lead\",\"speaking\",\"posture\",\"rays\",\"written,\",\"ploughed\",\"from\",\"'who\",\"original\",\"hens:\",\"heart-strings\",\"another,\",\"wonder\",\"loss,\",\"scene\",\"windowsill,\",\"gnaws\",\"alterest\",\"gift\",\"unfettered,\",\"pass\",\"palaces,\",\"o'clock\",\"need\",\"surely.\",\"undaunted\",\"going\",\"crystalline,\",\"ashen\",\"sink\",\"pall-\",\"son:\",\"sake!'\",\"houses\",\"anything\",\"'just\",\"besides,\",\"resembles\",\"true\",\"transfixed\",\"dinners,\",\"die,\",\"quenching\",\"arch\",\"ground.\",\"past,\",\"strapping\",\"axe\",\"hadn't\",\"good-bye\",\"begin\",\"how\",\"heart,\",\"place,\",\"lantern,\",\"chance\",\"witch:\",\"former\",\"into?'\",\"pinion\",\"starkness.\",\"though,\",\"holes\",\"barb\",\"serve\",\"dollars\",\"meals\",\"hen!\",\"misty\",\"shift\",\"vault\",\"riders,\",\"thicken\",\"folks\",\"toffile:\",\"saved,\",\"round,\",\"call\",\"slower\",\"destruction\",\"picture,\",\"turned\",\"unthought-like\",\"brave,\",\"hazes\",\"spell\",\"'where\",\"sense\",\"mask\",\"journeyed-\",\"when\",\"bricks,\",\"nose\",\"'well,\",\"fond\",\"white,\",\"mustn't.\",\"talk.\",\"mount\",\"outsiders.\",\"dared\",\"out,\",\"above.\",\"in-\",\"digged.'\",\"double-doors\",\"turret-tops\",\"mad.\",\"shrine\",\"doubling\",\"could\",\"witch.\",\"desolately\",\"worry\",\"outwalked\",\"mounted\",\"overflowing\",\"tail,\",\"alder\",\"fault\",\"eyes,\",\"picture\",\"sinner's\",\"glad.\",\"thing\",\"own\",\"fast\",\"are.\",\"shivering\",\"slid\",\"important,\",\"worth\",\"ends:\",\"greatly\",\"trouble's\",\"trade\",\"mount-\",\"oho!'\",\"hyacinthine\",\"left\",\"seraphic\",\"red-litten\",\"purified\",\"path-\",\"outer\",\"window,\",\"gets\",\"stars,\",\"nor\",\"western\",\"avail,\",\"distinct\",\"soared\",\"something!\",\"amy's\",\"expired\",\"died\",\"lajway.\",\"entranced,\",\"arms\",\"ecstasies\",\"truant\",\"floors.\",\"forth\",\"than\",\"please\",\"screen:\",\"incense\",\"forgive\",\"want\",\"'quick\",\"choked\",\"who's\",\"needed.\",\"we\",\"throats\",\"demand\",\"imported.\",\"send\",\"polish\",\"bird,\",\"sprout-lands\",\"dialect.\",\"motto\",\"maiden\",\"'do\",\"though\",\"light\",\"must\",\"frenzies\",\"double-locked\",\"twilight\",\"go-\",\"not,\",\"fair.\",\"lapish.\",\"kinder\",\"wildest\",\"smash.\",\"witch?\",\"bush\",\"you'll\",\"sweetly\",\"kingly\",\"touch\",\"disturbed,\",\"breath\",\"forty\",\"giddy\",\"harp-string\",\"finger\",\"crutch,\",\"evil\",\"sills\",\"stark.\",\"wouldn't\",\"mess?\",\"grandsir\",\"content\",\"children\",\"inscription\",\"times;\",\"push\",\"stillgoing\",\"eyes.'\",\"to!\",\"do:\",\"see.\",\"mallice\",\"walls,\",\"same,\",\"loved?-\",\"'don't!\",\"you?'\",\"ruby\",\"solid\",\"jam,\",\"treacherous\",\"front\",\"belilaced\",\"passport.\",\"utter.\",\"cold,\",\"striven\",\"son,\",\"orbs,\",\"brook\",\"uttered\",\"windbreak\",\"incredulous\",\"sorrowfully\",\"rode\",\"clear,\",\"odor\",\"shoulders,\",\"glass\",\"himself.\",\"words-\",\"yesterday\",\"spoke,\",\"being\",\"sure\",\"i,\",\"start,\",\"still\",\"say-\",\"holy\",\"room,\",\"heard?\",\"law\",\"confusion\",\"grave.\",\"another\",\"conceal\",\"blushed\",\"disappeared\",\"pride\",\"verified\",\"raised\",\"roared\",\"ominous\",\"undivided\",\"'shut\",\"lupine\",\"money\",\"pointed\",\"ruler\",\"come,\",\"joints,\",\"threatener\",\"far.\",\"cliff\",\"temples\",\"either\",\"remembered\",\"claim\",\"god!\",\"seeking\",\"corner\",\"covers,\",\"atmosphere.\",\"see\",\"lie\",\"witch\",\"pick\",\"i've\",\"attic.'\",\"heaven-\",\"raspberry\",\"old-believers.\",\"says\",\"round\",\"marble\",\"fervent\",\"fear\",\"not\",\"maria!\",\"fabric\",\"singing\",\"nothing's\",\"horn.\",\"north\",\"tended:\",\"kind\",\"hope-\",\"rocks\",\"swept\",\"!\",\"blotting\",\"faced\",\"emotion,\",\"grave.'\",\"money.\",\"literally\",\"fur.\",\"moosilauke,\",\"'take\",\"it's\",\"unprotected\",\"know,\",\"balancing\",\"of.'\",\"wilder,\",\"almost,\",\"full\",\"happier,\",\"sobbed,\",\"happy\",\"withdrawing\",\"hill,\",\"perfect\",\"wasps\",\"fall\",\"meddle\",\"movement\",\"each\",\"through,\",\"swift.\",\"assailed\",\"scenes\",\"use\",\"lave\",\"ran\",\"lane.\",\"\\\"this\",\"be.\",\"its\",\"strange,\",\"paused\",\"faces.\",\"'be\",\"unretrieved.\",\"hours,\",\"pegged,\",\"make-believe,\",\"boast,\",\"shut,\",\"sister,\",\"particular\",\"ride.\",\"pity\",\"holding\",\"along\",\"laughed\",\"case.\",\"plants,\",\"blow\",\"away.\",\"lyre\",\"settlement\",\"pacified\",\"plain\",\"swish\",\"kept\",\"'and\",\"happier\",\"meridian\",\"'i\",\"husband\",\"followed\",\"station.\",\"folks'\",\"an\",\"run\",\"otherwise\",\"nailed.\",\"myrtle\",\"door-sill\",\"dissolved,\",\"up.-\",\"band-music\",\"minute\",\"passer\",\"strands\",\"wave\",\"three\",\"cliff,\",\"were?'\",\"restlessly\",\"curl\",\"granny\",\"neck,\",\"stock\",\"snow,\",\"side,\",\"news,\",\"standing\",\"some\",\"knew\",\"duty-\",\"charred\",\"end,\",\"most-\",\"transforming\",\"blushes\",\"hurry?\",\"pay\",\"roamed\",\"warren's\",\"hill\",\"graves\",\"writer\",\"brain\",\"she\",\"o'er,\",\"speel\",\"gone;\",\"longer.\",\"tones,\",\"see,\",\"song!\",\"thy\",\"nine:\",\"surprise\",\"dough.\",\"finding\",\"captain's\",\"hinted\",\"coasting\",\"there!\",\"legs\",\"bareback\",\"hold\",\"shelf's\",\"suggest\",\"virtue-\",\"july\",\"quickening\",\"someone,\",\"sends\",\"it.\",\"between\",\"suspect-\",\"year.\",\"courts\",\"over,\",\"case\",\"summer,\",\"in'\",\"leave\",\"tear\",\"tears\",\"together-\",\"decently\",\"died.\",\"sweet\",\"idea.'\",\"(porphyrogene!)\",\"weep\",\"flower.'\",\"fifty\",\"heat\",\"to.\",\"golden,\",\"rug\",\"whom,\",\"luminary\",\"warrant\",\"near\",\"bobbed,\",\"it;\",\"roads\",\"furthest\",\"enkindle-\",\"john.\",\"recent\",\"defied\",\"improve\",\"tyrant\",\"tomb;\",\"train\",\"live\",\"dawn\",\"ocean\",\"keep\",\"(though\",\"'strangely,\",\"one:\",\"plan,\",\"discordant\",\"attic,\",\"roll-\",\"soft\",\"cellar-stairs\",\"since.'\",\"her.\",\"glory\",\"climes\",\"reckon\",\"leaf,\",\"grape\",\"removed.\",\"bill.'\",\"reeve\",\"father\",\"tempting\",\"swollen\",\"every\",\"gentlest\",\"dark\",\"dread\",\"err.)\",\"them.\",\"fire\",\"midnight-\",\"lip-begotten\",\"sing,\",\"di\",\"hands\",\"finished\"],\"x\":[0.7366638509117887,1.269498575108706,1.1649850394173709,1.030762942802315,0.49158124665544295,0.7604912684288303,0.9776766900580431,0.8990007463830931,6.910912265186969,0.982253598473162,0.67835573359442,1.9835665337971775,0.6979752984505418,0.634923514130345,1.1643140135748626,0.5819459882405743,0.36012721464804637,0.9811791556788021,0.4224391926701227,0.6809216633106684,4.0367867891909635,0.7757756927510868,1.2859096935522638,0.9802469629813062,0.7514364024971254,0.7731645485197162,1.63551568289073,0.96353266366639,0.9001437374943955,0.6949809894284555,0.4923614740494648,0.8326858383630104,1.0995816956143265,1.5549164578115366,0.860545839697048,0.621794825282914,0.725939872174953,0.8664239087716568,2.4099537043923176,4.874675901530851,1.0113598939109334,4.250181220852751,0.7578248836114939,0.9858081049529097,0.7458105974953216,0.8186127957925462,0.5429891625872026,0.8443693028501833,0.6728409465548418,0.8684279022603051,1.0545609370972047,0.9312000872206394,1.7142741007912845,0.7904307850515906,1.5778543194886454,1.1733416953445954,0.8396701472555748,1.366766037034287,2.1730886764510315,0.317177669972582,1.3439558640214668,0.8920386089073613,1.0563794723099948,2.2327276764879715,1.6049136640853956,0.6827807159817652,0.7696162246111115,0.9786274795597175,0.7410644307441523,0.7186968877339419,0.8502179225947475,2.157096805855358,1.1368665254445411,0.5111615690617497,0.7563209423658903,0.7647892552725737,0.7769290942610916,1.5168152740972318,0.930732406260192,0.8315055665744173,0.48269775871888043,1.2570962313339527,1.3919521098971064,1.067052755787082,0.8388604409343001,0.7806142180009502,0.183825617386987,1.0815228843033147,0.4120586579198735,0.6736814523539685,0.8537313571953611,1.2031994696920751,0.8554780319323192,1.164526885807186,0.4851531640707015,0.970624406852073,0.9537311223339748,0.9266497001609935,0.7183477382714987,3.055242863499462,1.0822103858657968,0.6633810659502274,0.8039059318908477,0.7980534277610237,1.082672887724779,0.6358867243136898,1.0456124900550532,2.146126113533141,1.1661478987520488,1.7906785739067475,0.7101668371973999,0.6001392653912861,0.5535477423580427,0.5270557342308513,0.5092205400158254,0.6721285078324213,0.7610175662022374,1.3728876925415419,0.9704845321674115,0.7076517342547635,4.388709859790232,0.35742046002226724,0.9061156409924866,0.773717722425801,0.5502516096616756,1.5493355386535288,0.46698546239611816,1.632235586021558,1.0625974499307445,5.313298207427891,0.9093532441303991,0.8040518784073603,0.5584285794138244,4.299080921135003,0.502993715136149,1.029137628988441,0.8488537477284506,0.5541067127235126,1.1841628632440409,0.9698619588208965,0.46815275367874354,0.8228112513849362,0.5734443467862879,0.9113240224719932,0.7925367931340682,0.8174953678902487,0.8000830204847438,1.1579052290072203,1.136454794705288,0.9350914133129133,1.6397770558184075,0.7132365944479271,1.5366521990102824,0.48902137478539004,0.8979056718680025,0.9796803134324711,0.8888841575769768,0.6788876787947137,7.948155898019951,0.7500121718690769,0.6698670085427588,0.9379876168078496,0.6076315368818658,1.229266257961638,1.0299595548803417,0.7947798868382625,0.9146223273374975,0.8776083379258917,1.9312943114404444,0.9476433346209441,0.47963693324878237,0.7672524774070288,0.9601010228602218,0.9597298258875486,1.3995835365602651,4.02345497898286,0.8713527096123085,0.749569456681854,0.8726434587609404,0.7871465446899344,0.9985659560115623,0.7239230385237314,0.5366432281499367,4.086562720739412,1.4212986583296021,0.43383440746551055,5.826459883951179,1.18992253828069,0.8473626265062832,0.916916622423041,2.6285273694790723,0.6734315878398065,3.4314337041889758,0.8327419529110935,0.8074880530179454,0.644927958372305,0.8132032811819292,0.7002564747536087,0.631760446059918,0.7454533389578313,1.0563385049139955,0.8190395318042438,1.0823148191378533,2.512438683177677,0.9904492176257711,0.5296310832403287,1.2517831851892975,0.8782579870185723,2.060714263184785,0.962985649140758,0.8852929618429501,1.100404612085865,0.9496602209600531,0.616766640801771,0.8929425233778515,0.7004317085563997,0.6878585426105535,0.5838613879541967,0.875107631520148,0.4188116434743735,1.1613819034855668,1.0159355160780101,0.5052440935949325,1.2995539813614845,0.7986525851668033,0.9243639809206323,0.8167502039140423,0.6188943413236665,0.49137680557292346,0.9824212503780791,1.0288325520065722,0.886467465789929,1.2048110664317129,0.8988857884182412,0.6742565919182948,0.5451181531477866,0.9055976897485882,0.2843449061188067,1.0823767007523162,9.198016089093509,0.31990047838401886,0.6441430681561472,0.7243437895862196,0.864526577832182,0.9713040191754996,0.6719519123367479,0.27148256436273666,1.1283821977218365,0.7643786934005053,0.6285868049061853,0.5576555712176157,0.9319736679361242,1.249331971750339,0.6410732273536173,0.7825463694627824,0.7313466427033735,2.9975819618656727,0.942217179346478,0.5077269170290054,0.711812574602518,0.6704515451365929,0.6584361695242194,0.959707650949861,0.8139326082758913,0.9244109981631279,0.9445824210457014,0.8599926075600266,0.8757357263610809,0.7513259980580195,0.627152067304059,0.7134901830731399,0.5892657708339416,0.3655924286414803,0.7167108618451036,0.725114119991711,1.2843239419635308,1.099722825563639,0.9473281134450281,1.893970580368733,1.0863229167184114,0.036071018385678694,1.7455580278980782,0.9942167585681836,0.5748802690220853,3.6169377953811725,1.429117771240795,0.8070171617459685,0.9229740120334661,0.7777924710439807,1.000204002282193,1.1318107342826091,0.9169662658891402,1.2376958607263813,0.9872032376937854,1.4087507000365505,1.0403387941229325,0.8827555955426505,0.7812125493520216,0.3895090214570184,0.9528943464048731,0.34764876927802635,2.0456821986818166,0.8312174834823081,0.3607374353391846,0.6807450992530893,0.5862359372519729,1.1352137429182199,3.079088706677348,0.9276745576846976,2.5202085668658074,0.7218788580166506,2.8596215299238006,0.7980033664058918,1.4776657072218922,1.413023304010207,0.6987837803728464,0.4549479361855526,0.9166997628880083,0.8134343272396614,0.5297307033198084,0.690763254651333,2.801628949058561,0.8898734874372729,0.7451519694219089,0.9809596368494105,0.9220794960618324,0.6700437412837456,1.4145974059530162,1.968758157491327,1.3126281132216469,0.45267655891405634,0.9821496105868872,1.0419312172198603,1.2981923729469202,0.495343661767799,0.994002998187371,0.7359632580996789,0.7418906260373588,1.0278183578025084,0.7348624636704074,0.3736684626769521,0.8930455757358327,0.6274830525799133,0.9613164636743642,1.4122750685531567,0.9617914745898352,0.5633261409709818,0.8822562298349371,0.6187307969645273,0.7255329681754308,0.8664069482791587,1.6657100275434822,0.8424670012538826,0.4348266640385446,0.6574436441351599,4.583718085495855,0.5884916480459363,1.1394161580520108,0.6750600268692919,1.0064560589648592,2.0271816069173685,2.9991804092971446,0.9446162240556182,0.9479277782077686,0.7040168425218443,0.41080554438064376,0.8904298024625895,0.8444853645364003,1.1900999073688352,0.6868934510318357,0.9556413763754938,0.8877534142050673,0.8480615138789392,1.0353973214714542,0.6463379750168756,1.4407484502501033,0.5031191545112236,1.6516152109554434,0.5980817106568512,0.6995752281853373,0.8033370769958454,0.8226000877333837,0.7418163128439208,0.8204711142731168,3.7446792262283592,1.2408069979661616,0.9856391910293423,2.2152158871457996,1.8746252279249742,0.7937938375686544,4.100225498827016,7.893494086259054,0.1150674973661086,1.1855765527425555,1.4645644309591757,0.548562060432609,0.6664141090718283,1.1426746961996268,0.8371335822402617,0.766248577647739,0.7796054843840972,0.4563027814967123,0.6606507706491791,0.48557674159045494,1.179536448274958,0.7604648614784387,15.050514854220285,0.723500945223174,0.9651640528019585,1.5815536977273577,0.6643452414025706,1.2695907587361266,0.48105345983663245,0.7909681164036657,0.35812174754984916,0.623346979328696,0.9247919558178401,1.059996398628391,0.875907935379382,0.6879037799464032,0.7429043898886271,0.924690058015657,0.9252831757335748,0.9655439805494863,0.3016053712094065,0.883304299399819,1.3425199010258275,0.6666193743909027,2.1482265542461683,0.555317945458874,0.7939681235250826,0.47830395689584465,0.5839431427743658,7.83959100529819,1.0604954968516542,0.4091404090715173,0.4906843950982904,0.8435292530021289,0.6879693017020092,0.9985983695261953,0.774443846902148,0.6785008562927956,0.9881448839014602,0.8812592352613333,1.0129582184409847,2.2513296049583706,1.297831530678459,1.5371042373491568,1.0081297184649374,0.7971821756689461,1.2202144881417438,4.829623753105744,0.6878966566958904,0.7661293799968283,0.4786837273029985,1.1061922671431093,0.794159340161235,0.9092920309912024,0.9213053258273507,0.803909685613651,0.910780047884618,0.9509449000099178,1.0137922564511739,0.8013802450703461,2.422482053179397,2.6422661904527893,1.106247801789304,6.242877399849261,0.649373050251434,0.7600177861783711,0.9094321479288139,0.8987698256895835,1.3102849608673337,0.7039714953230053,0.7809152967514101,1.1338926191947138,0.8854274960864821,1.8167389108136829,0.7355892170561198,0.9084007238642602,0.4714794569793862,0.42089041527020177,1.0189885057192405,0.8518754172367924,0.8087612824640797,0.8185029324536774,0.8448615883225992,0.8677566019718324,1.4036683839292714,1.613584511456451,1.128448052086143,0.8953737538153432,0.49110757298166313,3.4279283585012856,0.6752280280633205,0.7671410793265548,0.801132721259792,0.4870143009858676,1.155629325497253,1.392288138126883,0.8067692772254837,0.909775809089597,0.5411501584381104,0.9475261099353463,0.8954803125991699,0.38658908355118154,0.44048044033478806,0.9455265370452283,0.6103847714166037,1.8196037627627426,2.034643103230941,0.7027948702852749,0.5640738148881312,1.0221835361497706,2.553958171959283,1.6888219871961427,0.9953170089210378,1.1412582660719444,0.7419890441155129,0.7210760231894252,0.743502750738225,1.2124252166374823,0.865301037652771,0.926478392830864,1.0149880521392085,0.5476109632743509,0.8269551201046424,0.8589697392752829,1.0371190135782022,0.7580244070718914,1.3076221321862704,0.8361065530367525,1.8840173726331617,0.5975167272101545,0.8282929079142873,1.0272485687515496,3.062876803252174,0.5684963978605015,0.7798510191231668,0.6423003529874627,0.5843025861070187,0.9036913984327255,1.0266488544311412,0.7682977282120317,0.7076979458762191,0.7092898222647525,2.8800794452832057,0.846090814862277,0.7132285733534391,0.7545655371036974,0.7679282156301541,0.5937208295403152,1.4213333594070074,0.8193872989455638,0.4209997691175758,0.7042566301911695,1.174865817558698,0.892148873740962,0.90408794119635,0.8460910074314614,0.4788544508356667,0.9711293097932641,1.3599771611203433,1.0203465325339158,0.7541066624122088,1.0291031706735336,1.0973086058931538,0.9992024112290081,1.0237782391922914,2.0279810586199365,1.1499706781905195,0.44156358671208074,0.8023274557646509,0.04162082773498629,1.658904354678941,0.7290898652088311,0.6349992609191469,0.8863190806018233,2.8389657383406717,0.8007939238553163,1.0674998004165879,0.48980198199323527,0.9201075024137916,0.8976553239506729,0.5289942949440647,1.593268114050646,0.871757862995588,1.0762978989443515,0.2535706931030718,0.9077918292040223,1.2527028331644054,0.715913403113312,0.732985847522336,0.7534433537146614,0.8079424481053756,0.7176597930932926,0.7748002490899554,0.8505975823686234,1.0845894967568253,0.8906496234840519,0.6455668868086629,0.8663358461050836,0.6186186406904739,0.7307313726705177,1.1515248419556996,0.752585002518181,1.0561629181383794,0.7968305969768124,0.41802014923795666,1.4169956810727977,0.8821855724034446,0.8522522355477149,0.6409188467022543,1.3280593017682443,0.9155791445358805,5.959647263364769,0.9346284819166956,1.024611234432735,0.4345554438300896,1.3969628799318,0.8436892606587194,0.8515157591946243,0.6653541784627264,1.1135017310064366,0.780662396765029,2.4718092019532443,0.3622439845564339,0.8648374984849398,1.8555575233360713,1.1798410890025066,0.6117611748874889,0.868908352304689,1.1581689715869672,0.878606212466187,0.8312983494615711,0.5682366355877605,1.3073961128321279,1.2293854655907352,2.333104640685278,0.7465031763418151,0.9893298700284032,0.7361189951459349,0.8276917400870674,0.5922704824899587,0.500875731818881,0.7786987317646963,0.68499291240812,0.7969248955779528,0.8307043721880125,0.8608067960140989,0.748436206534907,3.480683807879041,0.8016045542220659,0.4539090376275101,0.3743903419769973,0.7842241034230624,2.0039057747966864,0.9218107843992887,0.7099443916596828,0.64422838547709,1.175796707211973,0.9162850448847117,0.9416007114225233,1.1460640010209335,0.5674464774897714,0.7864020750149036,2.369539002731986,0.830829263465926,0.8350090087881168,0.7324417269016035,0.9606043912391096,0.6783098716478468,2.900707005564718,3.318472176617085,1.031468781664873,0.7635992068407139,0.7560624924923293,1.3606307677587608,1.5948738271957,1.4917787886716043,0.7595178273014067,0.669756648532325,1.5569413453361522,1.080177268677637,1.6524972963023346,1.6234727639337927,0.8042329804282748,0.8183763370167856,1.9688720061573088,0.9896204192621922,0.5113062964927744,0.7685384730760016,0.9134394886172734,2.9780470998554702,0.6114270951239054,0.5839785568281645,0.8410755555586021,0.5940390409049524,0.4237401121128361,1.0726466027563422,0.9618289867323463,0.869791927473099,0.7058932229897725,1.3027908524937692,0.8690324753386883,0.9892515872430137,1.0499839566882465,0.7572134127554245,0.894971251368575,0.767176633592118,0.4089563783265987,0.8496629155066351,0.8137516026736489,0.8999523934448173,1.881053042380593,0.4790835916711103,0.9513959903313638,0.7258049182834824,0.7392348844203925,0.5126317250890267,0.8448804178303992,0.8761164482175967,1.4919179476214792,1.6797602358488533,0.9217935661353818,1.215595890617254,1.812868109741311,1.1026618354590174,1.0822713024236,0.3351283081472199,0.8723179082552406,0.928299869219327,2.1136609759194602,0.6630671083871651,0.4588069243338033,0.6497227703168638,1.6987700394060918,0.5763415151948333,0.9623074869127002,0.5635836284722004,0.9711109473205635,0.6870257385586731,0.5058692030913947,1.066151521084699,0.9444660633787032,2.1917324178941646,1.5330096100264359,0.3786833915650904,1.2294834640149364,0.760961596923496,1.0389400248965714,1.2277248367392555,0.7498791296190461,0.9070169413853886,0.6702147084784347,0.9709656031066287,0.7871608728553674,0.5339062932200078,0.7915281344323868,4.85888641975867,1.517132473365709,1.0721248949185913,0.9744371676866685,0.6084407001147539,1.018651452078843,0.7777775387570622,0.14736566959355005,1.2108080214214707,0.6764389686189759,3.46574413178982,0.7472910694920343,0.6263336996071884,0.7805344798602831,0.7567896579415515,0.901303084495814,1.0002819400659753,0.5057526674017121,0.9805118898003615,0.4083640151582564,0.9986573974634327,0.49911421503653286,2.5569245971731513,0.6753915072551061,0.48827719395229097,2.027972211122415,1.0041200898135008,1.0206512893546507,1.1337686301330923,0.8301579885360261,0.6354615781839087,0.9965989856843905,1.748958766689803,0.1770048535196686,0.6121219141520535,0.7523290753606318,0.9161230536637714,1.0189395373155143,1.0947086084322204,0.6628879806015358,1.5759282460084183,1.191469276390078,0.9595350290165892,0.3167850763956995,7.244328562908094,1.010802431654882,0.5187604964265057,2.1852922024565493,1.5383440309634542,0.7899799545520851,0.8478081976632744,1.0415919368987856,2.073035138616045,1.0089233704823064,0.7806028554396844,0.7408888296259304,1.2050778528719372,1.2922391234460124,0.9273267532271912,0.8580786744118882,0.8285261567350759,1.3271188621799854,0.9769262542123414,1.4874636840109456,0.9507023721524199,2.23107606176867,0.6282877798401199,0.8792927536209947,0.8065462197630575,0.7898785247611652,0.9806279491959204,0.7474845268101047,1.017767255862189,2.098496870861033,0.7093824069059038,0.9044291338144282,1.0406537195124823,1.3233263554016779,0.8407663524864745,0.6418940116579275,0.7934147253958244,0.8412882067038058,0.9461273411311177,0.6630422718639728,1.1394012420744934,0.6105802389447683,0.2639927409111655,0.8296211321786651,0.9700264347461938,6.486472071243385,0.8581695059570358,0.9887779687718949,0.4265266631240759,0.34889686610566084,0.7757080455603634,2.0121342653076844,0.9773665782418015,1.9295311731027918,0.6614625535114081,0.7651402630965245,0.9321164433204225,1.3530581219105655,0.9493391063161839,0.9890174304403618,1.7802179269832754,0.5231539560300551,1.0065594866971457,1.7448860031741291,2.262397783872523,0.31506807284279437,1.561973897172747,1.0098810554192923,0.8360995947299807,1.0853521455069397,0.6084329495063922,0.38406731404489347,0.7873680648788657,0.8853801030057785,0.8261078699340688,0.9143210863700036,1.032462889202109,0.9048859037009911,0.9820497470830432,2.2960950980820636,2.2195774468568694,0.8541614845444823,0.806273244292929,0.8926346769833675,0.6698723587745514,0.8113309440888961,0.6664821694010936,0.9673715155716165,1.3279183105072665,3.4331819754091675,1.2733305388858769,1.5604516851707007,0.8654304327241511,2.697588313774003,0.900196816106736,2.163353752847832,0.8879985094130265,0.9372196310340262,0.9528718613686895,0.8687064550126171,1.0798118490343493,0.565661785803422,1.4817874205466894,0.5992793297899446,0.7370202158311155,1.456542468954643,0.6426826771411113,0.8478081976632744,0.9012170560334262,0.9211767259642489,9.709519785839099,5.9297387338708365,0.6833733202125777,1.0017590583381146,0.9039122676991822,0.9311242780452054,1.622707740376444,0.784719459538056,2.390312109897954,1.098135777107204,0.7379389288342005,0.9209357399900167,0.890255328590937,0.8269418578432507,1.0098810554192923,1.070323404110582,0.1833321231325577,2.6877791767610972,1.3587490321113875,2.7025240379442557,0.7457099231715592,0.8191678088838676,0.5474360817023429,0.8520209504520497,0.638418317309069,0.8140773242934638,0.853710009962545,0.5532162424924054,0.963211137608137,1.2691498622679849,1.3278410525798963,7.480714786769415,0.8747584183134257,0.6113607492481339,0.5448098085833029,4.528066689720766,1.045634368632648,0.9953674027736503,0.7832190252201691,0.8915151758277389,1.9394934573241271,0.6776303054904036,0.7828272014826813,0.7765167255803223,0.8296889646700292,1.821921088942013,0.5529372229691175,1.0510796471325834,0.6448083001880289,1.9075376619965636,1.383942844089005,0.9467885109700436,0.778237391738273,0.7163975690577071,0.7051740803448907,0.7181646950527615,0.4168287122228176,1.4171087248457197,1.1072844071354593,0.7680721832069197,2.082897409544388,0.6231533700487395,0.9522436986343739,5.804001753674767,1.1133827252041486,0.8187175845509206,0.9277165037742104,0.36034082964414477,0.9656888343381378,0.48361071301613684,1.0038990340503975,0.9880567085924488,10.801155356366007,1.0670046231203765,0.539765695623998,1.558438465946975,1.923605208368476,0.8616765860514115,0.933552540513849,1.1832852181572122,0.9476503927221058,1.7050729472006212,0.6988936467323477,0.7763075759109151,1.2246130655447276,1.0384845359522785,1.2271571712161533,0.6272844878894863,0.7937975492483736,0.8204826611610114,6.525429374491788,7.206621113210242,0.6737413529112517,1.4316859107600162,0.4905754860154991,1.771832961911482,0.7561310632734082,0.9255970090586711,0.750643439229499,2.191659067770687,2.1098910291117248,0.7204556322669124,0.2802767168771924,1.0131010791932988,0.8988231695696709,0.7509333124039898,0.9129721875087272,0.7322407797505093,1.5494117750879022,3.699102119631004,0.9039698976788003,0.7513191544151204,0.9786026323617375,4.862822735126477,0.5867421261272969,0.73322984696959,1.989435015813163,1.4230200049180584,0.8102666144910435,0.7078197731922712,0.7444923735730701,0.8100293795565898,0.6147932568796908,0.5371641193895559,0.7654332960349872,0.3743193542883444,4.550462001516256,0.5067868727541945,0.8339898105928691,1.037005686128107,1.1095600279040938,2.433467940518319,0.670317401350314,1.7343995955227791,0.42714294986451706,0.7408455669899545,2.9949307776093104,0.9325898972873284,1.3133328608368098,0.5382877934297616,0.9170315524259156,1.0731873083974848,0.9498660410042963,0.9139415366917818,0.5167336750560989,1.0479541842486437,0.6381374502354967,1.034641391639588,0.8901829644526612,0.4579071121109999,1.0317672031223168,0.9161712380413114,0.7784802537165727,10.024625471591413,0.8549604091453871,1.143518534907151,1.1811304440870287,0.6825611600586876,2.7694124106461255,1.0112988616355856,0.3807751335971774,0.6874214693252586,2.374667574625918,1.3773200257628457,0.9302631782192587,1.0519335156671727,0.8796266239222237,0.7766625817188547,0.4252369008023337,1.1056292182783556,0.6236609524966468,0.8906532567090675,1.0778682043672427,0.7824253728051992,0.6823348086699114,2.9185200031723912,0.4330013503761979,0.7596070605985379,0.30792521745972024,1.1782289526736012,1.244080373352314,0.44134072268052693,0.8538978183683523,1.4629054273143116,0.7128018256001493,1.2563410395048717,1.375630655022397,1.6202032106077378,0.8234642508058194,0.8965304947290926,0.6659603204908501,1.7492149520751674,1.4033322335375231,0.41017825264582186,0.884224146424409,0.9972393650985513,2.6520608435668565,0.9350089072254477,0.9951528210204589,0.6913350935458816,2.481217562710202,0.8832349446508647,6.3950448613809465,2.6859158087836925,1.1763252712854526,1.148525325067011,0.49075153326955345,0.8732917893002192,0.5980534378422263,0.8629307149618344,0.7782808157569111,0.7168126395307366,1.012400952206051,0.6258323336561831,0.8433998990872532,2.3199486808524816,0.660914382793915,0.8329595639017182,0.7541931563726754,2.1861914915893887,0.915556328591359,1.0384138142436952,1.493775478898467,0.9264634644907332,6.833813603300213,0.3878225184887326,1.6943058442473504,0.8134519050004138,0.766606712527538,2.8215024865525726,1.252900387588911,3.4534370422057874,1.0547722026105628,1.384398054273751,0.8613656395845157,1.5550055395762727,0.6234064457099757,1.5044741872395788,0.6778450482559032,1.0777725605205235,0.835810328788026,0.9598880361239799,1.032464593599342,0.6465551505546656,0.9980265086792846,0.6807130297532309,0.8896409778658618,1.1720520341968446,0.9348440100749703,0.7691421754091439,0.6680014782003498,0.7568731426764457,0.6745325080497313,0.9259175354010762,0.7644778901915146,0.8723338478632588,1.1407827231379766,2.9209856959089606,1.0208524868437305,0.6465981333245749,0.8188797746846304,1.4400371603904398,0.9616853046242388,1.5592893022960048,0.9151933019193832,1.1645522484915336,1.0729367504349927,1.184455437833286,0.9047523819501246,0.7692689757141998,0.902595855745498,0.8217605813141637,0.9623672077752863,0.48198554530036625,0.8420811705267999,0.4498564108870363,0.8844640710239251,0.798347850954875,0.9534188435905312,0.7504489841253822,0.9509243607364408,0.9884822504311153,0.7480822487035654,0.39664839748597147,0.6387258075419944,0.8858165190095414,2.2584942535254844,1.300973140520968,1.0659725943289482,0.9886990678293625,1.813139739172811,0.7351748164715618,0.8434537676357308,1.337068088873692,0.6754844849624063,0.6237250523108878,2.0974082505819243,0.4401374418765322,0.9996224936366999,0.7347180773999349,0.7248391267129976,1.0211034755357575,4.171960393199475,0.92678573851273,2.4224692700287145,0.4944107243360643,0.29311078891311015,0.8044405758017706,0.7109679203877048,1.2746011430021986,0.8479895883323565,1.3591726644078186,1.0802102954963186,0.6826329148514423,0.8626243806457052,0.6186194448463365,0.7727678325914706,0.7435093758838694,1.1579242648837123,2.630092838419512,0.5622316243428093,1.0369768113775424,0.6494465946528867,0.4072973352048506,2.212741126830559,1.685987835925449,0.7143580360650658,0.7550215818688077,1.5372027776867179,3.25877228902615,0.7987094714686771,0.8867283623169964,0.70999141968249,0.9330938837361245,1.3973546752753876,0.9501619508686273,0.35019977476476793,0.7870593140025817,0.9443354135461794,1.4497577555702728,0.7547385133710764,0.6463584683906429,1.0223347560516736,1.4709702751699645,0.9154454930599267,1.073235909702385,1.1195100334669035,3.9265987465306273,0.5485055076628931,0.4845919345447646,1.0462863692580369,0.9294068464209946,0.5459643912817284,0.9259104841305752,1.1074560049738178,1.401404285628849,0.8194610907857324,1.0859439613640973,1.3721935237246639,1.0263299062078322,2.8147820229511833,1.2322607429483396,1.0079033577342336,1.7560039510127448,1.4936402106389046,0.8094792565595458,0.7306443130149686,0.5371641193905085,0.5529298317449982,0.5235056558540785,0.4911562652623038,0.6769460506955394,0.9435633862370909,0.7295851178166591,0.7989451846623944,0.9679876574218207,1.3321098887746718,0.775602592168945,0.8274300496449492,0.24882736947868933,1.0237054980274807,0.6829108500480684,1.3608700061614671,0.886981259337246,1.1899967214526146,1.0023824694618804,1.631431104209101,1.1610507920666198,0.8656527921441145,0.9661240949212713,0.9430368097689662,0.784312566774572,0.9793417877219749,1.328862983303826,0.8928969061424429,0.5410950998544981,0.9722280535009186,5.202557970458733,1.0099317314209513,1.4236307361213458,0.7914415264495172,0.7995949063369215,0.40094526230521327,0.8294841706271707,0.9185060841130748,1.1011075449739738,0.9640306226620415,0.44823123911090823,1.6616373406578193,2.6992453063046233,0.6768370686027865,2.3278427404240047,4.978853170390459,1.0344705249353128,0.9079472772855988,1.414883512022461,1.2430500986257242,1.1500953319894909,0.545295895823599,0.8482615584364954,0.9519384161407336,1.4096087615313753,0.8747831066147684,0.27164533954131476,0.4713683404133979,1.7051842293623902,13.65547439471949,0.33502328935458425,2.457693814424294,0.8664099863440506,0.692043433086241,0.7104484995937753,3.4215906401601326,0.9003425657523889,0.7503382603036051,1.539091836559934,0.4182263654162134,0.9387194387416536,0.935496183426215,2.2417300709587726,0.7828707070586295,0.7554773979425466,0.6944229861283288,0.6700071903186529,1.1621907532480322,0.6626696174926563,5.6166781141390985,1.4065206657968465,0.6157088313675876,0.987815052912811,0.5315898480023931,0.8138406821889543,0.7584006207011412,4.16024920482608,7.150002220524368,0.78791419561823,0.880422234443315,0.6440102753327881,1.8421821860000542,1.6172877501281655,0.8434881973351618,0.8340495340022263,0.9996145837764719,0.7734186555413705,1.5452298391420967,0.8923958954868622,1.582391148979815,0.9969711627069056,0.7600833740978904,0.7931876616926488,0.0,0.9828876404278233,0.9509438004175996,0.7376606264082305,0.7259628398798156,0.8542527838971892,0.8866964966120299,1.5587827179534595,0.8192705276877236,0.9287518274214015,0.9413620501386107,0.7411762792493922,0.6802892506190473,0.8638386576081342,0.8744284314634989,1.5105007656345968,0.8596180411756866,0.960894168056585,1.6753776485616299,0.7461988010883789,1.8106403548933656,0.8133624108837749,1.0995463825878409,0.8770920236815609,1.2633230117061842,0.9210217158788869,2.3110484281170494,0.8695405647414399,0.7749893878711576,0.8894571614327116,0.6498304448979431,0.5830598830771383,0.8379247295158149,1.381335967441818,0.8977614160720244,0.5492677644704759,8.7951266504474,2.1052925231386017,0.7091879013470883,0.8060222689837333,0.17359053156667018,0.9013636681736132,0.981780708826244,0.47548579360000165,0.7914240169796959,0.9060040774294695,1.3396907083610052,0.7247732133800079,0.6578665731097268,0.8323177252293515,0.543720547408174,0.831152864698769,0.6217425935052521,0.954821926800081,0.4367732825194974,0.9574279476986935,1.4429862182642288,0.21937297156064342,0.6539296858707191,0.4851086690000951,0.4867552251661843,0.8725695548534971,0.7254460539067267,1.5869616689432446,0.9202317784226144,0.8324705460879773,3.338156611074665,0.8982673149966033,0.7366610581658881,0.8671235273461146,0.635397464926658,0.6908354982248834,0.870736408920255,0.9318956124813242,0.8146583475244075,0.5128839708851365,0.7644849417621464,0.7846505822352112,0.9025958557456524,0.378215607078193,0.8067171399007138,1.0725279746796197,0.5924988462818721,0.8279794485568388,1.6009593674110276,0.944585824163706,1.3750338532593145,0.7301050144056037,1.011927410036039,0.7388350581784375,1.0916305730499793,0.8671354054321966,0.7065119897812395,1.0548833601869392,1.281783264410943,0.9239898469753414,1.0466573667319004,0.914165410173668,1.0260939633052395,0.9567520086305182,0.7135532869004257,1.1811326881755277,1.0752769798244022,1.1391286727559464,1.1495705805610985,0.8023256757665153,0.9797565153881352,0.5117625017602404,0.7437048505210206,0.9504056233241509,0.7302042791404729,0.512806384769717,0.9934524268215437,0.8783854662565822,0.5965045022851654,0.7920238357445872,0.7699164670879168,1.1679441355317195,1.4614704467274033,0.7570052559586162,1.0116474222803389,0.3990218289493944,0.9290044749069901,0.5852216061537121,2.1967847324855274,1.1271291201837106,0.5500461429612495,1.0304352230846618,0.946071752792323,0.6121100323237887,0.6508414785361728,0.5384522546858949,0.9517446693794511,1.2177209994762772,0.5290111342743665,2.8189944280113184,1.6668327354397876,0.8416663919373368,0.4429598617123472,0.7523543675799629,0.9312948348302944,0.8836426700579263,0.5047433404083969,0.8895631993420055,0.7900700248593058,0.574285436731886,0.5981927140019924,0.7734866881491255,0.8362633966905213,0.5356473147434629,0.829402176561004,1.6224777699000046,0.8809030337363097,0.7008073985592291,1.1736267611194053,1.0128408227905707,0.720184114600662,0.9692453059430763,0.7572097823631248,0.645664538477169,1.9596959566173284,0.8211265205609422,1.0232262721105532,0.679544039254552,0.0447916990488747,0.5595128385634882,0.7372069740164799,1.000532195841707,1.1883889515797776,0.7588208126053818,0.643355963434841,1.7562264059456514,0.7256566496244313,4.4638702962324075,0.9283356075777365,0.6563787454437016,1.2478103976880506,1.3407246614345485,0.5786329274313633,0.8181065992898919,0.7952272979255113,0.3111930662441571,0.7723006676710558,0.5387186583280779,1.0625128490911941,0.888476264129584,0.7948584743228336,0.7855273771313684,0.5201197478257852,0.6116015849826609,0.8910926697208476,0.7512456099579192,1.5340478691139374,0.853920837226847,1.6650797085938331,0.6058485315424017,0.7473022361523713,0.7761474029798017,0.8245638418094138,0.6197190836608746,0.9095023315189752,0.4761987489127573,1.0034301150143903,0.6041444399018363,0.8495909943418198,1.2571539918826036,0.44162625735518957,0.8054167040960412,0.8238908242797862,0.5121708898060066,0.6233187918733267,1.7889493720313798,1.020324358859557,1.0776974058594897,1.70902021729876,0.23236990893290524,3.4266834462870617,1.966715928611944,0.6615064803298576,0.8413549836759653,0.6134921943110161,1.2080397912233347,0.8053034510929045,0.7056880795946933,1.0491292252424838,0.9048595672007197,0.5980101107423554,1.4337227954880258,0.9567565285286559,2.3421644512545585,0.705554557355281,0.8785501821034684,1.3238239652443942,0.6083270764765876,0.8874870134428076,0.8965684050437133,1.0200809906382735,0.8357416666787758,0.6365547699103907,0.9962085750196329,0.5515293402635648,0.6846127004496024,0.627347067190898,0.9263456409990102,1.0760032310177825,0.8744963469459472,1.2296830582994962,0.7445745350069792,0.8395827192576756,1.080142720373108,0.6065196054905813,1.4263889493116586,0.9131668655260697,2.136019290026773,0.798652585165409,0.9374340118694777,0.8613661746760143,1.0356802661242905,0.7187938906991211,0.960857022325751,0.8337529750473617,0.8760868877060037,0.3844352280259024,0.6951510568903562,0.9277739196832366,0.865358845647248,0.7935499670930523,0.4173974770502338,0.7708119971802486,0.2558783967788989,0.8656275240197701,0.2995132159660431,0.7657948763198308,0.6553441503463813,1.051102025836777,1.2998093519745406,0.9988815422885986,1.1913389977788842,0.9208765656779552,1.0900638422054216,0.6871871939901694,0.6349831979267918,0.9258336219587262,0.8010967824846753,0.36925835726007716,0.7295116697267274,1.0908529815425267,0.717687423409963,0.8372175096128381,1.2599214618442407,0.7731674121855862,0.31545499469879973,1.1192110055852194,0.9262391717781585,0.8509890788181348,0.8039133307618106,1.8791657733109288,0.6203917497447904,0.9074103777395377,1.043445305752772,0.8900933274315682,0.4572739520129324,3.497595086373709,0.6955938153920617,0.8206183097107136,1.9049934812188836,0.8604831653035911,1.2811504719173121,0.41201858346110315,0.7101785650308137,0.7129046689328158,1.0644718289332264,0.9079221039714405,0.7498264672782311,1.163302896355209,1.2101695776495718,1.356080038592031,1.882023315710974,0.48693286485260123,0.5542496306815894,0.8369957858167738,0.7357403263494666,1.1142175896396402,1.0996468580714338,0.8525792146097956,1.6952137833395293,0.7852587621068178,1.0463691874596197,0.6921932076056385,0.0379468250918564,0.9405768633145161,0.7201344303944406,1.3108639507616162,0.4992861667569326,1.226900628324443,0.9053417339441769,0.9394887956230579,0.5208357771248621,0.6735028587047733,0.7661938438894806,0.3682993153913603,0.5351615625574981,1.2313150025460695,1.0642108200052602,1.9886695148828395,0.48365328280063913,0.6832043693196483,0.8871144224473507,0.5875389731219979,1.926735460036731,0.927337055803611,1.6124841765871039,0.7671996704453229,2.043170345654081,1.0603816946372961,1.4109370828004186,1.411728897930223,1.0210021371992108,0.8354022051363542,1.0294546049050421,0.8649705781481205,0.7916284088357186,0.5859698682468473,0.633049411790525,0.5239263311459904,1.0898199604410952,1.1964039208219028,0.5945484711572189,0.4928406863066601,0.7794304994443639,0.47033694991012,1.9919980917282025,0.7240798203962971,0.48690760551983925,0.5454820457945386,0.408286729479841,0.808117499243813,1.0544704343517208,1.3341437611206568,0.6629074940867308,0.5705568326157456,0.751803727078614,1.3917288535713412,1.7717818068460005,0.6541084144774749,0.6757819609663933,1.2374115241458081,1.3032691419480393,0.745562723299827,0.4578873061921228,0.7896183288369505,1.3193439287059767,0.8791155089054752,1.1709857464045992,0.5343999701269585,1.113988257411906,0.8977375041588362,1.400625582916603,1.4039987688186102,1.2852321022944806,0.5116732985227964,0.8729393591680044,1.4689337073397108,1.0887467369179085,2.017968322880078,0.0,0.6138559669084943,0.7823264642131544,0.8504831539487461,0.7138668588098268,1.8705423116678155,2.2832869867259857,0.9424691528127709,0.9296930144017781,0.8338056070250439,1.0523991605993768,0.974332471097801,1.4324130503738235,0.7552837374242519,0.7162916050940044,0.7953423080885754,2.400479533206643,1.058761807428821,3.6083662206463427,0.4996969916551186,0.6951810551482127,0.954849834439143,0.9595909486008765,0.5746892820641046,0.6300163084378321,0.6980694055976087,1.4114944572683616,0.9742626728029289,1.7744726579172379,0.6310890317259102,0.7109121078262077,0.7070874336549535,0.8553056498837862,1.030219251416931,0.9011880617354358,1.4348917790260503,0.7481233906677257,3.586709502546163,1.067904618217368,0.6322317583826659,0.8783450908743275,5.0681387161421245,1.236856942500473,0.48117012553755073,0.9086335645560899,3.665550303376992,0.7863744501017851,0.6217112886224301,0.6575411438400152,1.035419539587326,0.6809517609507834,0.6157635893294944,1.43346397583507,0.652592295185223,0.8459605385614856,1.2838600504367144,3.274617183311072,0.016566908623738948,0.8481034868873978,1.1577264591977614,0.7545841213444453,0.5375052025302457,1.0351880729044916,0.8203048034844487,1.568839576381595,0.9964898374302515,0.8545580032596742,2.7635705738837215,0.969456277523979,1.1482407351725759,0.8993934835881097,1.0052165259670252,1.3755032612397442,2.0918583227225365,1.081873989927695,0.6830163166004422,0.6198918496830966,1.1727196375253262,0.9976957809166118,0.796878925110166,0.7028922961158588,0.3229059869504585,0.8858115908142763,0.7907264101600626,0.7408457531610587,1.033201467641969,0.9624927933684533,0.9970388252532052,0.9811842050931967,1.00881467828346,0.8931946180000968,1.1020827014512948,2.03252604229167,0.9176093507715992,0.5379637755589471,0.6690951752400969,1.280051524094256,3.893361376655056,1.0507024957561797,0.5445771152216177,0.4760182138665674,0.8444584309034204,0.900239584971971,0.6671363782464662,1.0317672031222773,0.5571555734649646,0.8295041703580794,0.8127559247200113,2.2140278835138347,1.4090366721175949,2.3134853884239086,0.7954785255918739,0.7569620300248514,1.003550478420388,1.158228950205386,2.01517892402487,1.0728022680298888,0.4364932849258192,0.8539720938280083,1.0952256739379325,0.9148208523578982,0.6155088927878893,1.2931687344270109,1.1024414392847681,0.9735669714140774,0.6740804754458092,0.9861514968685674,3.1898593683767036,0.9062575753959152,0.704845920027346,0.7544244240773967,0.8392124818276089,0.20847786566739526,0.42003832418152365,0.7009742938659861,1.253254018084418,1.0266212773976955,0.7129899327894005,0.8923929308991978,0.7247984042216656,0.7282246384869151,0.646781536074299,0.8003792136519282,1.395371812529398,2.709562279226997,0.7537557651695589,1.2204096143308325,0.916759875247959,1.2460125507589144,1.131698945831109,1.5241835637972423,0.6600304993905066,0.2740893212012418,1.1611875021173594,0.8487972737775044,0.8822463021517808,1.0297283345660335,0.715630226137929,0.6363719499482801,0.7564227635330822,0.5187503197113517,1.2288239961998042,1.1827558488906287,1.2027213253649984,2.2128052478697766,1.1045977635951012,0.728341030798186,0.7983143588775141,0.6773212441374281,0.37993881690676073,1.3260375183458202,1.4018187184474022,0.7065278689935764,1.1912535650011655,0.6297259011366523,0.914294926684393,1.443805493718089,0.918889568683682,0.8191490201263512,1.6397360811230561,0.9958389732020289,1.103531256867335,1.4131290823035576,0.6889122870279568,1.0342957506970616,0.9371381465505657,0.7335070147586144,0.9062555418720367,1.4153296266906779,0.9368105361468514,0.8120914804266703,0.8362765921882674,0.6160301667632461,0.9054360388495831,1.6138463116870798,1.18872583494064,2.2731614625998615,1.601285418591659,1.1961645170585893,0.8006516295450876,1.0141318895346854,0.9479616671155267,1.0023662586143534,0.657379186611107,1.4163809430811747,0.9279605104029363,1.801573518218941,0.415781560556883,0.9076159288571485,0.27277989995952556,0.6652030927078493,1.4427364093579267,0.5804698000061923,2.4557700513613203,1.1593406188946096,0.8952562877359993,0.8915419653578917,1.9584519051240479,0.9267582265684629,1.0880965023345444,1.1593150616651307,0.6099996713077952,0.764324342644686,2.470999053762675,1.0231399672937007,0.7698556785534576,0.5290503107406214,1.303588590279647,0.9487712832334269,0.3641455840696147,3.0949352611379055,0.8537269631114436,0.814696420163704,0.5468780117328067,1.2672150177739325,0.42309138883830516,0.6955845972011077,0.7844806622020358,0.7228691379213721,0.7411819780159143,0.8771245098928718,0.9529877238109401,2.628466402132891,0.4761708885807865,1.2477378911864438,0.5477233900191406,1.049231181261581,0.4834291001821255,0.5925770278011557,1.5319195377153971,0.8050677458606021,0.9457131972953298,1.5877404925284488,4.441290373275673,0.3689788267177099,1.890865648793677,0.46548534148996673,0.9304973093790302,1.1652020604935283,0.5314851908233965,0.3502537165694405,1.0924953019881194,0.6704778098439823,0.8632704576656002,0.8938729640498125,0.6899587937177825,1.003209624308736,0.8031822875612883,0.6520988527660347,0.6881586067470837,0.7041292868383866,0.5219308202071375,0.921836990555746,3.585198979884171,0.598311882479204,1.030132228686534,1.0887122185470401,1.7949208044551344,0.9296920441133607,0.6736765798472552,0.9151480864998003,0.8055480445777659,0.85734513886872,0.7210807959938744,1.0859357128752387,1.070771244791063,1.7861188845316869,0.9282247850247888,0.734997121644841,0.6055587354582019,0.530299853577328,1.2680535188635678,0.36753857213645025,1.0998351970570333,1.0686911377439932,1.0484236989343532,0.7580982242675282,2.6092066222799577,1.2147941297840248,1.807916442926653,2.060231720327282,1.676324971210073,0.7551650742065577,0.6708604435771971,4.678279206371571,0.9154454930596173,0.5569979259468572,1.0782638477507014,0.5493747970995727,0.36201009404082907,0.7563443506419404,0.9495549097217186,1.041737193323942,0.49310743414876457,0.9305314395869515,0.9304578848373264,0.42684419578200533,1.314418663668501,0.20046800334534154,0.8807905854847082,0.6532031965182342,0.6850891594979251,1.6034317484332457,0.9312805416323604,0.7164849437259001,0.4544432320323796,1.103148280433676,0.7969222602695072,1.7020920143049698,0.9073772916496328,1.5078602043502192,0.8849185260402257,0.7972013749407838,0.9880952590703962,0.8764922590250775,0.7487059774521541,2.310062385223001,0.46134066013830555,0.7515040040279303,0.7748264011683568,1.6230939165628224,0.7390237786412548,1.01681508442625,0.6727625619660991,0.7321913149762056,1.0245992230005463,1.2180274860687679,0.9471330746305249,0.6669934512734055,0.41036740979777825,1.136405174063078,1.0178756965780327,0.42656658298936395,0.9283112210159392,0.9595806111231757,1.837191764905454,2.1273727191505785,0.7976492932567789,0.6731984592390453,0.6687740408806363,0.2319204060879059,0.8706797026560318,0.818028268511472,3.270315258139034,0.7490251855228389,0.9925077018761397,1.2032222053447432,1.396916990775058,2.078127278858841,0.9191943465765634,4.491645887991632,0.6858860431373274,0.8171560813090151,0.5737201123083376,0.9862044378725523,0.7168680427179311,0.8115327233266334,0.9347817654901438,3.9109691725523805,0.6780062741981968,0.8119137153929525,0.5593269450371827,0.28522891361506875,1.8131832938137338,1.1791997187282837,0.3942346084422209,0.5337502439610071,1.0184142128212228,0.9822160783523343,1.3079701051897448,0.36791159171655474,1.6337137927955236,0.6046069822092348,4.236467036502039,1.6675559259478634,0.25090368767099497,1.9138483993771593,0.7769063456807046,0.8433299887315715,4.835129109098372,0.7153906389715935,1.0694255875874368,2.7621716488101598,0.2537454171280017,0.7268690315157745,0.45158073375885277,2.023735634400431,0.7926343958453972,1.1094909889637556,0.6275641314765938,0.7272828900422522,1.0307781233550852,1.137009535917954,0.7488331893671103,1.0262704847026338,1.2561291585218655,2.4779579381517087,0.8909600524070248,1.308835098949972,1.2175698251084306,1.2268440976612158,0.7852427609148752,0.7007789799210216,1.2713502324801755,0.6431435285273921,0.768728771620471,0.7389260453980548,0.9281642449902865,0.8295757335356986,1.5887257942169408,1.2850803793490433,0.717460841446049,0.7933174292284502,0.872240652981871,0.8307954342515012,1.0857840696290373,0.935722703303425,0.9559487709982974,0.9383757023723371,3.5797776539905173,0.7252681675122643,0.7713989259506051,0.7443552995385566,0.6645524478374285,0.8188144451191487,5.10042195147743,6.684290982114901,0.8072826797768284,0.42565195105386905,1.93045292422057,0.9515940711110042,1.200238095607262,1.7754880794977284,0.6526475163687548,0.6709034889302634,0.8969908571689907,1.865010940842021,0.8874390931597687,1.3441777357447369,1.0397273269683238,0.5506112468873955,0.890748098423497,0.5673665959857411,2.2611948208885506,0.5634348582997106,1.3660663717974626,1.2241025347875576,0.8990874534860906,0.3942770223144291,0.8515208714127479,1.1254155453470795,2.3611914557637528,1.000235086429338,1.2436354014147581,0.5419946284755587,0.9267930388233568,0.8613260074584691,0.9533701785513841,1.862778830102394,0.5422793205693459,3.3950961676819653,0.9443838630132525,0.3604459957457792,0.4924499935913097,0.6797856355958172,0.8737649527829653,0.9849307822563194,0.6781774655331878,1.2789146858005402,1.0378525014624087,0.47255559198176794,3.5288054773973583,0.9330292116375416,0.7402082628453532,0.7063308492384165,0.8801747040553289,0.5398938520108506,0.7384663829867305,0.9798786446363696,1.1871702507454776,0.9045387568356583,0.7927312376273551,1.281423126475403,0.6272844878894863,1.2537036729516144,0.7870591049696378,0.8085961971926767,0.894339253244778,0.7812897299639748,0.9863323834354274,0.41102047620797544,1.2016809995199476,1.8835894554115702,1.8280117138231131,2.526261966952278,0.7239289180070816,1.172199291229291,1.6692437024276674,0.7751958556761811,0.442160256845854,0.8317441262003215,1.8452305086288263,1.3210291226628774,0.8634642067669206,0.4352525574474809,0.9824214245671854,0.8138974011820574,0.9376480489100408,15.646313282671143,1.581896450669476,1.0885427178430922,1.1795908463893692,0.6297808534553244,0.7330049607017775,5.210812033198969,1.5110214998843123,0.6348694296764443,0.44740538446917866,0.8871103106032879,0.7929071924855536,1.077984925317188,3.519437549724816,1.196203839661582,0.47493814032758075,0.4591734356223156,0.5291685880979045,0.5769095739472656,1.1206658298314238,0.7527809367746808,0.6194694866127683,0.5049874242198503,1.0338813852697866,0.7293963777291607,0.4176471935447849,0.7819486389533414,1.3100766423698798,2.7538883406939627,1.0052568792168926,0.6212740003183529,1.0695407799147665,0.6894062097214821,1.986277945258017,1.089248113034604,0.6749242568939708,0.8035592038171675,0.9561496949592223,0.9916098253222507,1.026563646338664,1.4306788297819424,0.927895070976266,1.066410175136454,1.1537689145371295,1.0391583909046163,0.5462593336742231,0.6103946764018184,0.8593825640271616,1.996733892727233,1.1385885909552855,0.7452984296904457,4.746333070098534,1.546140664541388,0.9194010634053391,1.0804315794102504,0.717177245483271,1.0539222456279607,0.5483000090748412,0.5035026076045468,0.8820113749971246,0.822696278091741,1.0046450712261557,0.6413604467658692,0.7766334365078156,0.852490468454447,0.6151977835589344,0.8471867519580064,0.874963691225866,0.7219934283867206,1.3587686167739927,0.6461402827612955,0.2811436374055113,0.716149121362057,0.9001705089784013,1.0424032368507359,1.0926805674883724,0.8044362021478972,1.2112452800294962,0.8686142366603955,0.751484356409973,0.7923714409380166,0.6747405517568036,0.603811188754916,0.6387900311134234,1.058880169094842,0.1332725913597089,0.8632354906077029,1.0250373825692913,1.189863073101009,0.7589936975029092,3.673507400094349,1.2386025609104818,0.506551894970575,0.6204883304417248,0.7566247325597089,0.7827948162639787,0.8965646296083083,0.567215001780452,0.745785644096158,1.3912457966330107,0.6492548465576586,0.856773537469111,1.0524677880215632,1.0816924901449894,0.42839094201798933,0.8424858794204495,1.6838956844211694,1.2295544764935171,0.6072139651032823,0.9209339553333917,0.8201907891508586,0.6272828426238547,0.5150828566411673,3.0128078967931793,0.9026937879133363,0.8984810711949873,2.104198449357029,0.7967304072183445,0.6644170650330488,0.9236114990795539,0.4027860013641592,0.5561432295026861,0.8660089630888856,2.6535859992077233,0.7680664633143529,1.5482351589131624,0.8617239957191548,1.797187137582706,1.2456245695139887,1.0057122970251275,2.7073128489452483,0.8451306433855672,0.7610438275378005,0.6813501901742836,1.3681781904707664,1.1642902277781149,1.4690244671654884,2.795941219096227,0.7465026087488613,0.9575644382015148,0.9086590326282239,0.6045017101809969,1.2333962022700413,1.218565429868134,0.7963930201652464,0.9330043174359917,2.5571622630132733,0.4649328522565048,0.8917920266962744,0.634888897456211,1.2374451747234996,0.9862790439465445,0.5238300213969157,3.1812885804166426,1.0354896332499866,0.8248299321058008,0.705591707619166,0.7878668328762389,0.504888767701605,0.533205651874737,0.6934377271678669,0.9953218418051201,0.9730399528819843,0.7814394377544224,2.8171431567125027,0.7951863371473953,1.682386703229776,1.313984841366859,0.9294659150511466,1.9508427736188796,0.8018178197410487,0.3883458295755808,0.7936662543270236,0.9715125296756109,1.2835844883338625,1.0330651738973355,1.4419654409179448,1.343574382238221,1.659465334519683,2.651845725801919,0.5593261758549757,0.28043398687483456,2.744543469598385,0.6358909438520305,1.0668224364413654,0.5382494376598321,1.0425448315388868,0.6874541842824615,0.8485538003501587,4.913478919237005,1.417548837668699,1.1233598837182184,1.7231059408911538,1.5718806055102343,0.4986598653506093,0.9899129652292427,0.6842082201023186,0.8706488036849722,1.4363582152002836,0.8480931665408883,2.5602696089620096,0.8577253976346999,0.7475712267474386,0.7503240822521773,1.8169696980975754,0.8775063035693957,2.2376976245612816,0.9171771525269236,0.8144155894546841,4.2557382147088925,2.168591581511473,0.6424831447391631,0.5807398469175878,0.5121329252146749,1.21999525946185,1.2779827789969458,0.5326010868039498,0.9626275705761191,1.2327656868473313,0.6255880382840312,0.8192488696825588,1.3956014760422404,1.2376312920220316,0.5512963234796119,0.8282991828939368,1.10267916848328,0.8218133973979728,0.6625764952333344,0.5787704246126247,1.2305067904276226,0.8970066222580434,1.2160175618577802,0.8362574107101355,0.9090228557863151,0.932168155801682,1.665190742435811,0.785987600551687,1.3410348256974318,0.6731039380860835,0.5171563390000852,0.7934461575306486,0.9396885236313026,0.9526405985288435,0.6566888323841042,0.8606038857401017,0.9631141126233758,1.524244281122138,1.0900529141547732,0.862449210964777,0.27365414027960344,1.3275863737132565,0.7280058303227307,0.5199199187457781,0.7431261752818494,0.7351402820505999,0.7130380094051536,3.2787056220263366,1.179851445960102,0.7789659950935619,0.3039368916928905,1.1519119726568867,1.3423649618564142,0.9962126561156311,0.48421484688441907,0.7252434868459147,0.7593952111149034,1.1348714736735628,0.9487109915784423,0.7224482295933076,1.0308353261724792,0.6815896553640732,0.7359214201568979,1.974993056067369,0.62528253359607,0.6688593888547142,1.0103062521040214,0.7189477332557027,10.300773021255203,0.5036093531433804,1.1191884136621533,0.7127879999524201,0.8444853645364003,0.900098646080621,0.5508289673435518,0.8805328829234902,0.7284016766490283,7.351196752715643,2.1665446929689782,1.0921611286004067,0.8048543853487033,0.6937211921786707,0.9743204687609954,0.8275260979714654,1.4475887426663732,1.1444212233999704,1.0455117616816725,0.8225074334832909,0.8119676669235469,0.8346142047222794,1.2291747628720782,0.8076009945373237,0.7757745174328511,0.648346886781459,0.4604586019460663,0.8720723288494584,0.9202705188112048,1.2978186541949122,1.3600507215814308,0.7255084288933431,0.7960023506376115,0.4005514537816506,0.8773720502253312,0.47486002274719086,0.828161494160381,0.9021962311535103,0.7084821352192127,1.4130656506531167,0.2663305600214914,3.73315557214758,0.8039240324852504,1.2383787050987962,0.7893744679605,0.7684248870321084,8.252906763490644,0.9647863054321261,0.7803247043863042,1.0780810657747548,2.438122404033315,0.3814081072022555,1.2352059284100183,1.2199575667774323,0.8929745091015435,0.8233714449124043,4.559528381483698,0.7238402205667555,0.8473943209609736,0.7557015683683692,1.0294972355020497,0.5392755899133334,1.0138234540486433,1.1130715986405484,0.6980545596321681,0.15560179266930768,0.7889314399625256,1.056275445365801,1.0956503833959748,1.0667611598554458,0.9190206169297813,0.8089118198606267,0.9935738234435613,0.4660362303225615,0.878138776188677,2.5380712893222124,2.0611580204191586,0.9829655885525937,0.8169691417855528,0.6408622372920533,0.34917867087718985,0.820690066772586,1.1388973276825347,0.8723820656263502,1.0006965809612427,0.8952762476887868,1.0928594764528137,0.9479968873250046,1.6713197658361931,0.8533474608257225,0.4056804516034745,0.7402501950048075,0.9951166472262892,1.1254212883017662,0.6729000374640232,0.9698496563939827,1.2345922447537145,0.7999687502743591,1.391477928528633,0.6584039878223552,0.9037728423455347,0.9806179332761585,1.6067113982652077,0.8500291187155506,0.914864452311847,2.253157552209755,0.8517944076192614,0.8664354194882806,0.6831929827020171,0.5666591239902657,1.6167963823066762,3.999022854849128,0.7761034482856533,0.7240816603824706,6.133884516968207,0.5953003000399542,0.6646280523201727,0.8804501072075512,0.9107040141447194,0.7610047479132263,0.4402252515928198,0.9940748473643133,0.85331387960913,3.233980605281828,0.6185103985095546,0.8864201824868867,0.6398297941133377,0.690272974658827,0.9584708890473984,0.5126574460772584,4.962304925001281,0.6634075495750368,0.6828249706996632,1.1742358750156854,0.4504297602084262,1.279836641500233,0.5307264081418669,0.9344451878012391,0.9341933070828397,1.745216830349248,2.351265631383472,0.7265463971261148,1.0405567017775124,0.929269214737048,1.0453140840848325,0.9638472902453918,1.0678894452799836,1.1989956147580434,0.8007757724791847,0.8123175347182003,0.805049914125678,0.519808407777351,0.7417633977729925,0.884031747757092,1.0036150714679568,0.8217454075654878,0.8959713789738728,0.5377562110605995,1.0303034866378078,0.5178299048760885,0.8184172765126676,0.686445383565325,0.8694540235008045,0.7850841695747478,3.0951317322852847,0.6972155899011849,1.145909576292871,0.5163532714347719,0.8770459499068958,6.490501119539237,0.9384952405377973,0.9436891277848247,1.1898705571726265,0.7930639329301341,1.0134666172629323,1.2115180531030312,1.1181904267920417,0.5709753995308222,1.0426534373725977,1.0353696941939725,0.8629644271264809,0.45575290377562006,4.299120551776682,0.8663424837373042,0.6997061196867834,0.9039097231549053,0.9852492945852878,1.5129810672460247,0.985226584856066,0.7085823190930063,0.8458915435031681,0.8444684173421033,3.745560473759003,0.5468448955542202,0.8172387759312685,3.750319428377456,0.5874423924232165,0.8692040326957868,1.0775487323905177,0.7296740857871395,0.787529596412778,0.8100610813517988,0.7384529130277915,0.7620273817823018,0.7888144437263016,1.3122191278443749,0.7456382333024649,0.8860444105777804,0.41869403745683287,1.1040861737044536,1.1691549776696388,0.5941681820760438,1.1057729422602631,0.6075381391770941,0.40277044925366823,0.651574416521507,0.5823833437066672,1.090725052860023,0.7994234842581132,1.7406116651731836,2.1025364662779844,0.7850637351646961,0.9159805790079794,1.4555785894791953,0.9464155106947335,12.884230303838532,0.7382668307333192,1.267028635205245,0.6475156812571637,2.1002916288328293,0.9796935717875686,0.7112237790795795,1.110381143697189,1.8101479918086265,0.773662452237089,0.7040968086937514,5.161759485720368,0.9361258840901753,1.0492889051215117,0.8467691190431588,0.6045606401590911,0.6998085436115242,0.3671157786855089,0.6156966656109635,1.1787126174790357,0.9800662802659533,0.6307248643317875,1.030289652100052,0.6843137634417129,0.8502642659923842,0.4184786053701941,0.8629439395786788,1.1241684139825103,1.402110102123268,0.7880268133127416,0.9913193212644658,1.220660391687708,2.5277954113584102,1.0750053698050084,1.035683421922817,0.9180581280750757,0.7690817640022394,0.8564948912182444,1.013436931023068,0.8946580125428121,1.0350499938003068,0.9793514916550529,0.6193627307326074,1.7057772158564832,0.7019789575919415,0.6496523189664029,1.0246511325802012,1.1622044844690103,1.089269297870928,0.7751999366494824,0.7294100490882302,0.4416262573553696,1.1050108512175925,0.870633859604693,0.9747364002794172,1.0080262094148869,1.169620871125303,0.9767830564754889,1.172667788364209,0.464153796343976,2.077469248554972,0.9964985543411309,0.960910756260853,1.047588275898399,0.7879406793947774,1.1848956186886364,1.1134427097298016,0.9655725416220773,3.0661473969394613,1.9151615942450186,0.9624399244807811,1.028413092747949,2.790633830695853,0.730847442380549,1.484885650495246,0.6914758319530263,1.5014260910572381,1.8205013644539627,0.4508216170377007,1.0583295070658207,0.9885012462838707,0.9200424693817209,0.8962782687045555,1.9345563833118886,0.789982160081396,1.1952954803735476,1.1161611969728573,0.7889155958366831,0.7600810361119854,0.2219762914948181,0.40302106390917536,1.0448999438816389,0.57942511312287,0.7418598008386976,0.7921807639957292,1.740544012640264,0.7864611783820287,0.680241555387379,1.192409273109328,0.9168517258809048,0.6908864894736417,0.9533247841745649,1.0431524929054863,0.4416322989002064,0.971369278051559,0.6199361092236654,0.7566934844213699,1.1912782114571092,1.5771620026832087,0.9533912032408595,0.5087005937959449,0.5982414543873804,4.729713923440877,0.6665206363901611,1.289600394266989,0.9445446710264721,0.8354945726654432,0.6909356519630878,0.7396343018534564,0.7077075075882756,1.853832432205492,0.9537533386325636,0.863906411563066,2.122315572514265,0.8971665277258137,0.7255724928958043,0.808606556185222,0.7056912590362197,0.7081118901888791,0.7292151280918778,0.6670127387396445,1.4488974420529852,0.5990750638673759,0.9031959628287782,0.7712987582741366,0.573788995683178,0.9739079788002671,0.8941358046188773,0.996002079840971,0.8035530426459864,0.44342338477711624,0.9455290595461932,4.5779076041984545,1.0943576072326706,0.744493453037792,0.732911827921634,0.7008011870831302,1.4708349196794428,0.8891979094702983,1.3594263708347498,0.666420353606353,0.5479573613987805,0.8910369889902742,0.6993535528129453,0.6900932489882823,1.3516082983405586,0.4168954331761102,1.9562337837855455,0.8094827845180015,0.39666284624294007,0.7110198781261373,1.6244345215957563,1.5076358203344982,0.48190998069323476,2.2534230264347057,2.9454387279316903,1.0674457726022335,1.6636506873795385,0.942589836409311,0.6672513715773747,0.8842315025384311,0.6929695735427778,0.4875151879031874,1.2499991835990039,3.213516238688074,1.0267789543249781,1.0664448828645434,0.3570696434365602,0.50221890057576,0.6201956822692355,0.879528485720898,0.747863834080041,1.0881340593004785,0.7683986560251221,0.7436371512430966,0.9122805203575783,0.6768096726668176,2.0036935316100095,1.4059128192735877,2.8929877874170744,2.0360877757365055,1.3663963291898416,7.7160594669176295,0.9390389324005549,0.20816884479146375,1.2808743777372753,0.6584311406912671,0.7214672406994995,1.586549803166787,0.9176948879494995,0.7326286834436821,3.246318366639352,1.154019063562412,1.6984422001103228,0.9998974216575626,1.197030275365889,0.8196346427172612,0.8833732385806401,0.6410682701926251,0.7115870077832973,0.9387287511712965,0.4898300948938963,0.9382077852168565,1.1646224650721335,1.3639945299335234,0.4328723809663094,0.28838807263148025,0.5285660468460194,0.7377838119278005,0.980946328054048,1.2945677458882165,2.2753604949587403,0.5906793259308736,4.373949392030256,2.160491790471183,0.5842235199823711,0.6219860606501973,1.866163944683883,0.9960521966549983,0.7353581138611079,2.3712954325915607,1.0706874918288725,0.7545836485810515,0.7720534713785698,0.40117254332897256,0.8264988195364696,1.5507780157215256,1.4000087475975378,0.7978831743623502,1.8297533454899069,0.4844167633449732,0.8438763235296561,0.7142859072337042,0.9624904583764294,1.0784896460808944,0.30920906265413933,0.8008529613599098,0.6274601538595272,0.6327117993626745,0.768651706118289,0.7358339937211459,1.5749250486314965,1.0204122922252825,0.7431333345320785,0.7078067391804542,1.0471617833884883,0.7696255601532258,0.44969843911634355,0.9509360807387975,0.8923095579380709,0.6999626564160849,0.8720842732287889,2.967675582210143,1.1926194197508395,0.7345467590222495,1.5444455838164326,1.0068497468651294,0.667525270129415,3.176066853343589,0.9731794360622799,0.5167177536088329,0.9906910929111933,0.5853983837110217,1.0336776244816408,0.7260908357010067,1.0565721562807344,2.507955913795571,0.8210978024142779,1.3524427920571593,0.5328507871278019,2.539911995638481,0.442981453285018,0.7586810641917231,0.4089880966453818,0.9165113764925651,0.6796088243163955,0.9713023439659567,0.9939059278488961,0.7817737342318098,2.5364873485756254,0.973835832493779,1.5796493847183992,1.602831458783589,0.6756248986662854,0.9225901814707682,0.8226441500625679,1.150066942288137,0.9878512518404308,0.6459363928299905,0.6974870666220939,2.468064380889747,1.1254155453470795,0.6869546352746105,0.8578692478863885,0.48037546973450124,0.7526299173623099,1.2162956267938223,0.7278073355477632,0.4655455828399655,0.8946850210764966,0.8237994862102631,1.0314771742717772,1.0568211253129296,0.8242367947183856,0.6065742399020434,1.657919108149084,0.8324891805700896,0.8657123135508425,1.145330701279085,0.645860585128672,1.184939284945224,1.3881553968630551,1.0503637996531006,1.5870200198922673,6.667821769734593,0.8117409877795292,1.059162102011353,0.4698881877947595,0.8579363651008957,0.751493794369797,1.269727862765066,0.7219862237762911,0.9605017337002566,0.9639279099281903,1.0632806276920133,1.2290480452042516,0.844572456045933,0.9594019445309621,0.8093483652763082,0.8524711531426046,1.0570040589393872,0.5451216726221879,3.9969265751702054,1.0763625764034515,0.7515141776302949,0.5715984359369295,3.49224065527837,2.1587201630638693,0.7767520232841022,0.6550023738296067,0.9417938840848329,0.9358263713440784,0.5706500365032147,0.6794673891202551,2.884698352913435,0.8442254970925089,0.826088163882852,0.9041701961436084,0.7127917749103949,1.2217960734543962,1.6620599330268502,0.7270656343038162,6.482737050243367,0.620307353949223,1.4142580216237417,0.693586150488286,1.026428388619279,0.9690481503893764,0.7990775039925198,0.6880029819688143,2.371674119437552,0.6267482674045446,1.4652903586154358,0.786671106617926,0.5838994384035447,0.8002602659858903,0.9548863579801514,1.0109066140355547,6.788421706190872,1.3961714648545642,0.8024496744067036,0.4823760749655639,1.016678991824191,1.1312266315466735,0.9458849995458924,0.6948230703715015,1.0004456944008617,0.620564530707129,0.5357117706798529,0.2575225631613164,1.4011754841074913,0.9800677606134903,0.855092598725063,0.6544468648456464,1.2178787164449003,1.1700003543329984,0.665937937388786,1.3881925578152556,0.6354231013960336,0.4494645877937574,0.6490961182900343,0.6147029207336322,1.139548741784992,1.8249428522762212,0.1038195539447346,0.6586529107694006,0.6031978332503095,0.7539733227353381,1.184563697074394,0.9966365688568439,0.7778219541715656,0.9175056742849662,1.0571240375936422,1.5875881823030222,1.0384922415843398,0.6499815916562435,0.9678635844371855,1.0579519921991642,1.8592908102628456,0.5215110793425324,0.9321835141093245,0.6761231717457581,0.7108857464717424,0.8998550227810569,1.5513098028031296,0.6968177745049589,0.8581964004272797,0.578941842878007,0.7662810460166696,1.7378654739119008,1.5065425892318214,0.5234357326135413,0.5665263137439469,1.092833036845963,1.4135329388966131,2.0069583863155334,2.76928956390579,2.7143796047551496,0.7468657542896628,0.7237088827481961,1.095284500068516,1.475062698936032,0.837739639503811,2.6106021889400393,1.0435569007550642,0.882285080925157,0.5878737440788803,0.9834259623064274,1.3590928073916038,2.096102028322247,0.6558293307377462,0.6739765048205317,0.7752568609560544,0.7573043430360444,0.6545985447217297,0.7582523957319339,2.1098626300596552,1.004411872626493,0.5980314835580088,0.867620332785183,0.8372812291485748,0.7267378352631844,0.8077958819879252,0.6080843078091752,0.7779864261901043,3.329118108935592,0.9425933209885526,1.3609175029844593,0.9790985524470872,0.784252891734362,0.9008743858928135,2.343055340316333,0.7770527258462661,1.1429181955291028,0.8308415946520582,0.7768244935791896,0.5233072009060561,2.4657312840476067,0.8804835445300566,0.3490516941480637,0.9111495314421982,0.9864074310282683,1.4884585118737448,0.7713317320929275,1.0128946186948304,0.6776010316112087,0.9135377818653716,0.9352875473243141,1.7313855479402434,2.050249197267328,1.0787820595818238,1.0401598792060247,0.6117374475334107,0.7336946237348487,4.18342702841678,0.7811514481382523,0.9345662166021382,0.7252566560212752,0.5103340465547426,0.6151775251338536,1.5209112316932532,0.4922125638337598,0.4710614451909052,0.7885934442803331,1.033278299429748,0.8799478915063034,0.8694920123736136,1.648033586334141,0.7850652010645323,3.1448143718063726,0.8941837998896017,1.8100817858739067,13.6029209218324,0.8237349872240312,0.539761622966646,0.7261172171339512,0.9677527937174839,0.7973315701882263,2.941275224014318,0.7799123252668296,0.7716130158116872,0.9261232486586414,0.6852714748489592,0.662680635516936,1.2373986988145211,0.8571474090974803,1.1251694355882789,0.39114290206275915,0.6824522685800325,0.5048753884563522,0.7413417526344865,0.901346643020847,0.3733180858757916,0.8952261388799352,0.9784107479889323,0.485611868868544,1.0398078515424907,0.8180705649263773,0.9794216488989833,0.8292494139907367,0.6628415678071431,0.6513686663992291,0.7146980796927107,0.908065191773004,1.4921176280263104,0.5058666972099439,0.8769485986055285,0.8269706812693695,0.9370969922840335,0.8811220126903242,0.6406944880171499,1.0656533824040886,1.7283867899129068,0.9878602468864358,1.2865031663048632,0.6051059198822811,0.8947230244473356,0.41225109160479223,1.1180746855835562,0.7530486426897809,0.5827200288360341,0.5239174126400817,0.6520068548019817,0.46564129219566697,1.0473633470438939,1.1660604055159007,1.3098733630412869,1.7278406301191103,0.9391947084180365,0.9557963106448014,1.2942276582770607,0.5947975137197126,1.7411772325533514,0.7327151826765728,1.0649058140635095,0.8572534353771821,0.8215075114328552,9.058900717047079,2.186376130913598,0.49197813265394164,0.6119368718009789,1.537519757259953,0.7795019170946811,0.9645028226794037,1.2538598359875777,0.8712565455934187,0.8392616340618159,2.6783374407688916,1.1146759115532079,0.588888398154586,0.9963667684019454,1.1039411451474048,3.3715405406840926,3.5065874322682866,0.6894396973640442,1.3776202694448934,1.698314755907016,0.010970621290547013,0.7550598367966864,0.4367013903110677,1.0816291220399852,0.6646881026009128,3.502427874634181,0.98715875668104,0.7575070909010145,0.6097127729978528,1.2048758472297765,2.2034038838468835,1.187404583617432,4.898644755631101,0.5433428981390469,0.8690688470164352,0.5478021583023115,5.34491488562065,0.7933001075868179,0.6917998004205987,0.7902130424995799,1.0171897099559537,1.20473338871762,0.828454502888109,0.9932270492602212,0.7979594085623993,1.1168617082816654,0.7977270102223452,0.9010575408772283,0.8726068905605459,0.8426332431376303,0.9625188165817631,1.1472827406861765,0.35450084624705414,1.31074500592791,1.377884854738788,1.6060881858241502,0.6402190572406077,2.6491389686226983,0.5732581145873372,2.2134342285386888,0.8013014411216255,0.7737909734728236,0.7301994566233483,0.7658793829598993,0.8657607976424035,0.7073043920038972,2.50628912309371,0.9385191683735075,1.7467778166580863,0.604941001124454,12.094825948985196,0.8722014845106798,0.4467179857731549,0.5665794591076551,0.8201295739050263,0.6786217615540238,0.7274739937109986,0.6388010814524048,0.8403308860272591,1.0554678927299328,0.8302971535687159,0.7427498084337626,3.409611867044596,0.4754275283678262,0.5829162122669314,0.4669457427563592,0.3971452937579921,0.8274145504646152,0.7935090693874063,0.9796531323972877,0.666131705030666,1.170129477276869,1.3229141258989472,0.672568819381244,0.7859986702480806,0.7517661312508738,0.6262714407658313,0.80576678426367,2.0977883607537082,0.7781399681091478,0.8653588456467933,1.6459280019951565,0.9960636612399388,0.5405806694595527,1.1845582513227337,0.5590557675022272,0.44281963473843566,0.777178663768546,0.7784814458364682,0.9145803475199836,1.1385095480029999,0.6041851368294068,0.15668348986891636,0.724615551505706,0.4282995058650056,1.430523480266039,0.7728837744795514,0.9781838911215385,1.4929718707213067,0.5227334858409791,0.692236657788259,3.23768732666574,2.2354040926443592,1.191303194890858,1.1725116456454032,0.9595806111231757,0.5879922101103472,4.41387005369668,1.045250472138045,1.4992816119479666,0.9881448839014602,0.7708453413037438,0.8842838562036278,0.8145363683497224,0.7918915818553571,1.102862948334596,0.6584499530573837,0.4121113159788917,0.79106370244752,1.0130499986274915,0.7476240985076334,0.5835080659786194,0.696054404735468,0.691726228833745,8.764274574543563,0.8025095276943884,1.5280578335065074,7.65418412741396,1.0625497795525836,0.5383142142467832,0.6388555108274476,0.7149710158397189,0.86706989976107,0.5935936881091978,6.816229985155603,0.23682836045324226,0.8928645851935353,0.6815878886196642,0.7390214008727704,1.4694817930397628,0.6825287381031807,0.888760707551222,2.105593874526521,1.0440317229971074,0.5252112867947722,1.2506620568616906,0.7199738411420677,0.5938638708091948,0.6721497950678021,0.505006991231468,0.6472526126240046,3.132521849681993,0.8658141276091034,2.8126593822979795,1.2531187604553915,0.9385191683735075,0.9926618199374432,1.4586564833706357,0.8955325638990328,0.7233449802273688,1.3774488419844428,0.9485638820050359,0.5321564800255945,1.2562507812998016,1.0442565757488798,0.644251587421069,0.5475682004347625,0.7443181047687673,0.9713214830218887,3.556052004928078,1.1665222551632408,1.3507194497486454,1.5006420744490674,0.6841993135813466,4.117468028747926,0.4988086720411368,1.0867244773901743,0.7914463976555527,0.7772243763451966,2.1638100829770064,0.838003410098481,0.7593947873888337,0.9003449787225342,0.7772705052347091,1.4434651580701066,1.1703518811407139,2.057421628899242,1.0584918247643573,0.8114850147551748,0.7041972273724192,0.6017325361428905,0.7548924262749981,0.9634603123445709,2.143342169345794,0.3389056087671243,1.4976051330607196,1.9754311421909978,0.59964434429695,0.20176982128116466,0.9603390269378407,2.0235823865817344,0.5881776948254266,2.425693481750481,0.38240830429208117,0.7420437862780026,0.7183765300702167,0.9240323369129343,0.4788340741664946,1.6811047591956005,2.241004435750944,1.002799496626221,0.4166538031458175,0.4804737555939187,0.6799126741404025,1.4071335331685777,2.4952434687761085,0.5815436847437134,0.7619388830394394,0.8759997461977873,1.3522200888295468,13.015148041124387,1.9589279130869852,1.147833952374897,0.6372949247131585,0.7679820619264444,0.5111237281618397,1.3350222696224259,1.0726544256277937,1.621545999331907,1.9448034722200922,0.6516153549597623,0.45774364088699004,0.8855465507180886,0.9000153122204184,0.9040590872621721,0.7181463260795411,0.6673376133875342,0.7081545767800028,0.7515430392404803,0.9728693928467579,1.475320408497781,1.113638414468326,0.2916845891060401,0.37474718163508436,0.5401965608999383,1.2346289716524896,0.9312665987938198,1.6208898474555982,0.992362661889892,1.1715959837784662,0.6915471568402557,0.714418534872738,1.2901118117969157,0.5977087957518586,2.5066337469693654,0.6290340682754623,0.8203213522137712,1.0389387034747823,0.7497992188431017,0.8768414146884695,1.0435467995874472,0.9129403753472036,0.6485274891354205,1.6266902679550947,1.2705941318947918,0.7552034118680073,0.7953089248338676,0.5796422788512188,0.9546386767627377,7.550127903081841,0.5566994331478209,0.7392822955063588,0.9395377239630289,1.4741733876819005,1.2790051685435695,2.7427418928624534,0.6309534782390971,1.0412647847166472,1.0306679945109862,1.023954728443564,0.7263412008310286,0.7064090512553012,0.8790139223442904,1.6037987640616564,0.5504326688959789,1.0452740222908117,1.962863220800702,0.5408693689586955,0.6700137049231056,3.4160843666399474,0.4362572413045832,1.185037361896634,0.9266009114445753,0.9037987116718227,2.565533974581853,1.034115876851412,1.4348109770249189,2.530122062253971,0.533307835272168,0.8085925694428713,0.1640008865236392,0.4168297841271428,0.7709830967341575,0.8423231944543677,0.8966931394778379,0.5448732836809269,0.872946079340346,1.7497911632531553,0.8816360930465306,1.0298779641630704,0.7976639894939273,2.087924178450704,1.0456332139456692,0.6741022764543021,5.315825755854943,0.9925560858723498,0.7828042961590638,0.39937226628515743,0.9051498087550935,0.8755972379309096,0.6491132614114505,0.7462758830989311,0.6768047329956218,0.8399465938602091,1.2139623479834298,0.8161528559442139,0.7493453526549841,0.8478188152355123,0.6814989955369204,0.7005150659423205,0.9836897772774247,0.908798878783625,0.8192652889686205,0.8910625966205264,1.0570878767603458,0.7151460282094337,2.4318769474592634,0.5122296729973917,0.770772157875441,0.5701253008142653,2.532659447833945,0.9727529419294865,1.0279677152570268,0.980892636610865,1.9836127271341535,0.8527755841568232,0.921400248571876,0.6576925340565949,1.4810918577615315,1.3094607361770438,0.7971686144848147,0.4318307958099986,0.8498488575599086,6.572451005109424,0.8454349332493105,0.8512561369394525,0.6723565222219401,1.0349384406026723,1.4984778219725934,0.4139902054949005,0.7531500543327588,0.6620962223940725,0.7886851813907014,0.7594493064750392,1.7130117311259525,0.5104728756179724,0.9873878619354326,0.7094741570783477,0.5603236619876184,0.9664875113837988,0.9173547498936532,0.8812591535475011,0.6973587767267906,5.151019889301771,1.4782103133247588,0.3500558631721146,1.0029554993537366,0.9191338064490732,1.6209567332260144,0.9014413768497401,0.9620361802088166,0.9097877361623657,0.8392075624021105,1.62089964363612,0.9075737417072336,0.7810883673763267,1.0520325901600915,2.485731170567604,2.901734915833305,0.8601469480127151,1.8025682427281813,0.9917356866955203,0.8777923605003854,0.952863380935872,1.6171260178352764,0.6304980138849573,0.9303155150935949,0.5931019765339994,1.3006696218706688,0.7205228622837705,0.5446364962921659,0.057798787017860814,3.3717655094229118,0.9103572255848447,0.7228724025068847,0.8971324168815926,0.4611365238817195,0.9534188435905312,0.5773172318992991,2.016178551258406,0.9666369302600422,1.6788995893145136,0.8988592688362866,0.75930887068601,0.5562584877129018,0.9428049167937794,1.0918054189485153,0.764072311350893,0.46007248312052673,1.303902533464965,0.7186747091753289,0.3327733638026274,1.6434711267613793,0.6701383162720445,0.8259330490361043,0.8377627091527026,1.3962632832163604,4.369412893016517,1.5875821191152093,1.000612981269507,0.7677129336720171,0.9491091606083818,3.160511052134964,0.7269094793926475,0.7248516982980634,0.47379509895172334,1.0514391489416415,7.84580415061477,1.253320094793182,0.6236396536084539,0.4858127469642123,0.8091175012304855,0.7914376550672735,0.8676766569520776,0.6976073957613407,0.7591231985936788,0.48068950347870143,1.2615273679536116,0.4967512671284451,3.659591048864847,2.715964461832976,4.395528378458002,0.5722735175469569,0.6243558607200432,0.6858356233462206,1.0491966428629913,1.4534118856396607,0.9887815299732128,0.37085881659070064,0.8291625318575226,0.9039980413759233,0.5937230983364182,1.0641497827345774,0.9536437369325242,1.4481720382066725,0.29674798855694773,0.35067615905497473,0.6322750986261645,0.565446778301479,1.0783286183186265,1.5320613276612693,0.6303647857001928,1.059941859218561,0.8174968101053947,1.055164069383121,0.7646690267280238,0.900840446261421,0.5458804643974828,2.466263140110331,1.1082054368109293,1.2443971272895045,0.575490333564705,0.964981387775525,0.9093532441302974,0.541301892671872,0.6674470934189524,0.7770639228693754,0.760961596923496,0.6479690924328578,0.7231766064733804,1.2621601031020302,0.6852507231774074,0.6338483453151029,1.1438333500557134,0.8222723767694524,0.502479291934534,0.47832361481049723,0.7467542464141135,0.6401380457635019,0.8129758157031096,0.8012135155844475,1.2012019927067894,0.8612040987304498,0.7773069798919477,0.8071657047064332,0.7347677261264456,0.8279987854805386,1.3353565178669713,0.6582145617390984,1.8902601508949939,0.5566350164826844,1.0950523772880607,0.9034752305438216,0.8511203814603696,0.8654420124400598,0.7830242647122568,1.0492844626203663,0.6918348894910429,2.0391555899095857,0.5223211898889196,0.7757369795528068,0.9539614162364582,0.44535017843924113,2.581104468480958,2.030904080002879,1.87202872553764,0.5709359507026294,3.08302127779434,1.174843913887754,0.9064712599015792,0.8005541154982625,0.29556452984461884,0.6879159405543883,1.5399721395371566,0.7937481671943009,1.7422480212827052,0.7075483532699571,0.7690646911129053,0.6139456014484367,1.0402391704362262,0.7807641282500563,1.3169018508919057,0.8704515998962478,0.6786292245519123,0.7983451039337134,1.253680243559967,0.8002227280851943,1.8198125536539853,0.8226251611348137,0.6924825867726079,0.7667117759647402,0.8989418455597601,1.02570177263068,0.5328750750455339,0.9898093661958594,0.4397674523443251,1.8275853424240482,0.7903450290828393,0.826527264769186,0.9665289231921161,0.9069045267877445,0.8350483380836768,0.8098970074187817,0.49366086117859526,5.543478061765002,1.952999893196881,1.419925300869254,0.8027923414210947,3.781804150811632,0.5903826917327682,0.8874260824211693,0.97268677864818,0.7552588686578583,0.4625725986188429,1.6571373782764867,0.7280499145915975,0.7117038169463229,0.9474429272616312,8.132811423909114,0.8024826618000389,0.6543125756735545,1.285967311384934,0.6202053989665371,0.884495620891484,0.9472228901215485,1.045768639017223,1.38521097754146,0.4853083955372929,0.9011609905702842,0.6354860209216442,0.7519571098752742,0.6300455443747938,1.0433547456973715,0.9358240526189406,1.0815014063869461,0.7023796784241527,0.8835074416224373,1.0903531986583581,0.7664325806914634,1.3466837837487708,5.85749649836751,0.5041613750557246,2.202948400537381,0.8740956272133427,0.6850891594978782,0.3342087097612468,0.5262509689851776,1.4109046716395681,0.5967352748343038,0.467416879298745,1.5937273135388375,0.8395876134657463,1.073356699229404,0.8404621101374684,0.6332892254596316,1.369067624298661,1.250988588074307,0.7970204307573122,2.5386970398031337,0.24882070842332327,0.8300680071389934,0.6283611604038615,1.0311911936258789,1.4627772522482012,0.762646815358164,1.2122769123298804,0.7196513044729184,0.7364495569903744,1.0101770163998067,3.6926395669756853,0.6477247669663637,0.7778726468990097,1.322910914491989,0.7329577662639918,0.6663307230223976,1.003636811559719,0.9789415194729403,0.8470390848621144,0.8744827507698039,0.7251742897807675,0.7313002629298517,0.8566453169169349,0.9209369911960739,0.5637923778993893,0.7969928534261692,1.9197751114006227,0.49330368462372653,1.209279879447772,0.7000534869399502,1.651669983376477,2.730467670574476,1.594445401280498,0.9856918601666965,0.7637471321405394,1.639843355698476,1.2093346547998074,1.9660210777201794,2.1526042284643068,1.1695010980811436,0.9181692042025806,4.736705031203985,0.8010955172178964,0.9921874989745134,0.8870605611196867,0.9878478482562892,5.698356301620354,1.7631901198247877,0.6449363537973094,0.7274199980572686,0.766493287286907,1.1265144782988874,0.49475467618349417,0.728710228232179,0.7697721397223255,0.7474774455536969,0.922499740642936,0.506534544998247,0.7892625299652873,1.8024674248833903,1.0687160182854802,0.979405667114656,0.6869420150349564,1.0173259489008084,0.6859789002702609,0.8302640225616056,1.3893677251374121,0.9417862098946806,0.4218210976068265,0.5302183251748508,2.4222550293617022,5.972932411273079,2.4635832954082755,0.9700618726362353,0.6030430835000341,0.985289499047722,0.3411843516719538,0.3729475161152176,0.5637651019768122,0.4099681332469203,0.8735183643464803,1.0089870617395498,0.7790602469606825,1.0910868087695862,0.7473869717145695,0.7562773356723074,0.5234603977058969,6.722286195025234,1.0433471120231095,0.9507164870370297,0.8541571131217752,1.5115027125020637,0.4832808603658769,2.0544058754875647,1.007087256866489,3.9112126720356537,0.7325345046430163,0.62651230854769,0.9493381812311863,0.8982257306306489,0.662869804251656,0.7715343287049954,0.8343259481200253,1.4226234492036645,1.6161463929343403,0.8356370419917649,2.704458334626457,0.8402516020409521,0.5369678678958502,0.5030658148892044,1.3836912728601762,0.8589979746617958,0.6994453638818853,1.3513141908599804,4.333271247900995,2.3265616883059037,0.8308149423300892,0.9921764405583691,0.8070315396591687,1.4026853279298528,0.6837898256008162,0.8392835064596469,0.7500948286302991,2.331587073324922,0.9007285701042762,1.5369830447580064,0.9242969272923088,0.7620870781634022,0.5948287872674376,2.1375344959645424,0.8148158521985371,0.7809803142858336,0.9178820553749252,0.9078984575472308,0.4585693837682246,0.6478723929168846,1.4173717014118825,0.5536596193831052,0.6765983027809421,1.05690382296307,0.5846798452406559,1.0875946956640412,1.9999496071941691,0.5052737910263458,1.5092616962281007,0.6331945547778619,0.9436034766611066,0.7503861356176151,1.432126371697634,0.7814886647321236,0.958828051267786,0.8139390172285864,0.8235932644040724,1.0789598632830537,1.0111413236400804,2.6313825620959173,1.0690624496774581,0.5791910528029147,2.6190331323074263,1.6351685173124115,0.7932376028577584,1.0350629539669822,0.4738125702539717,0.8241680545697898,1.616140598640192,0.9079472772855988,0.23963906601460125,0.9135805729029436,0.43557764767701035,1.9036308189540205,1.0225111371249884,0.7141265680283009,0.8508784178330893,1.499383746117836,0.627430497003836,0.5134347939267007,0.8499472291117384,0.7857027121824995,2.2566805405697004,0.662593509122221,0.9049991071616224,2.477841658962399,0.8552126251959297,1.8709628558037348,1.1924999995263772,1.1696103950659102,3.0984578289001465,1.3650320313330209,0.9685096139874542,0.616480348854207,1.060649686924313,0.11242285618718274,1.232246482018685,0.7661922458047574],\"xaxis\":\"x\",\"y\":[-0.921381412317883,-1.3298580855717208,-0.6816216142196754,-1.018481824227825,-0.40886359119421256,-0.5599006051948924,-0.3514831335649291,-1.3241314890855724,3.0238026995471956,-0.8811562990502524,-0.4015877233759864,-0.6788613007015254,-0.35052660087859766,-0.4216177287874878,-0.18420797866878905,-0.12859797138424128,-0.14747793471789816,-0.8815937974721209,-0.008888523028995038,-0.5594859765379037,-0.6277028048685422,-0.8473531673616683,-1.847150006976279,-0.7315584121261489,-0.3827668920460962,-0.5794169622130425,-0.9137519841601925,-0.6887814302665981,-0.7818672722861586,-0.8205027651227865,-0.3636160296525737,-0.9804285882387468,-0.35462203557735894,-0.6813937070964797,-0.19674216801414376,-0.9688659061547911,-0.3393359274821224,-0.4519553975468694,-0.4400054497503484,1.5737764960858438,-0.6675713778044333,0.5852639916108315,-0.8498834231016258,-0.32956288643432147,0.15271652404791264,-0.6880395398231136,-0.0944143091867023,-0.3399076577169444,-0.30002937898226584,-0.5412777208141757,-1.0745652404447208,-0.5392105882745859,-0.7350806323336296,-0.3997584245384958,-0.9420369160639763,-0.24505759687825457,-0.1044350623154307,-0.4419813928512656,-0.49579246688522055,0.18147087568708178,-0.6066262311169079,-0.8254254795478594,-0.7112519635667768,-0.731149076756755,-0.9770335717929494,-0.45644937186557394,-0.44891652857307107,-0.7374758967039958,-0.3363263615568144,-0.6406099980092588,-0.8834982841719337,-0.41386428747432724,-1.142561037387279,-0.0848818812990525,-0.88639060793765,-0.6326275829631618,-0.10214156039392402,-1.0452402134089083,-1.4533468301427088,-0.5198759088300439,0.13102461932338294,-0.7129864716126506,-0.9646358825124696,-0.340883165931479,-0.8572671019655026,-0.5662754559941323,0.17677093053157558,-0.37550761380076864,-0.5815774771210445,-0.39558864151831474,-0.7294403665809432,-0.5327268545333056,-0.23429799932485607,-0.48076374000294464,-0.3442757923000948,-0.7033897286810346,-0.903768197572828,-0.6522379180658243,-0.7288737557139353,-0.4147856156832274,-0.7081305114067413,-0.03473470341083,-0.8480038008373075,-0.7296950279733785,-0.5272490208688678,0.0351300231823121,-0.8669824313178853,-0.33760808271146053,-0.8299951032161736,-0.7301619605622174,-1.06718516102625,-0.4501545287703313,-0.30585174434551576,-0.3462433036958821,-0.5575965626885345,-0.612715605604103,-0.3736996065100654,-1.012589432960685,-1.1740632896111065,-0.3647906170393335,0.37682049527648437,0.09271860979991936,-0.892517990239072,-0.3090034524802691,-0.42497490695901086,-0.5178645416816023,-0.3301748556255732,-0.24242944142309628,-0.9049670559330905,1.7908262677568976,-0.8294835004989942,-0.6685506930705081,-0.42655182537013,1.2186846281671129,-0.19375733672361078,-0.6058529901190034,-0.5917657156632989,-0.385266837736521,-1.0782027527201046,-0.4690224005096325,-0.11303052204337447,-0.6682548805060469,-0.4391594618462436,-1.4045541062957372,-0.4439962743001214,0.04891124672106222,-0.11351656870363719,-0.44597022160788025,-1.0613971174345165,-0.9917996486302455,-0.9920366089147653,-0.43704804079186055,-0.39774534730304456,-0.26583601405336954,-0.8246464088240217,-1.1645426881055922,-0.7280883807459735,-0.33139329213649066,3.2152921266424754,-0.16672131487830122,-0.8054181389796549,-0.5967122931402824,-0.6936388265973634,-0.49717163433496714,-0.3938479028297503,-0.6993916449166875,-1.0450835412660655,-0.027874406413930297,-0.9627285292313517,-0.5831143056661422,-0.5094520962991047,-0.261525303160274,-0.6946448405336259,-0.4050750086169327,-0.8401365183281503,0.2837607171946471,-0.6433753957564639,-0.7888763208925469,-1.204856977812358,-1.0352194540174564,-0.7505945448120981,-0.2985009071737359,-0.07157720102003788,-0.41512325813346784,-1.7958469191545778,-0.27887382228083585,1.219470308969062,-0.5556319492120688,-0.444491180120424,-0.9379035010970643,-1.0216306713762882,-0.34480299934142,-0.07154294988000416,-0.5601884125904358,-0.7161496216288734,-0.6275250199102447,-0.48654472264103404,-0.5779700404749144,-0.8917490801813744,-0.4787010532361532,-0.4268843726678007,-0.7911813842636587,-1.0701376382541545,-0.6381689156066526,-1.0781113307551697,0.004036306586472596,-0.5319920767592344,-0.671542554559174,-0.6599598092591417,-0.590483715331834,-0.4005544642722721,-0.6574917820801409,-0.4290883072277591,-0.35481848453458714,-0.7332462454221,-0.08339758802644759,-0.3899782299895719,-0.2053665396993075,-0.4739707523791696,-0.4258199058285323,-1.6822138719970228,-1.0159388673018541,-0.24807522443474567,-0.7707692785479465,-0.09842441538118087,-0.6238751619065618,-0.5405638404708838,-0.3797180734503754,-0.06012623086334304,-0.46186991393042354,-0.15651759767413265,-0.437362960492421,-0.5448846143098229,-0.551187106701186,-0.6048647514421422,-0.4571812203649644,-0.6885957227806684,0.015346541801323317,-1.5123182370831552,5.201622462560449,-0.13502689975005944,-0.1252418391627579,-0.659100353539043,-0.4003059850134716,-0.8636511659532952,-0.5170340738643889,-0.12584090652637941,-0.44768738577598266,-0.5352556075961956,-0.2160847664060526,-0.013306625346380038,-0.11691133527477084,-0.5937916561798213,0.11609688879698811,-1.1609982666838639,-0.16140685181736486,0.16126562908862624,-0.31999357868334527,-0.08084301777448111,-0.15473973365770138,-0.49670568625242567,-0.827931745823981,-1.5268139309899365,-0.21098817117493926,-1.1045613744587823,-1.2179397127936262,-0.2604966376475126,-0.7260966473739914,-0.5779657140517663,-0.4072085770320323,-0.2272033220215033,-0.1701446180105951,-0.18492780935742656,-0.8500581876595665,-0.9326328087861004,-1.5988267089361656,-0.3798701022309059,-1.1713712891681582,-1.6146911618009683,-1.348451124684902,0.017324982393450337,-0.41642388907877015,-0.6521946040678834,-0.4744892055246671,-0.2614192117851104,-1.3161537142967898,-0.6745345621352388,-1.134279316124663,-0.42245730834476936,-0.7956458492012278,-0.36040216424484545,-0.9015751490522347,-1.2189422197650452,-0.9802864481533893,-0.8496963649884683,-0.4946522251713735,-0.3910291580283097,-0.16168095581744,-0.12386140817176712,-0.5180946801140024,-0.25924764989714705,-0.9762840530804577,-0.237140918443347,0.052569567950512014,-0.24265610616053307,-0.3321726915157694,-0.7763818141405981,-1.129071941812029,-0.3312948073643261,-0.42336092966864536,-0.28301947743962713,-0.8749675478591243,-0.40285988948933,-0.2797963831770535,-0.6155525644830848,-1.1498332555951125,0.27805734917882863,-0.0779645743768099,-0.45526042637096675,0.2411020882124408,-0.16276495699394122,-0.27966061768891615,-0.6067106873703475,-0.12255296500049456,-1.0022251339469572,-0.43399529019020827,-0.8643835651294145,-0.7972195510755345,-0.980222361336262,-0.7654708785532282,-0.48071540216364506,-0.49070803704407917,-0.8398513062176809,-0.8002719714860249,0.03517833420921175,-0.40418004867590435,-0.4220205309755951,-0.49126303811815586,-0.8649659583026059,-0.38227261627047904,0.18271433412343036,-0.1981995115526861,-0.0498775130796999,-0.28860041911405165,-0.6786067660610724,-0.5556774132242399,-0.15791289143794413,-1.0520361527997664,0.11138221225598752,0.018428534006515986,-0.2510947851119515,-0.3800783871453807,-0.1633873421473109,0.0943692868548814,-0.5220754058958077,1.4180842232185102,-0.1858279986387936,-0.9180236499837559,-0.5903868246731087,-1.0571434389164598,-0.7888259722534194,-0.4672055889711071,-0.3415263525388181,-0.45680335369108305,-1.1895319317169708,-0.09086270973737247,-0.9848173662483761,-0.25517427869682896,-0.5196137672394308,-1.0669770309005036,-1.2180992666011194,-0.4148265023519546,-0.7724273896161786,-0.6288053979559065,-0.08250041839250771,-0.9945178642644618,-0.36324942466597443,-1.0384027657174617,-0.11561615595425716,-0.07830924415389844,-0.022845218906374434,-0.34842161123902504,-0.39831711771606537,-0.6217335185754355,-0.4030305261973941,-0.5376036166919917,-0.556729678923764,-0.6275443900857314,-0.4917809066536763,-0.9034465752905763,-0.30482207105320713,4.2555628580498714,0.0927953976299721,0.09169710443222738,-1.5795514680726952,0.11631145605309406,-0.3976282246361469,-0.7001503937810349,-0.8461084242119579,-0.47853358795463036,-0.4915454831982048,-0.3893345023221625,-0.8889592535871462,-0.39747955690827275,-1.962552277338449,-0.49222618117094824,18.263587664489705,-0.33323196375066777,-1.086844279546308,-0.9970512105054619,-0.2716243923948545,-0.7045961551411536,-0.022506647380318184,-0.9645745153257587,0.047628176261038824,-0.08730065031184159,-1.293562185003716,-0.7040390890925425,-0.7204731637404421,-0.25713275351433473,-0.6605074129199693,-0.6700668034006984,-0.6933638477687157,-0.5305579792245644,0.169510511133282,-0.7084630727455329,-0.6345031228268074,-0.4457376928038001,-1.6003153614591468,-0.4929186196893301,-0.7751320199030381,-0.5425182131225909,-0.08514796402358005,4.2297891887826164,-0.6877308179981519,-0.24294976327152867,-0.06484954733627034,-0.25052194959344604,-0.3578874069750454,-0.5719613942630538,-0.6581007283495777,-0.06000600647728404,-0.9716204058054541,-0.6922400149940937,-1.446159861873066,-0.9477696712898553,-0.7014945660470305,-0.37490108950222417,-1.3968762805002126,-0.2847399121469034,-1.6711104520036584,0.6357442952931132,-0.6812245952708018,-0.3537070408345153,0.25036200755840743,-1.0838136388647193,-0.9781338004383637,-1.2480482565761855,-0.4428560521783467,-0.568936069918783,-0.7605958959647484,-1.373274911710034,-0.8320421972404131,-0.9741107225618784,-0.7152112951056822,0.2685015609066008,-0.6684266146192714,2.5854759397111815,-0.23537560222412884,-0.6568589952497096,-0.40480923658762136,-0.47109655478180057,-1.0722294306837274,0.16482138753376355,-0.08862203316899936,-0.8966884003298465,-0.48044817842587906,-0.9005232021040679,-1.0635510245582886,-0.5056929442924996,-0.32183624834213276,-0.10802364655872754,-0.790751321059873,-0.14796390007133978,-0.6184011661620894,-0.6671109212769737,-1.2070457090393896,-0.22833456950263661,-0.9563221912182908,-0.9346107564723373,-0.7615794639303617,-0.36417580283060347,-0.17560560318421783,-0.601293289013357,-0.530078507997978,-0.560032890339445,-0.791174441605454,0.010304227460196658,-0.9477597743639854,-0.8465182671143602,-0.6046042581800325,-1.0893809546435538,-0.15013607930253925,-0.924005514920928,-1.0706793004395236,-0.2580489751943372,-0.11410255672805356,-0.9799311994892145,-0.18444209467614195,-0.7918645456582635,-1.6874719185833795,-0.06621925897730685,-0.17791142378031713,-0.5062584913302436,-0.7309261295792756,-1.2297139697792423,-1.0916312714875036,-0.9306084364262429,-0.2413691759982831,-0.6519802635126274,-0.034026872131266095,-0.8929355163699179,-0.9028794516785995,-1.2119371633803757,-1.5250814411539473,-0.38733197788133017,-0.5068250962786459,-0.9962755549092432,-1.5568454879354223,-0.4258357691421759,-0.4984687253618958,-0.7716831412202894,-0.3485358872446141,-0.49287211068450626,-0.3630242594733446,-0.9107052404807702,-0.003792927967650128,-0.1615672768426033,-0.464067769305695,-0.23115691607069908,-0.25876496357858775,-0.6122113859390885,-0.7335283955489168,-0.4659056671943138,0.030111893431318287,-0.6419340824404998,-0.3681207518611417,-0.10970301349878861,-0.539372568882793,-0.4820371028031337,0.07283003634932413,-0.004586071914918551,-0.6892902377950278,-0.6570868692377638,-0.5280954269028412,-0.5917156325145769,-0.5555504455648308,-0.9032948774598165,-1.3349659839055403,-0.025686079180283376,0.07498273373008643,-1.180973826923805,-0.6952473305254484,-1.17431617598689,-0.5947468778513622,-0.8132235829806452,-1.4213860643303122,-0.8258947608465509,-0.523393612261543,-0.8190450920543948,-0.4077838715062563,0.07347097943437576,-0.6212644029524179,0.01430592165566734,-2.303283837105924,-0.514193697533649,-0.026814528521401454,-1.0595957264045923,-0.8440791619356425,-0.26151146884501225,-0.6563621350913134,-0.44456981068310447,-0.5989448338507064,-0.38197874359444534,0.010771072252025879,-0.5326728686003077,-0.6211229744419677,-0.830144728016893,-0.04954592155080772,-1.184478926691281,-0.3336193762220372,-0.8291160687562902,-0.6697040705453329,-0.7721829923801177,-0.7014198069353266,-0.4103961868021564,-0.19598076657669572,-0.2520077226081926,-0.675624390748758,-0.4289553599287876,0.2181226794738823,-0.2814843873012556,-0.31196554230349466,-0.23242277892943392,-0.867841395978724,-0.5533848214484232,-1.1292774730923147,-0.6853999083353184,-0.19151144717747395,-1.145225050616152,-1.0070998349410214,-0.421928424027582,-0.6296754411610579,-0.5954473646012015,-0.5855542834929969,2.1176245118252672,-0.5879852793227351,-0.8057169723401033,-0.43768561212685425,-1.122312025688979,-0.7476222880315809,-1.257915343530287,-0.5614767363116197,-0.875021731651237,-0.7480341239114892,-0.3461754791468269,-0.2406690618448726,-0.5244201696518584,-1.117397879954647,-1.734727122007145,-0.6260825176389374,-0.7288029375210275,-1.9785401889470102,-0.9580077357299924,-0.37191131283329903,-0.6420539051521531,-1.3763539344768676,-0.8400217590348031,-1.5620864107452759,-0.7203511023169853,-0.8202388354486664,-0.4907376697154866,-0.5990465404940141,-0.17398398593022313,-0.1236667017235506,-0.2885301976890152,-0.30044856486155047,-0.5497661761041567,-1.0917802952394526,-0.18370773507464105,-0.23669096961760833,0.2442426576258126,-0.1752374644588178,0.15232297734394512,-0.3022493203050042,-0.22897097351150184,-1.284313047777528,-1.205093525205661,-0.14303871782436234,-0.8249515006882762,-0.044891696725990485,-0.7695751869542391,-0.7886548987770919,-0.6259985133835119,0.025029082119042513,-0.24527491973326287,-0.22717886617315833,-0.6889346426982808,-0.9928865699222174,-0.19390064685078204,-1.429552724512661,0.0662587912460384,-0.5649111664291955,-0.26936040647267623,-0.7605423201708909,-0.8295171558625984,-1.0384225030500573,-0.9711870605075335,-0.8691039393926633,-1.0580816592288493,-0.39529941388484924,-0.178702728684876,-0.3891404263863577,-0.745979096633923,-0.9806033398546032,-0.7577710659210689,-0.25944851913767875,-0.44071698800883824,-1.3269487463684322,-0.8538169227399576,-0.17170917094608734,-0.6084925296427107,-1.1225089521034404,-0.47097130620537225,-0.32323964599209876,-0.4255735885810805,-0.4660513794796841,-0.07623817153923212,0.2026599991878624,-0.30469237692776174,-1.0460287112613988,-0.6812786735158691,-0.7904110304426682,-0.42171108623387277,-0.390215827416523,-1.219438408620523,-1.1550964087023003,-0.9073519670012415,-0.7647922742013096,-0.4458202198971648,-0.19739435285357781,-0.7066203713508576,-0.5009860541096436,-0.8625806572630649,-1.2759754513209707,-0.12222229895156025,-0.23295757301661724,-0.4236589527678927,-0.31487330538777003,-0.2391651547711374,-0.9429912473035333,-0.7968552972911016,-0.7760239690152874,-0.4257733178756399,-0.2471530770380349,-0.32060096805102495,-1.1831178094911274,-0.6336430576925741,-1.4555338953690526,0.11478992868700309,-0.3868912924936276,-0.37663212283324365,-0.33335692500103165,-0.4935280959646088,-0.3034432839791514,-0.4785656685292313,0.125153870308767,-0.5562463526550455,-0.7605845421501659,0.05818270115340258,-1.39507855683052,-0.3287102877930737,-0.12988249088317827,-0.20202216097284173,-0.8027985384624835,-0.9398910567599359,-0.5909550228547984,0.04946653115492841,-1.3546941819336211,-0.25850969784519606,-0.6937627836189755,-0.7199865885708273,-0.5721737300780217,-0.5646342961055114,-0.7479167981986048,-0.2916889761332752,-0.5274908398385718,-0.5816725593993299,-0.6543166869357296,0.3840680004450212,-0.6040290619699785,-0.8591988955244804,-0.3904445054636639,-0.05968334712393206,-0.5367177802105455,-0.5921627203504158,0.11652328716584036,-0.2956162378847119,-0.5008843035627968,-0.5792237286575674,-0.7739840920105051,-0.3689219479465282,-0.39297605462168855,-0.1573522866173333,-0.3559983811859852,-0.9320772826652954,-0.19038394626903973,-0.6519691137748279,0.1947827674014993,-0.7661441565856135,-0.005728365524667198,-0.6651407414070631,0.026654874808547085,-0.00908938345169532,-0.07949048786413146,-0.5536205899471699,-0.552680136742288,-0.79985092101293,-0.7039974493786514,-0.529091461367947,-0.6019774330694321,-0.6348329808653713,0.12220826816516732,-0.3441181029988597,-0.6795837959365224,-0.1979386041055448,-1.6217528831777235,-1.5351553393856512,-0.040222281247255576,-0.5928873840505555,-1.071602211500309,-0.3845037413981344,-0.08692634395838478,2.2268655008207903,-0.5181628222656323,-0.17750927287673776,-0.4395860869201344,-1.1607512838521168,-0.9337888542323851,-0.8360675173008846,-0.4607766134270359,-1.4998552014190463,-0.8719308223136724,-0.638524525819969,-0.36108377397768193,-0.6373272256739264,-1.0888230947670845,-0.45812546982374125,-0.17775257022394983,-1.0316641822766253,-0.8469102430472584,-1.006767295675409,-1.0637182048207836,-1.2447433189023,-0.3756406460715022,-0.4832959268176545,-0.437864499637441,-1.094573554859299,-0.02595359269696132,-0.8562719352467079,-0.7054405529917678,-0.6759144167764557,-1.6612903621922257,-0.23758753049782078,-0.5256054998213509,-0.44749648998763514,-0.805634164194461,-0.807609612336706,-0.848312087150161,-0.6958424240700383,-1.047725828269773,-0.5365235894473492,-0.04700878666006164,-0.8783293698242722,-0.10214333236601077,-0.17150607694060616,-0.8988563505704261,-0.9300742585496022,1.8632503499007123,-0.5005867552803795,-1.2446445859910575,0.19141580973534106,-0.3106492699372065,-1.1590124671511153,-0.6387646812155254,-0.9504874025034229,-1.5165404225391554,-0.8002589522993329,-0.45952736348323364,-0.9145525003919384,-1.0352540106727637,-1.0106765008458098,0.5174696925307498,-1.0686929057638928,-0.001327868681178325,-0.5874251546921547,-0.6991962256867539,-0.2788614183021115,0.14775198135416948,-0.7573797490504768,-0.7999561007783156,-0.46837384055302167,-0.6523034411025865,-0.595137327724119,-0.23934023326491483,-0.3215958874336282,-0.27949372367266156,-0.38400618684159765,-0.9599627037275426,-0.6395115076879633,-0.9669242676819999,-1.1843102636075251,-1.4140187115444682,-0.31618279929745513,-0.6113828740376106,-0.6713448756341536,-1.1519402282917701,0.09004121015446286,-0.29116929073986475,-0.5593360090440304,-0.38535769519568686,-1.437344183179836,-0.5119504395673169,-1.4020779160806263,-0.5631981790004414,-0.9347710655966996,-0.567104379095382,-0.7185066435480874,-0.9409083077156485,-0.8554373995636968,-0.9139184423905722,-0.8518651024613608,-0.6379148798745542,-0.37869400141001347,-0.04364258457704632,-1.3617914319386317,-0.08743756189220739,-0.9523164659719157,-0.283678299488626,-0.3761834168177294,-0.8360675173008846,-0.9601488418386892,-0.9247247064208147,3.8997581008902396,1.6889551931766618,-0.6557598155586319,-0.8706002668739392,-0.31031498765541904,-0.3483148867080297,-0.3665949105696047,-0.9334354969134514,-0.5580504610318011,-0.7975105278069026,-0.6234414568979554,-0.3918604049334477,-0.6480312500717158,-0.013281124748937459,-0.7999561007783156,-0.6287051323429337,0.1604018559198757,-1.128433267799808,-0.5155669160822602,-0.4226542716260556,-0.36279825026312795,-0.8164447243585682,-0.17325525337640463,-1.2097729372320964,-0.12428252909711168,-0.3432856815523148,-0.9974177844835332,-0.44973638477273764,-0.26970966204496494,-0.9317920876318163,-0.3617095635624753,3.934250487056347,-0.3726208316570853,-0.35491361417756284,-0.31768461212183097,2.9937210957438736,-1.1162933874434577,-0.8644724507933124,-0.3961587372265233,-0.47025081479799036,-1.3723700698647268,-0.7268754147576921,-0.3241534092640456,-0.08396116216326255,-0.01780614250191464,-1.1081783695046616,-0.31470204105440747,-0.5051134852844739,0.061450672763116845,-1.5049874670899435,-0.8547756376503249,-1.025963072080414,-0.6113341650847989,-0.9376542333017106,-0.1040692094069052,-0.3085752551705019,0.1139079514588109,-0.35722490033839843,-0.4756004607471054,-0.621031697542354,-0.7985530746870563,-0.36364863378952983,-0.7211183394324391,2.1008560741249633,-1.5531654722639703,-0.6865110063546263,-1.379298386357554,-0.14884459392634625,-1.1842536148044838,-0.5079348253333353,-1.0464004251183212,-1.1141013227512409,9.646102541017159,-0.5195441939941196,-0.05796628226355857,-0.2089312502968056,-0.830043217882136,-0.5611627984113948,-0.41311493036080793,-1.0780559743415503,-0.264017866728134,-0.6948465428973675,-0.5234934577429444,-1.0314313048593047,-0.6277177996693156,-1.0690388044941392,-1.62108633819189,-0.11395476758161119,-0.741693820101096,-0.8642057950197435,1.9793360297180025,3.806669255203062,-0.5457050786706465,-1.4060122991417296,0.048399891340145065,-0.33695030150788813,-0.8068918728394634,-0.9263028743106139,-0.08630736005964373,-0.46560692653429014,-0.8407823479710792,-0.3263323051793756,0.08123294410603021,-0.2648529986062694,-0.5852214106488459,-0.5388208554852966,-0.9197007691584789,-0.39110667773477653,-0.7066885103765403,-0.7013930411738616,-0.9765947079446085,-0.3723482928259628,-0.9509127338145964,0.5935149285638219,-0.47421376057419384,-0.8287592336147918,-0.20917528997794324,-0.5304624079156616,-0.6164716160407041,-0.1891303123252816,-0.8379962108578959,-0.09022721563394394,-0.12817618541246828,-0.1862860847606076,-0.5084508576240268,-0.47398418891424926,-0.09503198457203405,-0.3926333628318628,-0.0009270589392520456,-0.906352174995287,-1.6384325397696131,-0.3770559610364944,-0.6508246876028965,-1.3835199624333596,-0.13584672648042845,-0.21449717950788735,-0.24650749397668853,-0.8613698538033098,-0.9044322472795782,-0.3593708061975995,-0.7235902423487796,-0.9308251329412661,-1.4339782560324381,-0.5248788535796768,-0.5702202932068372,-0.5487169325799602,-0.8421304724014247,-1.0156297544323907,-0.948651524075216,-0.30803937950219673,-1.0962704708989146,-0.4985169394829556,-1.1020307633321051,5.301082222304055,-0.3975143537065399,-0.550806701786082,-0.8008955413908723,-0.8869276753029134,-0.31254417091529035,-1.2788736620686032,-0.1631508942507774,-0.6769386227468406,-0.8946821615918591,-0.9359922362447226,-1.0715634522520394,-1.7090575579476663,-1.0940930683391417,-0.4867977560117438,0.26752736615107897,-0.7668584412462007,-0.1756299678949998,-0.3475744143193771,-0.7302172393549418,-0.21339035743639992,-0.1913402733514076,-0.9026148511319441,-0.46882866114133714,-0.6418361052139065,0.049133043847246566,-0.6332191113774616,-0.5744133344791527,0.18247258448381729,-0.5244848414350775,-0.9976485940528129,-0.12335061610912804,-1.2087021244765697,-0.9684582785275154,-0.5100250447329137,-0.5276306936289623,0.1502346970819369,-0.6484609701999036,-1.0979726893311674,-0.9122032290638612,0.19877348629579056,-0.42333153076675584,-0.9699239713983095,-0.583649983391227,-1.2754318540131773,-0.9217207966075869,-0.16385803780955968,-0.6909719078164981,-0.5707728104604866,2.7304335179395767,-0.3032527882607219,-0.7519737523835126,-0.5319230372342825,0.008689323125160558,-0.2936091494184374,-0.5074619807404281,-0.5291294486302871,-0.12681017011911905,-1.1132939273376683,-0.8796524715903855,-0.7021075752955617,-0.37579944152537603,-0.7819602579911378,-0.2946025347273368,-0.3702549281333018,-0.7861651473415823,-0.13428011619137858,-1.0587877167932238,-0.2591249717237215,-1.2044987569177412,-0.31780899260189616,2.865056239970028,-0.14029933797273278,-1.501091708398426,-0.7925283793800344,-1.0510114799469799,-0.7019208668588727,-0.9665622702032984,-0.6584862410197778,-0.6051502371376674,-0.8165196304396432,-0.90590717287045,-1.125944290722113,-0.591844861333828,-0.5598832483704229,-0.36583836281819304,-1.3170101976932043,-0.7908939790772493,-0.854918445057206,-0.7952350351837295,-0.14381520504844542,-1.2635310265967659,-0.6916626799979791,-1.040400235261008,-0.768072999223359,-0.9654164714911255,-0.5148351350740756,-1.1069436951434213,-0.6213366353209815,-0.3443688653785905,-0.980643195063644,-0.5288141078269235,-0.18369186263525494,-0.5342821762339264,-0.08244936145815121,-0.1432173327458027,-0.6844534215389332,-0.8089257162170211,-1.0103975376970618,-0.600324006278199,-0.21845763314762334,-1.030791023622675,-1.3678559616100334,-0.6836884230587706,-0.9926153110032481,-1.0006439303309327,-0.8249569336582728,-0.8403654336199893,-0.3814633148105435,-0.935123606417714,-0.29645722841425043,-0.344038906968162,-0.172357407229023,-0.46160167438222455,-0.5818963118757698,-1.0108473425738054,-0.4615772343929696,-0.9010231657911751,-0.4325711386800013,-0.2064580977521955,0.09527925989005699,-0.18147648070229186,-0.21910897483356928,-0.3127237177995254,-0.2837460195382794,-1.0345677045167772,-0.9412368765111033,-0.38343728358374846,-0.911121415653533,-0.5457137862805576,-1.117637044440069,-0.8871809225912475,-0.5499321466918099,-0.7626318462031243,-0.0037019780624600873,-0.6711641220586314,-0.20904483522359346,-0.6667944396406534,-1.08706988261091,-0.16329783272779494,-0.36589906719459986,-0.7988669474455865,-0.3213146677675448,0.17884946786259343,-0.5516214867382,-0.818573098236674,-1.1947007262273837,-0.6097729160079131,-1.1313605132346733,-1.6973662250868484,-0.5476222250398851,-0.6776868098707984,-0.18089850958509532,-0.22608182136948113,-0.5643178273579984,-1.0604065571030188,-0.8731548621509903,0.09462769040312309,-1.038300758913579,-0.4649548971571607,-0.09290607100630062,-0.7177846931121978,-0.33309360499158147,-0.6154844029501437,-0.8518726607809495,-1.33669310951373,-0.8843329662267326,-0.3273742911873013,-1.0543324608896316,-0.36073974393078767,-0.5290293634459602,-1.5570397741241386,-0.5899404306031576,0.2578037423676175,-0.8243183029583796,-1.0918116404884104,-0.5851323936994983,-0.5942515844820436,-0.23756050059945116,-0.5976795884208889,-0.20169880042986843,-0.7956664319487567,-1.4750287926257313,-1.4883537247971672,-0.2818686024026278,-0.320092054271553,-0.5771952702362174,-1.139895312723138,-0.9450630674628415,-0.23860196757117577,-0.6083711994835942,-0.3082891785592044,-1.2176006762006326,-0.6746707884731288,-0.5782626909693487,-0.9898266846454199,-1.1045761207292761,-0.43468611068100743,-1.7343472264577464,-0.8108946733085085,-1.4387693342297339,-1.1004600482694165,-0.38160118691527234,-0.5514641956532553,-0.18628608476750502,-0.1367829389867774,-0.3970646509243041,-0.4031869014966357,-0.26267407124418063,-0.5350852644607226,-0.6476445223390719,-0.8066585672431803,-0.7203988187040375,0.125800357055552,-0.8450221863057266,-0.09589059481071138,0.0688005689458124,-0.6620461627484655,-0.48273431617018747,-0.8529341552052352,-0.9786095249454274,-0.6369159673987191,-1.3212305503198052,-0.5254936458251429,-0.20843021016069535,-0.49852856635445986,-1.3552428892619166,-0.4021565356156843,-0.12996518671903828,-0.6856009690616354,-0.8624478564563967,-0.4051553046335697,-0.16505346318779984,-0.4310951307882669,0.45929786111265747,-1.0147302909989808,-0.8084166559000074,-0.9961799336460097,-0.5675097876418405,0.007443778733690381,-0.6955648710535338,-0.1375813714675685,-1.4818709873557996,-0.7823270900038176,-0.3263906606466135,-0.5695175272836374,-0.10411948358682357,-0.39377073755500447,-0.8725883152256924,0.675051569452981,-0.8471216685755727,-1.051274362693368,-1.5224213931645112,-0.9479406714213656,-0.9036393193862235,-0.19388853992015626,-0.4567915169639949,-0.7216216774884437,-0.23329655558279966,-0.46024001377104845,-0.010905065197961694,-0.4686832775505114,-0.7222828320102093,17.53230822249709,0.060084936055205526,-1.0646513285704784,-0.7076984060609943,-0.37795926850034267,-1.1155009757829424,-1.0242392496055597,-0.653675981103317,-0.35011883960462925,-0.4447701084571293,0.060746354226644456,-0.6363403292007304,-0.3890535956251655,-0.5447218755030623,-0.3924657369300678,-0.19480289913262092,-0.557549542436809,-0.3781021323394888,-0.5911508410440696,-0.13653967409663828,0.5564657098951526,-0.9503173638744615,-0.35083185514261106,-1.0592837137257236,-0.29376192835750403,-0.6584430573548674,-0.5557834400841523,-0.3121617250488598,1.916942036372495,-0.7552999009175193,-0.4494997888046026,-0.9053903043432554,-0.804622806510978,-0.15710103909403816,-0.045280851752317296,-0.22101324349601703,-1.0945360794630152,-0.8130313124903463,-1.055236549866338,-0.22395252232013857,-0.930591175477242,-1.0653165693989506,-0.9258598586053541,-0.6973178743167068,0.0,-0.7843124113221456,-0.7678578860567276,-0.05088092560403089,-0.4673355160780534,-0.8302774697945174,-0.9762418953761813,-1.0419710366141324,-0.49773093116116957,-0.8895207179637399,-0.39314442626529045,-0.7387934604224186,-0.15121376289201482,-0.15572742721320615,-0.41388251434306983,-0.6805379561266499,-0.11838207601452241,-0.8469752164277893,-1.3585176691943108,-0.14147109374231095,-1.3581436221304481,-0.20312123390310577,-0.7405124726427827,-0.8487679775655633,-1.2761971937778718,-1.0326528901734118,-1.0355035085739117,-0.9267315358584127,-1.0322135171812998,-0.9577697757001085,-0.19117865189801972,-0.11933075051652758,-0.24784804286116854,-0.61167317614702,-0.7711518561920638,-0.005203575669654515,5.497444365568119,-0.46115020893149045,-0.40827855996409274,-0.1610673649378549,0.22300825873335783,-0.36021521916010224,-1.0034959749225227,0.14915509730314722,-0.014821160752115883,-0.7706327823922385,-1.1139739919636866,-0.48290127766599317,-0.8729291101780541,-0.15671406523558157,-0.35344249953826573,-0.6879795755831646,-0.4943047091822478,-1.1582300467770605,-0.4017419168170466,-1.5308122216440392,-0.7953911581262989,0.029739695168938523,-0.102807565157774,0.1597412183289378,-0.4440541627429664,-0.929877494689614,-1.3286199054925918,-0.4396148893779497,-0.5416869646429509,-1.0745815502307683,-1.5393875283520884,-0.4590667249591356,-0.5917717126662401,-0.3746408529241322,-0.42061665855619484,-0.7375073687217489,-0.11265118351748218,-1.34028282271332,-0.629470893123304,-0.343445160797616,-0.28545088924838763,-0.7582994052935481,-0.8403654335952009,-0.17213650060141947,-0.43922883377985705,-0.8204865771076882,-0.5429809747176303,-0.34389237017792895,-0.18492040575652885,-0.7643718886222715,-0.5338036797491488,-0.2270271763688826,-0.6131004940984623,-0.8292853193901788,-0.16741217591956675,-1.1172165370645573,-0.4250068737584033,-0.5815678499863521,-0.08248648036183548,-1.4540790645064614,-0.8981593028028118,-0.4046930962423796,-0.8561432216404827,-0.3513178953105201,-0.7246785222031435,-1.033416815246083,-0.6192623545255429,-1.362905835805106,-0.6321827319908788,-0.2097755340979736,-0.5481704928898967,-0.45035363021131786,-0.5457413832369342,-0.3592496104437249,-0.5822996625725015,-0.0035446422476783195,-1.2130650488046788,-0.7329786011706098,-0.29928781390267756,-0.6446550999707874,-0.23285362062225418,-1.4210189262153423,-1.0647490484241884,-0.31826261182813653,-1.1050063127944683,-0.1632963312847088,-1.2943652706685915,-0.09887965554590286,-0.9376554284957527,-1.1579094680009916,-0.11956167958083946,-0.09679953896037084,-1.1560866526797353,-0.9303399803060216,-0.8038782909838122,0.016390409142582656,-1.0503172367657423,-0.596101439041959,-0.4758966906924874,-1.335389570372071,-1.1704923028798235,-0.487715971476934,-0.33320048228276383,-0.5661124887836388,-0.6952101416327269,-0.8029560215969844,-0.47895877278617505,-0.49277791259149006,-0.5032125859580483,-0.5193455240385535,-0.9007088652654665,-0.06946804401681828,-0.05453254751176009,-0.12446587728135797,-0.8316115462050749,-1.3408970479974238,-0.46036644342296784,-0.7337030488056606,-1.3188452159535815,-1.3264820637663517,-0.7902218792776052,-0.906088919314942,-0.36338759337079657,-0.7341704844263871,-1.5581829181856892,-0.6204330135033905,-0.7233666303921326,0.08593193684918907,0.0285843504554782,-0.04428343888412686,-0.34760873692662364,-0.7603233513629246,-0.45997451957938773,0.037074869518146494,-0.19281654853443328,-0.9334074846256828,-0.3202947689705804,0.7287469317417773,-0.4869030679714449,-0.3974110451726214,-0.4131645556759991,-0.6067996294120843,0.0675484634939967,-0.7245283249462713,-0.6296798690062546,0.04371290183211925,-0.5800835716940547,-0.5261878914776912,-1.324393693367855,-1.1628975616264268,-0.08679038024310512,-0.4052521912003096,-0.30830995897171537,-0.5241791575074575,-0.31992191211919535,-0.09928503591150349,-0.8707236756905516,-0.3820089172426332,-0.5745016811090399,-0.20281143109692362,-0.3014518382052071,-0.9071428247556153,-0.7787332416381638,-0.619605257700973,-0.5986226821600709,-0.41584751355065075,-0.5052976618296783,-0.01785188578078299,-0.3839879229494191,-0.6811157911171475,-0.33942039718123074,-0.952141629852655,-0.7504700411462822,-0.1904157811982611,-0.38976854220105056,-0.7931172482019311,-0.751420066012012,-0.536964685448317,-0.6633119393829454,0.13353307742928994,0.26861841409159903,-0.49328902112468614,-0.3243500528018922,-0.7310741018236364,-0.4470502406875929,-1.3872053902024435,-0.3447446017969599,-0.38234195681770045,-1.4884957806985786,-0.3884658826631276,0.009343009259832585,-0.5938625308852454,-0.8623891109121631,-0.512270338654808,-0.626789578893387,-0.3527546786882748,-0.8432516736520879,-0.11256504065472145,-0.6428844062010671,-0.48863837944461663,-0.30307461894257104,-0.264444887442406,-0.8831898072114979,-0.34507536999088795,-0.24806267101484641,-0.45447769825788076,-0.29917290929299933,-0.5402693018181267,-0.48328639319787237,-0.6874463714236381,-0.7118203108266807,-0.08076513902281654,-0.3501591812937655,-0.47208647492661626,-0.027915916807620886,-0.9961098843062646,-0.4810522949757419,-1.0673621182460022,-0.09842441546631073,-1.2537931591406775,-1.0025055442916544,-1.500500968170799,-0.3906379780871073,-0.5971900113215234,-0.7681731602267701,-0.2858242672326728,-0.04134000823336553,-0.6857393866690871,-1.3360292266164897,-0.929626047574875,-0.44791611602204046,-0.38721371209326255,-0.3203178881926127,-0.22051719142106,-1.2350333332488466,-0.03107361542652136,-0.5448528348760738,-0.13444398068983432,-0.7446321973430657,-0.9619540830035231,-1.3548006005786932,-0.7945375127944684,-0.6059467708934435,-0.3093745235299883,-0.12936526381595065,-0.914054224704426,-0.8985105319701712,-0.5255354911924813,-0.14992587344423441,-0.10570950195802178,-0.36905179499736057,-0.9371318441669104,-0.6600769083383244,-1.0824248804903616,-0.33902779709035397,-0.03186594533186594,-1.64724367914236,-0.44282667849474205,-0.36047431917879375,-0.5624006163852632,-1.3323506293997383,-0.5072338061015924,-0.8568700784765744,-0.8883411024039566,-0.5577145597789742,0.031288898726437864,-0.1576642266536092,-0.7519163179512007,-0.8504971044487228,-1.2894324998526965,-0.06401314577111539,-0.4470885585777413,-0.5548274551942531,-0.6052679791343065,-0.6739278463582898,-0.8997094883682959,-1.4028319568933334,-0.6102686318604027,-1.08495805795708,-0.9050403253699247,-1.0120177369309415,-0.29779091057764506,-0.039148351565765446,-0.43778132207881204,-0.6943726808699742,-0.6478117105115111,-0.7032259231377034,-1.4159151592615995,-0.9187797683491691,-1.0184456072921737,-1.01537947651628,-0.6502834449761619,-0.7971827623358161,0.013963727720234761,-0.5901167941919127,-0.41944506063121867,-1.1199564104479598,0.026566518676297227,-0.8507116282903483,-0.3825631897933506,-0.6161102802380349,-0.4770731133039833,-0.6126273851655708,-0.45480001051169444,0.02975086297117298,-0.09298269523418878,-0.585525937361281,-0.06154670385037811,-1.0983391902405746,-0.1019352274382968,-0.2337952416700053,-0.12380355648493445,-0.08784440993101304,-0.56721193493761,-0.7737899536368786,-0.721369422629635,-0.5487966765026173,0.9746128555597916,-0.5400640823040617,-1.080530091889634,-1.0000921267399523,-0.6801212384700328,-0.5216847546010476,-0.4743659145222596,-0.2458890837153203,-0.7266854622850194,-0.18474112583884753,-0.4041083042747605,-0.2703931529253172,-1.2711560006033682,-0.9072595612839534,-0.13155789661104178,-0.5642452435415793,-0.22178064555659002,-0.14387280926577253,-0.9212889162766557,-0.17492376871012877,-0.2314087548261815,-0.14915834652546034,-0.3649911478154052,-0.21513084113059627,-0.4785990228613338,-1.3979049428886552,-0.18570261158809898,-0.033103440014781826,-0.483245857495087,-1.0847074102928378,-1.0870951235862019,-0.569021625666245,-0.8779927557985447,-0.8973377365909505,-0.8271892624089691,-0.14278376514724145,-0.24882534591423297,-0.3161782338570684,-0.4333660569841532,-1.044885457697482,-0.9552552125800179,-0.4156805562225192,-1.057662184786413,-1.4367466182122968,-1.1342292189827696,-1.2329052798682347,-0.012741068479433584,-0.2877099410685803,-1.0327829294135662,-0.20462107585208922,-1.0010150085564904,-1.186693974277299,0.0,-0.2743132569208029,-1.0007301728699034,-0.7599295744406718,-0.725026844130583,-0.47434155018743995,-1.3323673644326377,-1.2323301334766135,-0.66839550502669,-0.3285692616569886,-0.8796430642409335,-0.8750769859366544,-1.6616188534997922,-0.9432374394416039,-0.3534059785784845,-0.4025900176623619,-0.9440103413367739,-0.291036221860102,-0.11106204047850346,-0.28083439560369666,-0.2975228711899776,-0.6075457140790375,-0.1690254641392619,0.028093684209859533,-0.07200673826203693,-0.5379404852854264,-0.8811936818645936,-1.0398234085605418,-1.0016138072761704,-0.12490995922646686,-0.04685627614744563,-0.9365077454578923,-0.6301785465834033,-1.2807014157710301,-0.35039317814961835,-2.2303072112971125,-0.02481051087405685,-0.17434205410267117,-1.434938054407829,-0.12302807588357922,-0.6576106466332257,0.7107268914967466,-0.5700515160726682,-0.022007598502483045,-0.28811891054432587,-0.29033665528121366,-0.5439829089187646,-0.07986057995683854,-0.46381259391819346,-0.8864631303972106,-0.3230301945829653,-0.3380066870947178,-0.7234439860613311,-0.10003031709794287,-0.6341469698456785,-0.854408296922585,-0.5614321741219785,-0.015334733273566402,-0.7724711695676597,-0.3965632786387953,-0.9640824278981814,-0.31614879748345526,-0.6665005645520213,-0.5538791113146959,-1.0135375709997116,-1.4988497801384932,-0.13531223696825262,-0.5995800515210938,-1.2088589872046327,-0.8481693786979645,-0.23391535624018228,-0.4403185839617012,-0.40969194974688894,-0.794450921196612,-1.2244858393869937,-0.06957347757475221,-0.13416962693967172,-0.839423128868711,-0.6217031307802925,-0.356826110775465,-0.06001026614782348,0.0654929816308803,-0.20763730854195128,-0.41337651718925883,-0.5772169545321983,-0.7536810962552976,-0.9128807629714963,-0.9567402785878615,-0.7611204027529743,-1.343412166488094,-1.0511373850385666,-0.9139075581357805,-1.4904462161697223,-0.26997239232639575,-0.14459233314498973,-0.32185968105535145,-1.1211649074623606,-0.23811639622904002,-0.6751566365395664,-0.13117874515682287,-0.33457394326988704,-0.4219894067458641,-0.3470022643898031,0.04841575545949423,-1.0962704709243867,0.021106343913917996,-1.0431879835018623,-0.05253247208106446,-0.7821838054357838,-0.465549021406957,-1.1001069762014943,-0.09663943989897011,-0.5103754432855651,-0.8793109104788864,-1.3278081773401191,-1.1414922489021313,-0.71961796356676,-0.11494748502387336,-0.4580198667797006,-0.8706159757375183,-0.6203011427408857,0.040234948946026965,-0.39109284827110036,-0.9034266294088095,-0.9084446305706148,-1.1147136478542403,-0.8304668804716017,-0.7859903433150139,-1.072284729965118,-1.0161736755190764,-0.21056008520215166,-0.838370415197854,0.20268564745794815,-0.18100949616222076,-0.8449860767006909,-0.4944187777512922,-1.0920162010965684,-0.633572777369623,-0.5790451350395224,-0.545869331987195,-0.9980274614447755,-0.2385283854550118,-1.0133759679946839,-0.6591771220125656,-0.7717156307781584,-0.6184081656923888,-1.5476831191518865,-0.37373052206115487,-0.6853931017409138,-0.4043019101062344,-1.3374786880737253,-0.427617547269043,0.07833532136539054,-0.5875694214472181,-0.8219821808153381,-0.9768271853923177,-1.1455163607252383,-0.3053514701710057,-0.24834369538469006,-0.5794776723404443,-0.28838123260014303,-1.678627294648377,-0.8133804954160442,-0.4011164192205132,0.5547416643035169,-1.3858519750685854,-0.8765221624833075,-0.22754943956480014,-0.44794767814215397,-0.0982775989329761,-1.5271618146493697,-0.18837986446239072,-0.3967425510882713,-0.3390565043594503,-0.8492799322758616,-0.619500167522081,-1.084138757067274,-1.38568755612053,-0.6786645944237544,-1.476235046892209,-0.5553452684078068,-0.8104553890290046,-1.0573095762734477,-0.30897806088247753,-0.728471722231423,-1.1291593069801635,-0.9601463877791214,-1.4562299652542599,-0.7323591150943815,-0.4620707210018278,-0.9797919842598796,-0.426842468147978,-0.28943354146687633,-1.110568741037471,-0.8059465930465383,-1.1028453337061637,-0.19594190517227547,-0.7858666339437661,-0.4024179817158048,-0.8595599510693851,-0.9364234798386518,-0.3428968180246936,-0.6079857523913559,-0.2384773466118708,-0.6983875311229871,-0.5429528092863952,-0.8048344931227857,-0.3706712238124479,-0.5917394021672298,0.16552894319039763,-0.5497981271822767,-0.7980903015089515,-0.18682387498544314,-0.6893735638720248,-1.296698261913357,-0.6188187874408158,-0.5585315433985609,-0.8302051787386852,-0.8995320303871278,-0.6877078543661136,-0.40149736631629085,-0.2684149739229019,-0.2926620112535699,-0.8528979142359635,-0.2515415888592812,-0.36575195310028796,-0.3372447737936044,-0.7841422460226605,-1.0292519546877537,-0.3924549265628665,-1.1304087767444049,-0.41782882516570746,-0.5781935980511802,0.11485452668060465,-0.2339626942426595,-0.40833567664257986,-0.35486160274916434,-0.3110126583259537,-0.1300144243762854,-0.9455462730587294,-0.9850120970548467,-0.7339603624406897,-0.27368246406562874,-0.06414257653741419,-1.2261337881841892,-0.09870343724331251,-0.18755179724701249,-0.4512752578299932,-0.09368114260034409,-0.09793303785227044,-1.0162691861995545,-0.5476115160937709,-0.8640989488429995,0.14960970265941848,0.09398753890084421,-0.6273338307485807,-0.4099538973519252,-1.4773860831487005,-1.1458382136384142,-0.13702151161088175,-0.1374558603491938,-1.5353492351508726,-0.2989229979955252,-0.4771672185752173,-1.1597012513906853,-0.09622674883024683,-1.0011810990648233,-0.6038782402181717,-0.45802753280568576,-0.29482554621197643,-0.6091639284038549,-0.4229487328278305,-0.6160464760701392,-0.994728717840813,0.018561344451410264,-1.101921176163045,-1.167293673427856,-0.6986099529177314,-1.5187098238694714,-0.693206228199569,-0.7765188925624967,-0.9315584872507985,-0.8995093300827903,-0.052075523351000005,-0.37469206939048155,-0.9852387781701389,-1.1785423968515738,-0.3499530021626701,-0.69601878077665,-0.508018546478561,-0.4140652754358595,-0.9592671743148122,-0.11355234244131918,-0.852809115451427,-0.6523127429907032,-0.9160248990020764,-0.5848453593247227,-0.7266741401058867,-0.6307653790492397,-0.9770429843361079,-0.6592464048522597,-0.6931099346516143,-0.7069413618255695,-0.3597909494222852,0.11171792839225364,-0.7956664320102849,-0.5341832876273548,-1.3156069167652091,-0.06738283286743164,0.1336940908674611,-0.7935499972101246,-0.6811744238924102,-0.9447200808797762,0.24105973237324635,-0.5379458194865621,-0.16231490974770077,0.012989455767675545,-0.4895484579601267,0.05837369260529112,-0.6720922633786054,-0.24267300784617524,-0.5295622029607969,-1.2730118835044637,-0.5523459125728842,-0.7699496913309145,-0.25302916755527194,-1.2131009668559962,-0.5102837179522093,-1.5406266631508967,-0.31247474233071254,-1.3408055437657351,-0.6960076777509143,-1.094566996943533,-0.5242035203475188,-0.5463015140897681,-0.5962602869547525,-1.3328803642569982,-0.054422284979067675,-0.05948281164556399,-0.5328146589792115,-1.0235412455369768,-0.5271223575407167,-0.34921125693023586,-0.022188331999358414,-0.5838448763244636,-0.942555535090345,-1.4242042511862736,-1.128993414475087,-0.11478525420015132,0.181806911069607,-0.6564842357609522,-0.4703732301306286,-0.3723840420012888,-0.4505197842152848,-1.7778328477942473,-1.2265806701245403,-1.11384416463664,-0.5975721902103499,-0.4232491999955901,-0.8942783340072883,0.005191615273405663,-0.20532838762381947,-0.5435758923122724,-0.30820271309225344,-0.511339468021179,-1.2370806174290774,-0.5478022108466712,-1.0521187590982326,-0.9827581474647109,-1.0327618008690378,0.3085072034150896,-0.2367039849164145,-0.6006698262868442,-0.061434279327602925,-0.4392208473385314,-0.5260064184967426,-0.36105973166639893,-0.4723991704937529,-0.08248688138688481,-0.789945315400238,-0.5356031535729239,-0.40241800673671957,0.061072659332816456,-1.3805233857830177,-0.9400021805883569,-0.2329853468298872,0.009081700518421113,-0.7653879657117717,-0.3493152580660306,-2.0494712893926215,-0.018034526636462524,0.13011894783498837,-0.05356923773249252,0.0014758792588739078,-0.21898553882337307,0.08033056694698248,-0.8243229902866792,-0.4409593802910016,-1.3502197187715288,-0.31037421582210045,-0.5158720406023065,-0.7625762013766632,-1.0505513273816434,-0.002033703384742437,-0.2752602318260532,0.14972914985379515,-1.0329494273231965,-0.5219114533565002,-1.0129391097340654,-0.4307017901905795,-0.1940837085941809,-0.5350255922034256,-0.27900063324796476,-0.5024398281005082,-0.25788409563639175,-0.8820084353677169,-0.49342022968115035,-0.9927711461564633,-0.508844467051528,-1.0513273819984341,-0.3651781828864904,-0.2799279938237655,-0.4501590416432179,-1.1603498780505648,-0.5798704103397107,-0.34234375153971486,-0.7955510684387528,-0.5552001908672274,-0.49250575384238215,-0.39556331630271035,-1.5018848171827268,-0.5491979162079792,-0.7065657251219681,-0.8625917950282531,-0.6316585037001972,-0.5143939416301485,-0.6889119680053597,-0.4353031186504445,-1.2139729517590405,-0.21173858738358986,-0.6210498149892378,-0.5053303269203151,-0.4640977288285513,0.03093803065916477,-0.34001689076279384,0.7210465813004803,1.5184073460374545,-0.1753094857098226,0.18656723889074556,-0.9087342734059338,-0.46116634898856107,-0.8233274720658194,-0.9192168343520576,-0.51929531069472,0.004927804068411094,-0.27788334595887243,-0.522212718167241,-0.6187921336864664,-0.9301720004132098,-1.3938575271930596,-0.3521800811187963,-0.5054413909984662,-0.14961845418604455,-0.6436061293410559,-0.22963495169711845,-0.002794179051428744,-1.2773728346463915,-0.4219524839435379,-0.030124909704656783,-0.337751499928474,-1.3441221342351155,-1.1581559001929207,-1.061854057194694,-1.1605828987800944,-0.2163667132495205,-0.8864479725712522,-0.483030344340556,-1.0166163730858868,-0.29642532936434096,-0.3955553462011464,-0.48113141526597497,-1.2679817620619487,-0.32837774505839157,-0.07181074734784024,-0.21256145120877074,-1.1143462049078523,-0.8169379801136583,-1.051686664417378,-0.14912036285358532,-1.074369120733461,-0.21651936893143045,0.4856360290922229,-0.9812362291349395,-0.3784683151369885,-0.48372923361453873,-1.2524595683787003,0.11689225446942383,-0.936054871220392,-0.9751714038201809,-0.5430725261902035,-0.7196350028397684,-0.21818706496883694,-1.477823777592836,-0.11395476758161119,-1.3414853757371388,-0.6584852659131715,-0.6595831712050857,-1.3359144433290988,-0.5609792788624036,-1.3827830277519007,-0.019195091064483732,-0.26452947515055825,-0.7356532723514976,-0.35466145979575175,-0.45027268298909995,-0.6249115860719006,-0.901682718524477,-0.5708861955533228,-0.8621208266422,-0.029936595425497994,-0.11287556197462496,-1.605925305999566,-0.24340573468389984,-0.37806931658580056,-0.46624358629356705,-0.9598525345798787,-0.3135638233753101,-0.6870040171276541,19.293217917452406,-1.6805651602736305,-0.7480056752524002,-0.5462402156303695,-0.487758865421999,-0.2688097167266187,1.1759704944776017,-0.8385751560597492,-0.4860605113250798,-0.011420325378195595,-0.19651835887708236,-0.5166141838016295,-0.6083393909576493,0.2670971809259309,-0.5198623019872544,-0.19764813631076572,-0.05840788518509383,-0.3213834723124776,0.006541290553030876,-0.2636513597514647,-0.8057296322316738,0.18211881842723893,-0.17187822710057638,-1.1446397527902819,-0.09494067289671954,-0.2051579878080496,-0.7944618589514518,-0.9719537845099737,-0.6398473742282333,-0.38294516063666134,-0.42367386252809214,-1.1017492467607921,-0.2890342802976317,-0.6250499709691079,-1.4866468887839084,-0.5430888265295466,-0.5838752539537465,-0.2600199464639222,-0.9847240755485257,-0.842174936041459,-0.818347449406492,-0.3513105996839477,-1.103669913863573,-0.4726692478566383,-0.574062862404392,-0.03487217534131886,0.0017421549840388184,-0.7571612373057227,-0.01858498160359391,-0.5899782361116842,-0.664205761408046,-0.3129569694913464,-1.0852493132165737,-0.26815862230494075,-1.3539723334977305,-0.15204909384114065,-0.496940102620594,-0.04500776158440084,-0.24851471290420596,-0.7136815415480803,-0.7653922434162743,-1.0822351663929703,-0.20402873002285446,-0.28073544891979435,-0.6100904873918908,-0.5978840285513743,-0.6564514618040772,-0.14933747945668324,-0.6266291390563015,-0.8862448609462479,-0.42035988307924244,-0.10767631435492678,-0.41494611472994125,-0.8099619354558428,-0.5114177550565526,-0.3693570482331639,-0.8674647721716974,-0.7315472886354607,-0.8037805665913328,0.03800300649029169,-0.5707394061380691,-0.9848516438622074,-0.1625741796250068,-0.03232851919714419,-1.070638336785644,0.1510036722718232,-0.19512697641560003,-0.13048074123053532,-1.4373494409710776,-0.3788284759141662,0.08332051759584524,-0.7380401641058516,-0.03329288910169736,-0.5909690682370999,-0.48148621767999583,-1.1490292834234537,-1.2273291668564308,-0.20031720600510827,-0.6339949965021373,-0.7710781464985932,-0.5789295683515906,-1.018420472475381,-1.3618062772226749,-0.9102334438574002,-0.2815318058413298,-0.21778891302561176,-0.5052021458074132,-1.1359253799783389,0.13074814120284778,-0.48966385943946117,-0.5293008020822957,-0.5284572776206006,-0.5658472128141531,-0.8743371995256675,-0.6953086441860226,-1.307941007425229,-0.41532289110089776,-1.0177139482348774,-0.42515354700882896,-1.2004333543300447,0.09990537620823346,-0.5132724404994798,-0.3951903020688995,-0.36164126654570444,-0.656529170702756,-1.0180414214125082,-0.861264112622159,-0.21409982348453388,-0.29791431383809497,-0.7721625143764318,-0.5436472302547432,-0.19312818590818398,-0.4707844762458299,-0.3311771987098319,-0.6323969645856469,-0.5180293043703748,-1.121056023069436,-0.8453593327673379,-0.9780024596785987,-1.2025859507261782,-0.9430713523134042,-0.13238992358020635,-0.337626531416881,-0.2856781819370755,-0.8438190804480796,-0.3140411330356759,-1.22523949400647,0.11783633116736159,-1.2269921919429918,-0.1989505671705359,-0.789572713089711,-0.5313120118967902,-0.6000566400467625,-0.16962759250936027,-0.6159979660659348,-0.18226554435441938,-0.43557662870108216,-0.5988521867448278,-0.04813452765583007,0.14680775436597943,-0.8155909532007842,-0.4447068230398114,-1.6047631714281685,-0.5793059288177066,-1.3334343680961287,-0.6052437844530593,-0.7336989725112809,-0.7312270348017572,-1.291945809626072,-1.5277973096942514,-0.6488881820327411,-0.2612573853210078,-0.13814615016480197,-0.4534218804799424,-0.8001193074977274,-1.052654185147239,0.016393390196217557,-1.2074748898032965,-0.9159252138560613,-0.4595089850211148,-0.6867933740061042,-0.01594236986999748,-0.03870462675088411,-0.2400422287442389,-0.8409040880501386,0.02181782792399778,-0.4231865764437929,0.05493384858984507,-0.8205033452087882,-0.447977003241435,-1.1459348799812552,-0.6982923917776865,-0.7105383923769526,-0.3463876214503347,0.07379713872451263,-0.9608279010279712,-0.14624348657041789,-0.6017871664366782,-0.5418257073554278,-0.20933643676270236,0.09722329765879742,-0.6331909272997599,-0.3847209545067055,-0.3089126486797612,-0.6227952275476663,-0.639544948867653,-0.5427582586006603,-0.7830560687709931,-0.8097750048302124,0.1719630297520438,-1.2280298650064831,-0.43850013170886204,-0.04529930731206186,-0.612161856259115,-1.3370122574154668,-0.8193300161776069,-0.1779878337055495,-0.5637831522348968,-0.43049166604565053,-0.5448488275199918,-0.9909425744838241,-0.6845622454807667,-0.6559270515987464,-0.29571955213183315,-0.7179774751244757,-1.538537478045483,-0.04973365989788758,-0.5956658993563538,-0.4450680809040135,-2.1403474605806685,-1.1886774103480202,-1.0834816108934069,-0.5866433908633537,-1.1421603959348774,-0.6183248013264726,-0.3939597426739683,-0.35834848850660544,-1.804408318132212,0.12654617535077517,-0.45796747987515,-0.9825590154582868,-0.7429639418126854,-0.7943959806318504,-0.7158170144969576,-0.06269662390573194,-0.7479250668157852,-0.45688539117328575,-1.5710554204246043,-0.24201718691492516,0.1292819405707472,-1.0878575131346637,-0.6765541671172186,-0.2992305626988278,-0.39699999913745504,-0.3830293974031036,-1.0951236313610095,-0.24074465938481068,-0.9700397751645422,-0.6799587985194114,0.0621726815145623,-0.8857456827637941,-0.12133728193045822,-0.05380589792100891,-0.2156833155694565,-0.12131851929495817,-1.2094104090985822,-1.2386746136222448,-0.45462746830242595,-0.28726578496756017,-1.076250376036111,-0.6527465775718096,-0.34192287803523347,-0.748836737518099,-0.3882760241980875,-0.8654860599486066,-0.9790790644970458,-0.12637525933228794,5.4689964060816685,-0.07886411304337645,-0.7751981502863527,-0.9623857487602678,-0.25517427869682896,-0.26868855242347994,-0.39273178611159026,-0.5857483904370575,-0.36921587316615445,4.728418485279914,-0.3888397555742992,-1.0289246917650599,-0.3992081928510408,-0.8825432794167261,-0.45200369508555616,-0.22840541329351788,-0.017524934677152423,-0.7489667570922985,-0.9920969048822086,-0.42854825333252283,-0.7636211626767355,-1.0256208817716364,-1.690582800892552,-0.8800594446846384,-0.5589663363406915,-0.3649474212472397,0.0109767827914041,-1.1113402029381336,-0.41720958684947174,-1.3202530675063922,-0.9309668214474427,0.06257835625391939,-0.3584663725869929,-0.5040287915578322,-0.3760310097544213,-0.010681735090663773,-0.977574374673638,-1.107466859272581,-1.1890291676474192,-2.03699542661288,-0.06120657667095164,-0.43492826487949376,-0.1704824079722287,0.14639161902142533,-0.3472008625376938,-0.11115704182116422,5.4279922651580454,-0.8080211191336363,-0.35724904092427845,-0.7698241890315345,-0.10945031240746331,-0.18521934706195978,-0.5935105407053062,-0.8771066495356034,-0.7543643119864156,-0.7040154094936656,0.6804158133936024,-0.8990514373781848,-0.23195530218498076,-0.31308741574740995,-1.4209564458484971,-0.3906264439121272,-0.7087209310409373,-1.0305095964501674,-0.6549784521278974,0.06487895739832863,-0.6997604302812763,-0.8774309607477369,-0.41898027474948674,-1.0814668404791286,-1.1378466772726714,-0.7022511274524477,0.0005875435899372894,-0.3159879135566646,-0.6070009500904548,-1.3002984547993073,-0.45509796704112343,-0.8384611089867083,-0.3304349601330121,-0.13399462191902428,0.13786749671107684,-0.5178773874712472,-0.9072226396569176,-0.9206171349978233,-0.430464309455319,-0.4648418230406258,-0.8209339438197942,-1.2509367715649171,-1.4461150040447375,-0.7669633596366521,0.0978527173344059,-0.4496350729965931,-0.971515568139169,-1.0498912660336468,-0.833952883840024,-1.186945636374487,-0.8925462415614387,-0.5988083746742319,-1.1421981389302787,-0.23503898507006107,-0.10826251236971297,-0.9589566131608507,-1.7488906014749548,-0.3243242148318533,-0.7073386217425695,-1.3358902178644207,-0.6276771299310989,-0.6988281671579114,-0.2093363070603549,-0.5200910915496681,-1.101694575171019,-0.7881978665001952,-0.1714173140307992,-0.5026631948959336,2.3976845326158114,-0.5831270635773916,-0.801141334754266,-1.30247903588148,-0.8020907897405293,-0.44575234304749867,0.04557760359282407,-1.4029515782907789,-0.8041221890062685,-0.2798195383922865,0.08907151716980069,-0.6645288424853351,-0.16405234969932134,-0.8970609331061629,-0.9385258411268292,0.11938243707102125,0.2991566290580331,-0.06089840334100286,-0.21445397818687298,-0.8441844966512011,-0.5586313440413961,-0.4617205116388326,0.021573180998118176,-0.876531369525579,-0.8524134065838799,-1.0608298771803704,-0.4345178946090632,-0.7476586210248186,-1.4294966512903118,-0.3978505297115131,-0.6555689988606983,-0.5124545318959324,-1.685013769185212,-1.638574648059754,-1.1233056402773625,0.009947688469583438,-0.4853326318554193,-0.4545241825708042,-0.594359384503671,-0.8112049714810591,-0.6968035938182557,-0.6240556901262082,-0.2650082559353571,-0.33962132910833515,-1.1534209162623128,-0.566725427602412,-0.5308317951798148,-0.8035659928332486,-0.5038326827255786,-0.382472020737068,-0.20621098244098043,-0.5457401342119382,-1.4662628816894185,-0.28858503215928855,-0.9568327468198002,3.2596382092082563,-0.3848597762392642,-0.972175421099261,-1.161517810617543,-0.3661333085348971,-1.029970687819473,-1.6939681101706374,-1.3889613643816336,-0.2930658276157084,-1.0632832071276725,-0.8038207532583536,-0.7831406639604869,-0.11807285134050334,-0.1857933430790138,-0.23623309002351647,-0.3241344361258345,-0.6782504856743012,-1.5223401850192553,-0.39399348058158995,-0.5911253154115175,-0.6501371834589548,-0.41200939944681625,-0.43703742451893257,-0.04415936171995776,-0.26976450756369097,-0.5134208603131614,0.04112579540260794,-0.4846184509848616,-0.6538644102387332,-0.4361644994082836,-0.3299754620425549,-0.4776141730685821,-0.14367145334757814,-0.43479554306314705,-0.5772425709397946,-0.7681022591874962,-0.6990591348450949,-0.25093993262530173,-0.8302816883638985,-0.3163616760316058,-1.4435692711489034,-1.2030402911575437,-0.08899633566843951,-0.5455502378982499,-0.16709830967854886,0.13920000096325646,-0.49005512710907195,-0.15570730890227585,-0.46528387890709855,-0.9027342170050021,-0.6902244019573667,-0.49091572007291373,-0.9545001909255626,-0.8342599411125724,-1.0797240111219402,-0.4811029971356834,9.121093276081508,-0.9166140880895373,-0.491857831216611,0.039004368134171095,-0.37129850463059894,-0.9466154652586021,-0.6050650284623391,-1.2122063903067908,-0.4187045623540492,-0.4937764926935182,-0.32543590381588816,0.03519665261165378,-0.5067203921650889,-1.3175989978524099,-0.6044594820704807,-0.39152795895567194,-0.30543831726049087,-0.32102982428664967,-0.8475689900060319,-0.7832609269008762,-0.04352153945385094,-0.4265783787707739,0.02550126788614662,-1.109674579692251,-1.0644110986821225,0.06705822080449558,-0.6448944339439493,-0.9551765844926872,-1.1068278947494006,-0.2981395969526289,-0.6212587096717735,-1.0433059048204858,-0.6199290558144053,-0.47213194681148707,-0.1972018945540363,-1.0113404723796653,-0.3637777232452022,-0.8044254444768058,-0.3172148936588993,-0.6908899987211214,-0.79272106018052,-0.7105631476201735,-0.43123644945764894,-1.2272894924566622,-0.15509501358772193,-0.9556929810004416,-0.5318070076235677,-1.4891202909599115,-0.6764090586064399,-0.5064535188921738,-0.28860889760606995,-0.33942039724275197,-1.1547530812782203,-0.3096667632434389,-1.4086668518958674,-0.859862503099267,-0.5577929292514324,-0.8100052231371596,-1.2780045477543296,-0.37451929147696905,-0.37951210618919157,-0.7665773420774198,-1.0895224211456631,-1.263683525583672,-0.38372308377440545,-1.784342428154098,-0.9074912216210071,-1.4097824254548554,0.10766424808434127,-0.0042678060881509335,-0.7543648717610042,-1.0712319886393014,-0.7408829227807262,-0.6175558961654598,-0.4901710801212876,-0.3702410071400153,-0.8066920565420104,-0.5682314867990901,0.08783880112920413,-0.569319222268129,-0.6436020220991056,-0.6053856305710585,-0.4163538606187038,-1.0964551413291213,-1.101655290053916,-1.4643265466734003,-0.6777840452322355,-0.6787711845178179,-1.124005568518989,0.03681359094154802,0.03807616247652711,-0.4637400770437208,-0.3450328863551969,-0.7976830155690828,-0.7556742326326313,-0.7580096638310434,-0.6110646852659537,-0.21854612286737252,-0.4820202121199521,-1.2026971455540065,-0.28062346573153896,-0.6351459453032807,-1.11803777830975,-0.2808723408434575,-0.8951130047176228,-0.6056226103666824,-0.010036956248023664,-1.6923211776957126,-0.48415355240362173,-0.9164054872963489,-0.12473209397736848,-0.17048230340458598,-0.3225841441457623,-0.22305847352031638,-1.3252829075209311,-0.3509427362577885,-0.5955817689148637,-0.2838793597246269,-0.6607131651623535,-0.6322940350604445,-0.6419061372572687,-0.879696600303794,-0.5084898597895496,-0.8510733744158231,-0.7749432226301525,-0.2445319921821298,-0.3339006253684334,-0.5514952000214436,-0.5596016324612547,-0.6219837600066084,-0.8106447496392264,-0.43083909439367174,-0.43009100540251183,-1.2981695588837299,0.025148691186681667,0.092142190231793,-0.9180568553175368,-0.9869898865178577,-1.0309075243895582,-0.5840590019318269,0.005296549715073887,-0.3021277744451287,0.4475997031182968,-0.6136601512907212,-0.7039396669276718,-0.505325925037374,-0.25365123023108405,-1.1240211553298027,-0.51189024662685,-0.8635300453559958,-0.3125806261994924,-0.25194497669241633,-0.5087590803436639,-0.47595350494277017,-0.46296390894085304,-1.1627810183334966,-0.13942779936470637,-0.5167649298394966,-0.897947334716412,-0.2656733893200953,-0.5208457945803121,-0.5862596258448636,-0.15498142384147903,-0.37473983605079775,0.14619648296575105,-1.3437258106282666,-0.743906313968796,-1.1616536027522661,-0.5630254397776587,-0.861990519475132,-1.2486346509145856,0.051594914833786115,-0.40902032264712984,-1.4025086383115013,-0.010088185130143396,-0.7531671010795006,-0.5172104435401703,-0.24780741043215962,-0.2879946921583142,-0.07199994346682795,-0.6021386678001865,-0.898299364368585,-0.5290356320052594,-0.671273110508438,-0.6519369368780609,-0.04796128130374744,-0.3233984759209748,-0.5104327318215017,-0.19763137825397178,-0.3497657064710857,-1.2038390702643995,-0.9167643848563629,4.01233483771578,-0.8790827616904998,-0.02835887186435619,-0.09253178805962797,-0.8803664125486286,0.10503917739024886,-0.5299281587923423,-0.4251777965227608,-0.48552252285119524,-0.6148909759101894,-1.0564789173833284,-0.4817632575329342,-0.9015772294226684,-0.7823593834724799,-0.7251583060774133,-0.6679370327709939,-0.7043630649567869,-0.4832247796441997,-0.7191925542449816,-0.21223366925812998,-0.8697747124802179,-0.9049826239107358,-1.7516957833123619,-0.36328279271064,0.1389157415441004,0.07017962510012966,-0.6924277961705069,-0.6583204874905246,-0.3386304101104842,-0.24531829035981986,-0.15510698302282458,0.12453660026968241,-0.8650381746188842,0.01316147303773841,-0.27736076266195925,-0.7476326707912764,-0.8109895805984098,-0.24702519884874027,-0.24508621040539208,-1.0350823013960544,-0.4756506227956287,-0.9658399009971966,0.021764492733627187,-0.7864914339467941,-0.8274051621884049,-0.38454421330286226,-0.726483940696742,-0.15244834091086532,-0.35570453838909877,-0.9050795696423544,-0.16586864805787033,-0.6703455236668252,-1.1731072978266033,0.13293987367402285,-0.9961942349037904,-0.4396118557281985,-0.01285922210826633,-0.07699585262137851,-0.38276429969286296,-1.2103406561374923,-0.9753650176657379,-0.30228192782563273,-0.7438626593169778,-1.5423425331836813,-0.38307100828798,-0.2876851615596341,-1.1804479808437391,-0.633487718729736,-0.2961139279864906,-0.27094358798381835,-0.7956414620999476,-1.2014784996366101,-0.6298033302114278,-0.6373558923496789,-1.530534570864475,-0.2082398729716482,-0.44258524464681237,-0.898063320855868,-0.45691504312902864,-0.3729819251903525,-0.4591215052274065,-1.2574196888046683,-0.5584894710109635,-0.5913721819027874,-1.2137054959610198,-0.3317340667064419,-1.0473783386093025,-0.15803680087253524,-0.8144954825431132,-0.12116429324874943,-0.3374757729499727,-0.034614834653468235,-0.2804481478713757,-0.6066541943145387,-1.5086305743721207,-1.0159837409291057,-0.3670111276073038,-1.232964670443442,-0.8247979844855221,-1.260136710458335,-0.5139067762101633,-0.8801618051446956,-0.32719874305154517,-1.126289594702739,-0.5772248156023071,-1.4396143286932899,-0.8166921593353538,-0.6026609253961002,-0.61578980068107,-1.3441221342351155,-0.5121695165881897,-0.9605053064984577,-0.03518777657633124,-0.6186087599773129,-0.7180942114820084,-0.6894252811284106,-0.030871974455519507,-0.33320136489600155,-0.689050897713092,-0.3995393125207968,-0.4818452518372867,-0.6650714317362355,-0.63418311521238,-0.8773197839589294,-0.40188387123742786,-0.692265452637089,-0.9577720231902365,-0.45559813507888935,-0.9116215692724702,-1.2236935841729761,-0.7125875469952236,-1.0691310333145714,2.409981639771862,-0.5924181531555468,-1.1054863317495462,-0.3869504571911639,-0.7659406621422433,-0.1737690544569192,-0.8437548969079206,-0.6317259560441619,-0.9619485538949895,-0.203167229784831,-0.43977552779567597,-0.7188374401709368,-0.18104223779553857,-0.9155680646411918,-0.7428329247720796,-0.30747590836932703,-0.865224985702297,0.055651470017211574,1.500569419310264,-1.3315588647485703,-0.4958568939920498,-0.11973966870219653,-0.2816299590748106,-1.4117207847893773,-0.1434622181669256,-0.16295095480010674,-1.261919631050581,-0.6211785908174582,-0.44786967329797844,0.013408180513862035,0.6159390786230932,-0.992617537913894,-0.18826388667897848,-0.6382840789303099,-0.4614711486518283,-0.7171453980771537,-1.2974112505209006,-0.4684110824125038,3.2034827956990286,-0.20450129347137683,-0.7775101652853993,0.054288995428980844,-1.1185506012829294,-1.0055243648047234,-0.8483457618734178,-0.425027284031839,-0.3959571966749465,-0.17780282300879235,-1.5332514314816883,-0.6896877791748518,-0.17684274168627553,-0.6873700588948871,-0.7225600303836519,-0.8987776333258353,3.2912889428522187,-0.7258870172880594,-0.1344901029036333,0.03397467061562599,-0.7368194890957482,-1.3432318961503484,-0.6792156378626102,-0.2954887567842853,-0.29143514166112094,-0.10634894639152404,-0.32352325161072926,0.12715382343594933,-0.8587263541881607,-0.44310578477650975,-1.0982955306744246,-0.3043870622141655,-0.7070682638810709,-0.3428051951743105,-0.6643403305425193,-0.5795445349194335,0.02838849435625411,-0.37203274383649854,-0.6650097463274379,-0.07009653497507906,-0.9184723166793537,-0.37037434220575854,0.019635319600855496,-0.3992334306044456,-0.34434795040045607,-0.9156449543597768,-1.0414666622893747,-1.165358890141694,-0.4573767355430557,-1.1503581799255338,-0.4546092164525882,-0.45087095875763195,-1.3794964170739765,0.03588486020566589,-1.0401794951546257,-0.7509103275270034,-0.7007340395681018,-0.4060631807814746,-1.306226631316968,0.06551814823172206,-0.2781654774731893,-0.38735484096159367,-0.6047579913921457,-0.021143130641265245,-0.6017926598746363,0.09246931994285168,-0.613652679211827,-0.3063636509899286,-0.7025457785807845,-0.1612058355072828,-0.4438854719445674,-1.0735197612849512,-0.7909188213609334,-0.8633379663628695,-0.39938708128410827,-1.332848660848718,-0.5514991133403847,-0.48126307806003304,-0.7753710661159652,-1.235563912215322,-0.047782874396248134,-0.7898960230054702,-1.2847649261200091,-0.642081263732074,-0.2514002899854029,-1.0769248774933309,-0.2615384486684561,-0.42433088881816583,-0.4843373933635082,-0.5247980087679277,-0.4477925977543671,-0.4521045150854706,-0.028444384828512508,-0.5899856641908628,-0.6733829059584274,-0.6453455936566073,-0.43143347379782127,-0.9869824531078275,-0.6708084663766882,-0.14331039454419725,-0.4500023591213952,-0.3200444708613802,-0.9445491428300501,-0.9842608314115846,-1.1857519936915577,-1.2459858126341694,-0.8291753185576161,-0.542522346547445,-0.8405177657387604,-0.14269228292466396,-0.07655722522306634,-0.6909039969051765,-0.6492282611769702,-0.1645451925590676,-0.357481889201642,-0.9544394350671855,-0.8584823734836782,-0.27868109720950307,-0.9521861506591158,-0.8390762066872218,-1.3067512510718253,-0.9017157097030499,-1.068772255647887,-0.8407524193171234,-0.6351202578352948,-1.2610948513916171,-1.2744089422443328,-0.9791198373758152,-0.9896977775928806,-1.1325097511091742,0.06502268723781693,-0.48875678830822167,0.32199342936578523,-0.641759341773899,-1.1709956356730271,-0.4200037887637002,-0.562270144299611,0.045501759208236806,-0.8044014005709272,0.11185594100879688,-0.2806058198446411,0.00919584655091539,-0.5892932726581142,-0.2535295841963394,-0.8517053277205087,-0.3163722513460917,-0.3820985787663908,-0.37069408135450777,-0.25476108596717584,-1.2568921858717037,15.59227888694006,-0.3605711760042203,-0.07024792852518023,-0.5245560354601017,-0.7939453001163672,-0.6999344082916749,-1.4104501915254306,-0.24231658989957397,-0.8019032697785223,-1.256653932318659,-0.4911138402102442,-0.7556729629088217,-0.5066491113224555,-0.394072853651679,-0.5228399108094377,0.00627342224136236,-0.23583464359068346,-0.4341022144562445,-0.5009967395742747,-0.5481778070680245,-0.07894724156769457,-1.035881399586263,-0.9206317775322456,-0.06375594629015457,-0.35790534988224526,-0.35980057739839505,-0.6957880697799009,-1.0228922658826904,-0.39927669180321634,-0.7461310411647281,-0.151784628906749,-1.0639942898354255,-1.5518129370617268,-0.34559341503489743,-0.31029519086220175,-0.7500909180422901,-0.9233537216693384,-0.4068288668413194,-0.3090283025509798,-0.9577886831680839,-0.3033812022185464,-0.831386989792694,-0.19240090682881988,-0.06296754170227946,-0.48205492160437824,0.14927133657127695,-0.7002001395921978,-0.23047587793262253,-0.0703187090633525,-0.1208839783829855,-0.6182729418345266,0.14932737317920766,-0.401488119356553,-1.3508580601850542,-0.5002232541833666,-0.9108102365134192,-0.9185424898241115,-0.7000202188568715,-0.7791462063725562,-0.0446094407192211,-0.5876562733573609,-0.4648717143175646,-1.4098850776489116,-0.2120455350820209,-0.39103463096431845,7.584877803569642,-2.0273336054112696,-0.16957984803525397,-0.05223037344141763,-0.8897063306164367,-0.8556634289113234,-1.1252971260801945,-0.49386838797035754,-1.0004987804057828,-0.3703875802390417,-0.7907732776568859,-0.6161333663196024,-0.3625127708656576,-0.8537617414405182,-1.675671532882983,-0.757012830455207,0.815875051324932,-0.24016656041161227,-0.5041527199896214,-1.1079219137918705,-0.004308327040901418,-0.8445849318912472,-0.05112107506265155,-0.7691128007792072,-0.800873604962618,-0.5488879118824883,-0.6698422973867829,-0.7278380892846649,-0.6364418837343904,-0.3860524100167403,-0.3474943469473138,-1.3144100540837729,0.5106956177486581,-0.5549244398638908,-0.5946473222313707,-0.5071630618459657,0.08383349799243182,-0.7118072271903061,-0.5384967702558588,-0.8796821795387507,-0.8098324139668379,-1.280578050684646,-0.26543725085900294,-1.035532889933583,-0.8091119177675727,-1.2013760215931086,-0.052467091762401705,-1.2307971469733028,-0.6667575951607494,-0.745799549812918,-0.5056904460003595,-0.32070570622855676,-0.14415474561095581,-1.4100594704827403,-0.6767804990061852,-0.6961830890882559,-0.5546449499447453,-0.42770737884846055,-0.6956059776991328,-1.6818432217161847,-0.7867335864047085,-0.5485819326135419,-0.10891997069352949,-0.5090157614361213,-0.4135655007269329,-0.6060229569864496,-0.9572470108656838,-1.136520093832694,-1.19811074461341,-0.43866010465173944,14.004532787099647,-0.6668069729259118,-0.15391989236945086,-0.5620626876564413,-1.232861775856939,-0.2610278959840112,-0.6353728461795198,0.08134519430277293,-0.7986970816842113,-0.6694037385143213,-0.4236555295491342,-0.2653072569806814,0.1684219243324762,0.29973544885557646,-0.3970416617712532,-0.1339067535526325,-0.5763558627168628,-1.00436163737106,-0.5136137044945248,-0.86930388293766,-0.3009920307917868,-0.31546039697373696,-1.1775315822046053,-0.3227282519739036,-0.51146803126315,-0.8800174817874779,-0.43654849328885625,-0.323461076029973,-0.597021717270179,-0.8094655130898082,-0.9296260476236827,-0.844583514980992,-0.8407496615254486,-0.2672525171999096,-0.8300386679768248,-0.26348846253672265,0.1401161046781364,-0.2779376861108372,-0.9717732473956823,-0.8702106957425889,-0.6008180955142122,-0.19592276653373947,0.17759411725341728,-0.3742911346304255,-0.1261004634569929,-1.353266206827572,-0.7242920266027656,-1.1878056764489748,-0.35347169241573245,-0.4315434549818079,-0.18207905452403497,-0.16999231570910822,-0.7697827807231346,-0.9503594565504897,-0.424141453574988,-1.7778328477942473,-0.3397749244688632,0.23435673601080623,-1.008215277935364,-1.1453481123509637,-0.9716204058054541,-0.23729038629682034,-0.7664595910942412,-0.18019982168972645,-0.4195400656727151,-0.9191968030066011,-0.15732988912195345,-0.30826191257899693,-0.35184923161231973,-0.31057141694425405,-0.5403259601371652,-0.4203879288769774,-0.22545622905892063,-0.18190973535949004,7.1994425905803485,-0.6594461306742769,-1.5846562964011748,2.236793123174824,-0.458507903561725,0.03582625705297368,-0.3184967912458048,-0.7267943923697113,-0.2892315937231825,-0.895639403662926,4.017065839436541,0.03786014476819843,-0.764208695691613,-0.8052257834176721,-0.981463159013348,-0.659092023434882,-0.5797209082253112,-0.9940189119028082,-1.1511910296881336,-0.0872156881283618,0.08420208157673881,-1.2899374545228703,-0.6180805945677346,-0.3474843835438569,-0.0886256372005162,-0.24841223017992886,-0.3515093997415082,-1.0170936330665106,-0.1682626395911142,-0.2937478982671379,-0.671364914931379,-1.136520093832694,-0.5839664821223426,-1.181286227826097,-0.9021292042570597,-0.28142736001009616,-1.0233354600097986,-1.2675710901884396,-0.41857658312392054,-1.390337408800335,-0.4138238459571276,-0.128848529245626,-0.016100303597690713,-0.2963680066842914,-1.050281494472694,-0.8036372312703963,-1.3791570685543244,-0.9809592503077837,-0.8327148300965354,-0.8563087115111433,-0.2928676277214618,0.039488021488341934,-0.1524905850952345,-0.36843071286839424,-0.35719580477089163,-0.5769570712361378,-0.7631661093369639,-1.0526993435055687,-0.9195057127105901,-0.920871506567061,-0.7271453430254351,-0.12546494657250118,-0.4899454444752273,-0.6182380266668749,-0.6622460085574353,-0.753491258877305,-0.26918010443782325,-0.5645470055354327,-0.8089416939591723,-0.5009495908162649,0.0477593503281771,-0.8533266474668241,-1.1095079810734172,-0.491033224969929,-0.03768666463061528,-1.6057453115174314,-0.7793796657382633,-0.5362745022391555,-0.765481756376549,-0.3560116985532382,-0.4078418747136203,-0.7386384885917581,-0.7887063467198294,0.1065601371961819,-0.7225199862158902,-1.0429993690841086,-1.3585378674875228,-0.2571136355296806,-0.09007053869246338,-0.7126188782355577,-1.3656801724177932,-0.26055420242955324,-0.031608176894426174,-0.9462251027821259,-0.3405822919065461,-0.25733829440276934,8.970508337614637,0.030627721536446096,-1.0735738184145576,-0.8641846024391049,-0.3253678115968885,-0.46568250324131644,-0.8554501559409285,-0.2583443080246232,-1.489764667000373,-0.6082298246675946,-0.11070308812390905,-0.32179691047945524,-0.4160708989954769,-0.6806871377848177,-0.9922290784078353,-0.49827046301769246,-0.05143979754918754,-0.39505847661249993,-0.5174442289948851,-0.33377197227183825,-0.18734974822311157,-1.0874875002631663,0.14834663347197877,0.06507234502651153,-0.0031402589097012795,-1.312086484851416,-0.6340859962256806,-0.7525194015406077,-0.7290319143266537,-0.20141821681399574,-0.6479744008668082,0.04386504116609527,-0.44240989699855965,-0.396453033777088,-0.741491170013665,-0.1603192296132882,-0.7882169132884899,-0.4099059501364487,-0.4489536014334611,-0.34031441025643755,-0.21913265149262184,-1.1740720137197038,0.08603926312457194,-0.683141616900616,-0.8951481501797101,-0.9135871798448791,-0.32293663866479216,0.12586045658408787,-0.958253892383047,5.003673256734993,-0.14295871234337154,-0.7174150474471013,-0.7026916796653098,-1.6456372650303361,-0.49295728506093595,-0.9373966843888887,-0.2045548961517385,-1.286939245800629,-0.7595495010842728,-1.553948591473469,-0.19376234703409234,-0.24552362757473745,-0.0795337763427812,-0.9328321105993365,-0.5035917068973118,-1.2008935306378572,-0.5396386577413573,-0.10649812401283637,-0.47375022472596245,-0.4321283950097269,-0.033564042836550914,-0.6851724732300059,-0.16600690126204737,-1.1658027211990432,-0.4098925518529773,-0.7643216920005032,-0.8945264926662777,-0.3973821144845632,-0.2819887209857853,-0.9853037481934268,0.015608004647853014,-0.45657797672593625,-0.6183487143265101,-0.7455676165914048,-0.4817670786720926,-0.36812991859915256,-0.9999393891019106,-0.9298624217534074,-0.8289693992878052,-1.43985442538992,-0.6697380815340868,-1.0745225449910754,-0.6828381443895636,-0.48344482932058597,1.368053981478928,-0.682985864696516,-0.595646882633708,-0.20856819116871628,-1.0173171435011654,-0.7835635422130461,-0.33215861902527916,-0.11762669523292779,-0.574657008175647,-0.6427711513400726,-0.571680669212287,-0.22717679693814585,-0.776479647426612,-0.26779785436098125,-0.4776993070987841,-0.8697656101689084,-0.7148883736147574,-0.7038345719789748,-0.06099343697996912,-0.9882198559991902,-0.8158997287727651,-0.8104996318689144,-0.8879222603135645,-0.2879250393324156,-0.22963291563187715,-0.2008706862769793,-0.4450476736934666,-0.6133045986422716,-0.7977680925310924,-0.8030981641429372,-1.020755457386966,-0.46911371992492445,-0.8470770596454652,-0.8453829756685702,-1.1933968517398772,-0.7279208451350841,-1.120513535052377,-0.4559381526692826,-0.7767118177773598,2.5213917934077834,-0.4089101546224703,-0.5594099565793942,-0.37318196175143953,-0.645604673813396,-1.5500184710989116,-0.07054720346878815,0.0004894861060861094,-0.4066843823526254,-0.4245214610360304,-0.2537075238388154,-1.0035868838171402,0.09894781154531579,-0.9581502397041082,-0.08871130496888405,-0.44096185513761776,-0.7164911724071916,-0.2902711380802197,-0.5629484706240713,-0.6700743919093255,-0.4748723576590981,-1.2949663131151459,0.04594450850372144,-0.42047072669552055,-0.8413722522939915,-1.1523103018481955,-0.8685410400151312,-1.1031020714727708,-0.8799046072198999,-0.7041466461086674,-0.4112142323715118,-1.1974141176831627,-0.9936902769353391,-0.4349199609960544,-0.9867611959560738,-0.8573305814469266,-0.46434083375211976,-0.6566450769803367,-0.7838560270813495,-1.1053255725377706,-0.23356772228604228,-0.45890941639011906,-0.25159274392968545,-1.0010689071842223,-0.29209778172823986,-0.5505449286040778,-0.5977782145292208,-0.09279003444044316,0.025610247981227255,-0.2654929031836988,-1.4821950515895543,-0.5521470862360719,-1.1679464608035068,-0.17949862861008478,-1.0108473425738054,-0.5475256736535062,-0.5567406911768494,-0.5408963431121198,-0.15624725465639025,-1.1711617053000503,-0.5725170327047671,-0.4037795740886804,-0.7782079281132946,-0.6837372151415434,-0.5250809258003106,-0.16318718067385485,-1.2380891480108802,-0.31299212740345245,-0.3261319121694866,-1.6973123576350884,-0.6480888841553927,-0.26033488303532615,-0.6534623436762664,-0.864929260164952,1.40359437289678,-0.6641145760575878,-1.3927653418400638,-0.9578181897201538,-0.19573324507314757,-0.179307131953358,-0.19189543423578742,-0.7677485198296803,-0.43713502256339926,-0.9052796536262095,2.788036244824393,-0.8166698375805986,-0.2229742523527618,-0.00441418298306212,-0.21494216193091756,-0.6552985714212222,-0.9585237829928476,-0.557952673932329,-0.38788618871576247,-0.39978504035569407,-1.870563726388939,0.09316483502680664,-0.24342609068801707,-0.9887788050312698,0.33525625532890546,-0.4036353698627711,-0.56284552695093,-0.25339151069413296,-0.41431915212217885,-1.0566080830068743,-0.39661867721485017,-0.12281288570102541,-0.5528069266888351,-0.8760284099542669,0.1343910330623211,-1.1908645004980518,-0.6155191407008748,-0.5591074947036357,-0.016989106534116734,-0.13694233973644723,-0.07140067115041795,-0.16648994253751576,-1.0280370099922767,-0.4183640379053405,-0.8927738204204003,-1.5091197412059036,-1.07932642396222,-1.5669450272064696,-0.6122612018401993,-0.667932960994491,-0.3492691641139902,-0.8471900402159078,-0.9083743263870726,-0.27368943105362786,-0.17764034027295733,-0.1975358536337124,-0.8294835005137324,0.1411993023316167,-0.7261607573884037,-0.7030031902610816,-0.25850969784519606,-0.022648025315752204,-0.07806147355371701,-1.25498994095783,0.03314132163201686,-0.6745914602280902,-0.8639520432385448,-0.16937132144765069,-0.28101979978579467,-0.39485840698283226,-0.5219076976078699,-0.40698334674012737,-0.11514170604758929,-0.3905116664463456,-1.0321384405480092,-0.6304234221562877,-0.16134891896283288,-0.6386830633771141,-0.641864220150645,-0.35469854380658583,-0.544610610761282,0.08129297913023203,-1.5318949134787654,-0.1645857612972672,-1.0485503124940605,-1.1818777622762597,-0.6139777035965648,-0.6034814746011303,-0.06330327509217705,-1.0472269475879783,-0.24830839916508773,-1.6808851014490247,-0.08283028577209227,-0.20622503851950366,-0.8977790135089792,-0.04127322315939823,-0.07295554216259485,-0.8042749516425531,-1.207647959093774,0.04580142166962162,-0.6985119539337308,-0.562618358126756,-0.29930979546508385,-0.8455981239997657,0.09532156770037539,-0.48053446581923087,-1.7752601210297856,-0.43661949276396084,-0.5431717320841888,-0.25569640884388967,-0.793203050551439,-0.4779238995375216,-0.9109832509752841,-0.641496541099615,-0.9327201876026225,-0.9416463053062576,-0.8433203511029964,-0.5945993829953792,-0.9748884940515188,-0.4900562635949822,-0.8304568507013581,-0.4974932179109051,-1.2066796540280782,-0.05290764837027942,-1.031451735163926,-0.5581504787967677,-0.02716173541939004,-1.4583633016190762,0.03900988487577916,-0.7371284832403859,-0.704031420442173,-0.6729461897372814,-0.6410194736060782,-0.37997804607007446,-0.5540356008189782,-0.5463332274710746,-0.11400007219449868,0.5853695269468193,-0.6969057925750407,-0.8153388321788254,-0.42040827573211054,-0.3217939485485496,0.006549244092654692,-1.033079993026531,-0.5361657405395328,-0.14465392942669275,-0.08469502212714347,-1.0130386504500415,-0.722583101055787,-0.9059255928066758,-0.9643542526139949,3.580075679220124,0.04125647001281215,-0.006864652663893495,-1.0179458095492928,0.12348144389080486,-0.8654822210686302,-0.972645399582077,-0.4509837033009115,-1.540044366739123,-0.2721082618443469,-0.9520228564582198,-0.42620811066670217,-0.27280106013281313,-0.5426642724804759,-0.8736998412294273,-1.043400137917906,-1.4721810549482293,-0.4094658151524814,-0.46570866576260317,-1.4836457357300317,-0.52414113542892,-0.4433797012264106,1.4439607228373514,-0.17655596464578452,-0.7680242026947351,-0.444921091800959,-0.5295622028827272,0.08265749538498611,-0.043328404411539595,-0.9252887432976338,-0.10827954695529818,-0.4487652741601059,-1.0201531186356183,-0.305861867552085,-1.152366658154217,-0.7454964910592288,-0.28644556122139214,-0.4509831260865329,-1.2061238378512817,-0.7326135510876995,-0.19898975923558954,0.1484902469688886,-0.4033596298457766,-0.8996250637445307,-0.7949839178945577,-0.706533445813159,-0.345391975820214,-0.4127066274886378,-0.36740145082031817,-0.2556796848648113,-0.44159721598626966,1.7221719926722965,-0.2825468554941035,-0.6104548534777643,-1.071847017022803,-0.6080546405361772,-0.556913299823691,-0.4500014913830866,-0.693473719758501,-0.5280140507709612,-1.0436034487448302,-0.7744616554673913,-0.7706603702171202,-0.5669534044294078,-0.4917419605010418,-0.33156981444077144,-0.37406686334787026,-0.33370791246951587,-0.04795491072367853,-1.1691695332250789,-0.9531809018614088,-0.646427320017266,-0.10752012002531618,-1.4714452256113812,-1.074805937997978,-0.7260442447364477,-1.2299642428074786,-2.008841835355602,-0.32797513205286954,-0.6265093056046469,-1.0259565942820528,-1.4800152246753449,0.33827524802670716,-0.4262077036954563,-1.0577735794743632,-0.3234503192843118,-0.9155638178870895,2.0730434429215863,-0.680881208869146,0.09261682315415157,-0.18728472549303982,-0.6636731724680647,-1.1293587247239882,-0.2927599249594388,0.019730150735856086,-0.8323830429557206,-0.44796090939475475,-0.783946574329161,-0.34406392301265676,-0.5525961027114696,-0.747717385120359,-1.5101372949319836,-0.3620506264668084,-0.4242314473735985,-0.9472556450657996,-0.07102671557735366,-0.33397804483175125,-0.9159565795167587,-1.4642095254060106,-0.22261880312580393,0.1308799738909013,-1.22429855129467,2.2881181505705994,-1.2046691286691449,-0.9484181707847595,-0.5374281651159087,-0.7387991078362028,0.012898656883380911,0.10010799199354573,-0.1503973440949556,-0.36260186761281255,-0.5179392896539974,-0.8253560394218926,-0.36364626075671924,-1.3603079816782466,-0.516116022395767,-0.922305565765403,-0.49938951921075203,1.8247917373152218,-0.9911922894288983,-0.6130639183221613,-0.2810313818146971,-0.9793426910173937,-0.10559911436680663,-1.205454909890819,-1.4875455067100232,1.074966457589619,-0.4780743406247528,-0.6234324712347448,-0.8833993001994316,-0.9141571720161749,-0.3500678094508514,-0.692016837239067,-0.7647176702350318,-0.8158892709190797,-1.410487187970484,-0.729687969536792,-0.6573233294471468,-1.065889249906591,-0.01395468576376696,-0.48358328454347815,-1.4501078346379515,-0.9172180107630403,-0.12166311741404603,-0.5959531103667005,-0.6007729565443318,-0.3056080256078032,-0.22527778699039233,-1.239871010947773,-0.7394883444785318,-1.0211971763078331,-0.3698730158332407,-0.6267979387114978,-0.4667501786370951,-0.5226346290565457,-1.0685229026390697,-1.4814476469234394,-0.2200349127065477,-0.27923869518373523,0.02208628386208135,-1.0786984091028247,-0.10298868528187641,-0.6180472887838615,-0.7269421925141749,-0.454348300623843,-0.28126942134395094,-0.44952068458351135,-0.17050353572750448,-0.5183317585704501,-0.7213491252808585,-0.9114898793587156,0.07019925959441684,-1.3396231219597499,-0.6964721083729802,-0.27220521003108744,-1.079453691297634,-0.41022717480868054,-0.6264958877836126,-0.5567310547314768,-0.5601288346726845,-0.6686355834697587,-0.7022738511601074,-0.5334362433201469,-1.065779784648024,-1.382521304340872,-1.5230594103284663,-0.8389369316054723,0.01120971866480597,-0.04877853673617129,-0.7352023735914477,-0.7143902486840296,-0.35201899626992506,-0.8538624790313526,-0.13893542252272117,-0.7865133262409908,-0.5432161405948801,-1.051274362693368,-0.0422649556315057,-0.8019012986652744,-0.45787574029615086,-0.6969236974418149,-0.5201088196886213,-1.069769836109645,-0.27461012755207487,-0.9424723544211777,-0.897660512548406,-0.008808522199036203,-1.1360505845856175,-0.6839711846088978,-0.5698441074321698,-0.8060096633423732,-0.27768668746570485,0.10713109778347793,-0.8096229268294317,-0.6711404527401053,-0.871664453299539,-0.6814341894832564,-1.131731559973014,-0.7461992153813776,-0.621803639612499,-0.40825779130091744,-1.0969199236306637,0.08379268018419464,-0.8509735723296455,-0.43463321793104237],\"yaxis\":\"y\",\"type\":\"scattergl\",\"textposition\":\"top center\"}],                        {\"template\":{\"data\":{\"bar\":[{\"error_x\":{\"color\":\"#2a3f5f\"},\"error_y\":{\"color\":\"#2a3f5f\"},\"marker\":{\"line\":{\"color\":\"#E5ECF6\",\"width\":0.5},\"pattern\":{\"fillmode\":\"overlay\",\"size\":10,\"solidity\":0.2}},\"type\":\"bar\"}],\"barpolar\":[{\"marker\":{\"line\":{\"color\":\"#E5ECF6\",\"width\":0.5},\"pattern\":{\"fillmode\":\"overlay\",\"size\":10,\"solidity\":0.2}},\"type\":\"barpolar\"}],\"carpet\":[{\"aaxis\":{\"endlinecolor\":\"#2a3f5f\",\"gridcolor\":\"white\",\"linecolor\":\"white\",\"minorgridcolor\":\"white\",\"startlinecolor\":\"#2a3f5f\"},\"baxis\":{\"endlinecolor\":\"#2a3f5f\",\"gridcolor\":\"white\",\"linecolor\":\"white\",\"minorgridcolor\":\"white\",\"startlinecolor\":\"#2a3f5f\"},\"type\":\"carpet\"}],\"choropleth\":[{\"colorbar\":{\"outlinewidth\":0,\"ticks\":\"\"},\"type\":\"choropleth\"}],\"contour\":[{\"colorbar\":{\"outlinewidth\":0,\"ticks\":\"\"},\"colorscale\":[[0.0,\"#0d0887\"],[0.1111111111111111,\"#46039f\"],[0.2222222222222222,\"#7201a8\"],[0.3333333333333333,\"#9c179e\"],[0.4444444444444444,\"#bd3786\"],[0.5555555555555556,\"#d8576b\"],[0.6666666666666666,\"#ed7953\"],[0.7777777777777778,\"#fb9f3a\"],[0.8888888888888888,\"#fdca26\"],[1.0,\"#f0f921\"]],\"type\":\"contour\"}],\"contourcarpet\":[{\"colorbar\":{\"outlinewidth\":0,\"ticks\":\"\"},\"type\":\"contourcarpet\"}],\"heatmap\":[{\"colorbar\":{\"outlinewidth\":0,\"ticks\":\"\"},\"colorscale\":[[0.0,\"#0d0887\"],[0.1111111111111111,\"#46039f\"],[0.2222222222222222,\"#7201a8\"],[0.3333333333333333,\"#9c179e\"],[0.4444444444444444,\"#bd3786\"],[0.5555555555555556,\"#d8576b\"],[0.6666666666666666,\"#ed7953\"],[0.7777777777777778,\"#fb9f3a\"],[0.8888888888888888,\"#fdca26\"],[1.0,\"#f0f921\"]],\"type\":\"heatmap\"}],\"heatmapgl\":[{\"colorbar\":{\"outlinewidth\":0,\"ticks\":\"\"},\"colorscale\":[[0.0,\"#0d0887\"],[0.1111111111111111,\"#46039f\"],[0.2222222222222222,\"#7201a8\"],[0.3333333333333333,\"#9c179e\"],[0.4444444444444444,\"#bd3786\"],[0.5555555555555556,\"#d8576b\"],[0.6666666666666666,\"#ed7953\"],[0.7777777777777778,\"#fb9f3a\"],[0.8888888888888888,\"#fdca26\"],[1.0,\"#f0f921\"]],\"type\":\"heatmapgl\"}],\"histogram\":[{\"marker\":{\"pattern\":{\"fillmode\":\"overlay\",\"size\":10,\"solidity\":0.2}},\"type\":\"histogram\"}],\"histogram2d\":[{\"colorbar\":{\"outlinewidth\":0,\"ticks\":\"\"},\"colorscale\":[[0.0,\"#0d0887\"],[0.1111111111111111,\"#46039f\"],[0.2222222222222222,\"#7201a8\"],[0.3333333333333333,\"#9c179e\"],[0.4444444444444444,\"#bd3786\"],[0.5555555555555556,\"#d8576b\"],[0.6666666666666666,\"#ed7953\"],[0.7777777777777778,\"#fb9f3a\"],[0.8888888888888888,\"#fdca26\"],[1.0,\"#f0f921\"]],\"type\":\"histogram2d\"}],\"histogram2dcontour\":[{\"colorbar\":{\"outlinewidth\":0,\"ticks\":\"\"},\"colorscale\":[[0.0,\"#0d0887\"],[0.1111111111111111,\"#46039f\"],[0.2222222222222222,\"#7201a8\"],[0.3333333333333333,\"#9c179e\"],[0.4444444444444444,\"#bd3786\"],[0.5555555555555556,\"#d8576b\"],[0.6666666666666666,\"#ed7953\"],[0.7777777777777778,\"#fb9f3a\"],[0.8888888888888888,\"#fdca26\"],[1.0,\"#f0f921\"]],\"type\":\"histogram2dcontour\"}],\"mesh3d\":[{\"colorbar\":{\"outlinewidth\":0,\"ticks\":\"\"},\"type\":\"mesh3d\"}],\"parcoords\":[{\"line\":{\"colorbar\":{\"outlinewidth\":0,\"ticks\":\"\"}},\"type\":\"parcoords\"}],\"pie\":[{\"automargin\":true,\"type\":\"pie\"}],\"scatter\":[{\"marker\":{\"colorbar\":{\"outlinewidth\":0,\"ticks\":\"\"}},\"type\":\"scatter\"}],\"scatter3d\":[{\"line\":{\"colorbar\":{\"outlinewidth\":0,\"ticks\":\"\"}},\"marker\":{\"colorbar\":{\"outlinewidth\":0,\"ticks\":\"\"}},\"type\":\"scatter3d\"}],\"scattercarpet\":[{\"marker\":{\"colorbar\":{\"outlinewidth\":0,\"ticks\":\"\"}},\"type\":\"scattercarpet\"}],\"scattergeo\":[{\"marker\":{\"colorbar\":{\"outlinewidth\":0,\"ticks\":\"\"}},\"type\":\"scattergeo\"}],\"scattergl\":[{\"marker\":{\"colorbar\":{\"outlinewidth\":0,\"ticks\":\"\"}},\"type\":\"scattergl\"}],\"scattermapbox\":[{\"marker\":{\"colorbar\":{\"outlinewidth\":0,\"ticks\":\"\"}},\"type\":\"scattermapbox\"}],\"scatterpolar\":[{\"marker\":{\"colorbar\":{\"outlinewidth\":0,\"ticks\":\"\"}},\"type\":\"scatterpolar\"}],\"scatterpolargl\":[{\"marker\":{\"colorbar\":{\"outlinewidth\":0,\"ticks\":\"\"}},\"type\":\"scatterpolargl\"}],\"scatterternary\":[{\"marker\":{\"colorbar\":{\"outlinewidth\":0,\"ticks\":\"\"}},\"type\":\"scatterternary\"}],\"surface\":[{\"colorbar\":{\"outlinewidth\":0,\"ticks\":\"\"},\"colorscale\":[[0.0,\"#0d0887\"],[0.1111111111111111,\"#46039f\"],[0.2222222222222222,\"#7201a8\"],[0.3333333333333333,\"#9c179e\"],[0.4444444444444444,\"#bd3786\"],[0.5555555555555556,\"#d8576b\"],[0.6666666666666666,\"#ed7953\"],[0.7777777777777778,\"#fb9f3a\"],[0.8888888888888888,\"#fdca26\"],[1.0,\"#f0f921\"]],\"type\":\"surface\"}],\"table\":[{\"cells\":{\"fill\":{\"color\":\"#EBF0F8\"},\"line\":{\"color\":\"white\"}},\"header\":{\"fill\":{\"color\":\"#C8D4E3\"},\"line\":{\"color\":\"white\"}},\"type\":\"table\"}]},\"layout\":{\"annotationdefaults\":{\"arrowcolor\":\"#2a3f5f\",\"arrowhead\":0,\"arrowwidth\":1},\"autotypenumbers\":\"strict\",\"coloraxis\":{\"colorbar\":{\"outlinewidth\":0,\"ticks\":\"\"}},\"colorscale\":{\"diverging\":[[0,\"#8e0152\"],[0.1,\"#c51b7d\"],[0.2,\"#de77ae\"],[0.3,\"#f1b6da\"],[0.4,\"#fde0ef\"],[0.5,\"#f7f7f7\"],[0.6,\"#e6f5d0\"],[0.7,\"#b8e186\"],[0.8,\"#7fbc41\"],[0.9,\"#4d9221\"],[1,\"#276419\"]],\"sequential\":[[0.0,\"#0d0887\"],[0.1111111111111111,\"#46039f\"],[0.2222222222222222,\"#7201a8\"],[0.3333333333333333,\"#9c179e\"],[0.4444444444444444,\"#bd3786\"],[0.5555555555555556,\"#d8576b\"],[0.6666666666666666,\"#ed7953\"],[0.7777777777777778,\"#fb9f3a\"],[0.8888888888888888,\"#fdca26\"],[1.0,\"#f0f921\"]],\"sequentialminus\":[[0.0,\"#0d0887\"],[0.1111111111111111,\"#46039f\"],[0.2222222222222222,\"#7201a8\"],[0.3333333333333333,\"#9c179e\"],[0.4444444444444444,\"#bd3786\"],[0.5555555555555556,\"#d8576b\"],[0.6666666666666666,\"#ed7953\"],[0.7777777777777778,\"#fb9f3a\"],[0.8888888888888888,\"#fdca26\"],[1.0,\"#f0f921\"]]},\"colorway\":[\"#636efa\",\"#EF553B\",\"#00cc96\",\"#ab63fa\",\"#FFA15A\",\"#19d3f3\",\"#FF6692\",\"#B6E880\",\"#FF97FF\",\"#FECB52\"],\"font\":{\"color\":\"#2a3f5f\"},\"geo\":{\"bgcolor\":\"white\",\"lakecolor\":\"white\",\"landcolor\":\"#E5ECF6\",\"showlakes\":true,\"showland\":true,\"subunitcolor\":\"white\"},\"hoverlabel\":{\"align\":\"left\"},\"hovermode\":\"closest\",\"mapbox\":{\"style\":\"light\"},\"paper_bgcolor\":\"white\",\"plot_bgcolor\":\"#E5ECF6\",\"polar\":{\"angularaxis\":{\"gridcolor\":\"white\",\"linecolor\":\"white\",\"ticks\":\"\"},\"bgcolor\":\"#E5ECF6\",\"radialaxis\":{\"gridcolor\":\"white\",\"linecolor\":\"white\",\"ticks\":\"\"}},\"scene\":{\"xaxis\":{\"backgroundcolor\":\"#E5ECF6\",\"gridcolor\":\"white\",\"gridwidth\":2,\"linecolor\":\"white\",\"showbackground\":true,\"ticks\":\"\",\"zerolinecolor\":\"white\"},\"yaxis\":{\"backgroundcolor\":\"#E5ECF6\",\"gridcolor\":\"white\",\"gridwidth\":2,\"linecolor\":\"white\",\"showbackground\":true,\"ticks\":\"\",\"zerolinecolor\":\"white\"},\"zaxis\":{\"backgroundcolor\":\"#E5ECF6\",\"gridcolor\":\"white\",\"gridwidth\":2,\"linecolor\":\"white\",\"showbackground\":true,\"ticks\":\"\",\"zerolinecolor\":\"white\"}},\"shapedefaults\":{\"line\":{\"color\":\"#2a3f5f\"}},\"ternary\":{\"aaxis\":{\"gridcolor\":\"white\",\"linecolor\":\"white\",\"ticks\":\"\"},\"baxis\":{\"gridcolor\":\"white\",\"linecolor\":\"white\",\"ticks\":\"\"},\"bgcolor\":\"#E5ECF6\",\"caxis\":{\"gridcolor\":\"white\",\"linecolor\":\"white\",\"ticks\":\"\"}},\"title\":{\"x\":0.05},\"xaxis\":{\"automargin\":true,\"gridcolor\":\"white\",\"linecolor\":\"white\",\"ticks\":\"\",\"title\":{\"standoff\":15},\"zerolinecolor\":\"white\",\"zerolinewidth\":2},\"yaxis\":{\"automargin\":true,\"gridcolor\":\"white\",\"linecolor\":\"white\",\"ticks\":\"\",\"title\":{\"standoff\":15},\"zerolinecolor\":\"white\",\"zerolinewidth\":2}}},\"xaxis\":{\"anchor\":\"y\",\"domain\":[0.0,1.0],\"title\":{\"text\":\"x\"}},\"yaxis\":{\"anchor\":\"x\",\"domain\":[0.0,1.0],\"title\":{\"text\":\"y\"}},\"legend\":{\"tracegroupgap\":0},\"title\":{\"text\":\"first two SVD components of PPMI matrix.\"}},                        {\"responsive\": true}                    ).then(function(){\n",
              "                            \n",
              "var gd = document.getElementById('817d49b4-b641-4ae6-b4cb-045cfd9da4a5');\n",
              "var x = new MutationObserver(function (mutations, observer) {{\n",
              "        var display = window.getComputedStyle(gd).display;\n",
              "        if (!display || display === 'none') {{\n",
              "            console.log([gd, 'removed!']);\n",
              "            Plotly.purge(gd);\n",
              "            observer.disconnect();\n",
              "        }}\n",
              "}});\n",
              "\n",
              "// Listen for the removal of the full notebook cells\n",
              "var notebookContainer = gd.closest('#notebook-container');\n",
              "if (notebookContainer) {{\n",
              "    x.observe(notebookContainer, {childList: true});\n",
              "}}\n",
              "\n",
              "// Listen for the clearing of the current output cell\n",
              "var outputEl = gd.closest('.output');\n",
              "if (outputEl) {{\n",
              "    x.observe(outputEl, {childList: true});\n",
              "}}\n",
              "\n",
              "                        })                };                            </script>        </div>\n",
              "</body>\n",
              "</html>"
            ]
          },
          "metadata": {}
        }
      ]
    },
    {
      "cell_type": "markdown",
      "source": [
        "#### **Excercise 7:** LSTM Language Model (**3 points**)\n",
        "1. Formulate a proper dataset for language modelling on longer sequences from the text\n",
        "  - beyond the n-gram scope, e.g. 10 consecutive words\n",
        "2. Create a suitable LSTM-based language model\n",
        "3. Initialize the embedding layer of your model with your \"pretrained\" SVD embeddings"
      ],
      "metadata": {
        "id": "OovsDDLftlXo"
      }
    },
    {
      "cell_type": "code",
      "source": [
        "import numpy as np\n",
        "\n",
        "import pandas as pd\n",
        "\n",
        "import nltk\n",
        "from nltk import word_tokenize\n",
        "nltk.download('punkt')\n",
        "\n",
        "import torch\n",
        "import torch.nn.functional as F\n",
        "import torch.nn as nn\n",
        "import torch.optim as optim\n",
        "from torch.utils.data import DataLoader, Dataset\n",
        "torch.device('cuda' if torch.cuda.is_available() else 'cpu')\n",
        "\n",
        "\n",
        "class ModelLSTM(nn.Module):\n",
        "    def __init__(self, vocab_size, sequence_len, pretrained_vectors: np.ndarray=None):\n",
        "        super(ModelLSTM, self).__init__()\n",
        "\n",
        "        self.hidden_dim = 64\n",
        "        self.num_layers = 16\n",
        "        self.sequence_len = sequence_len\n",
        "\n",
        "        if pretrained_vectors is None:\n",
        "            self.embedding_dim = 32\n",
        "            self.embedding = torch.nn.Embedding(vocab_size, self.embedding_dim)\n",
        "        else:\n",
        "            self.embedding_dim = pretrained_vectors.shape[1]\n",
        "            self.embedding = torch.nn.Embedding.from_pretrained(\n",
        "                torch.from_numpy(pretrained_vectors).float(), freeze=False)\n",
        "\n",
        "        self.h_0, self.c_0 = self.init_hidden(self.sequence_len)\n",
        "        self.rnn = torch.nn.LSTM(self.embedding_dim, self.hidden_dim, self.num_layers)\n",
        "\n",
        "        self.fc = torch.nn.Linear(self.hidden_dim, vocab_size)\n",
        "\n",
        "    def init_hidden(self, sequence_length):\n",
        "        return (torch.autograd.Variable(torch.randn(self.num_layers, sequence_length, self.hidden_dim)),\n",
        "                torch.autograd.Variable(torch.randn(self.num_layers, sequence_length, self.hidden_dim)))\n",
        "\n",
        "\n",
        "    def forward(self, x):\n",
        "        embed = self.embedding(x)\n",
        "\n",
        "        output, (self.h_0, self.c_0) = self.rnn(embed, (self.h_0, self.c_0))\n",
        "\n",
        "        logits = self.fc(output)\n",
        "        return logits\n",
        "\n",
        "\n",
        "class DatasetPoetrySequential(torch.utils.data.Dataset):\n",
        "    def __init__(self, lines, word2idx, sequence_length=10):\n",
        "        self.sequence_length = sequence_length\n",
        "        self.words = [item for sublist in lines for item in sublist]  # Creates text as list\n",
        "        self.words_indices = [word2idx[w] for w in self.words]  #  with tokens as indices.\n",
        "\n",
        "    def __len__(self):\n",
        "        return len(self.words_indices) - self.sequence_length\n",
        "\n",
        "    def __getitem__(self, index):\n",
        "        return (\n",
        "            torch.tensor(self.words_indices[index:index + self.sequence_length]),\n",
        "            torch.tensor(self.words_indices[index + 1:index + self.sequence_length + 1]))  # the same sequence shifted by 1 step\n"
      ],
      "metadata": {
        "id": "o825q7yitspV",
        "outputId": "92ae975b-84fe-4481-8713-84c989aba8d9",
        "colab": {
          "base_uri": "https://localhost:8080/"
        }
      },
      "execution_count": 20,
      "outputs": [
        {
          "output_type": "stream",
          "name": "stdout",
          "text": [
            "[nltk_data] Downloading package punkt to /root/nltk_data...\n",
            "[nltk_data]   Package punkt is already up-to-date!\n"
          ]
        }
      ]
    },
    {
      "cell_type": "code",
      "source": [
        "!wget -nc https://raw.githubusercontent.com/GustikS/smu-nlp/master/robert_frost.txt\n",
        "\n",
        "lines = []  \n",
        "word2idx = {}\n",
        "idx2word = []  \n",
        "idx = 0\n",
        "for line in open('robert_frost.txt'):\n",
        "  tokens = line.rstrip().lower().split()\n",
        "  if not tokens:\n",
        "    continue\n",
        "  lines.append(tokens)\n",
        "  tokens = ['<ss>', '<s>'] + tokens + ['</s>']\n",
        "  for i in range(0, len(tokens)): \n",
        "    if tokens[i] not in word2idx:\n",
        "      word2idx[tokens[i]] = idx\n",
        "      idx2word.append(tokens[i])\n",
        "      idx += 1\n",
        "\n",
        "\n",
        "sequence_length = 10\n",
        "batch_size = 2048\n",
        "epochs = 3\n",
        "\n",
        "poetry_data = DatasetPoetrySequential(lines, word2idx)\n",
        "\n",
        "dataloader = DataLoader(poetry_data, batch_size=batch_size)\n",
        "\n",
        "model = ModelLSTM(vocab_size=len(word2idx), \n",
        "                  sequence_len=sequence_length,\n",
        "                  pretrained_vectors=components)\n",
        "\n",
        "criterion = nn.CrossEntropyLoss()\n",
        "optimizer = optim.Adam(model.parameters(), lr=0.01)\n",
        "\n",
        "for epoch in range(epochs):\n",
        "    print(f\"epoch {epoch}: \", end='')\n",
        "    model.train()\n",
        "\n",
        "    loss_train = 0.0\n",
        "    correct = 0\n",
        "    train_data_size = 0\n",
        "    for i, (x, y) in enumerate(dataloader):\n",
        "\n",
        "        optimizer.zero_grad()\n",
        "        # model.h_0.detach()\n",
        "        # model.c_0.detach()\n",
        "        model.h_0, model.c_0 = model.init_hidden(sequence_length)\n",
        "\n",
        "        y_pred = model(x)  \n",
        "\n",
        "        loss = criterion(y_pred.transpose(1, 2), y)\n",
        "\n",
        "        loss.backward()\n",
        "        optimizer.step()\n",
        "        \n",
        "        loss_train += loss.item()\n",
        "\n",
        "        max_vals, max_idcs = torch.max(y_pred, dim=2)\n",
        "        # print(y_pred.shape)\n",
        "        # print(y.shape)\n",
        "        # print(y)\n",
        "        # print(y_pred)\n",
        "        # print(max_vals.shape)\n",
        "        # print(max_idcs)\n",
        "        \n",
        "        correct += (max_idcs == y).float().sum()\n",
        "        train_data_size += y.shape[0]\n",
        "        print(\"==\", end='')\n",
        "\n",
        "    acc_train = 100 * correct / train_data_size\n",
        "    print(f'  || training loss: {np.round(loss_train, 3)}  | training accuracy: {np.round(acc_train.detach().numpy(), 3)} %')\n",
        "\n",
        "# notes https://jamesmccaffrey.wordpress.com/2021/04/14/explaining-the-pytorch-embeddingbag-layer/"
      ],
      "metadata": {
        "colab": {
          "base_uri": "https://localhost:8080/"
        },
        "id": "iUc4nliyCgkm",
        "outputId": "7acdd28a-a724-402a-b736-24bae32667ad"
      },
      "execution_count": 21,
      "outputs": [
        {
          "output_type": "stream",
          "name": "stdout",
          "text": [
            "File ‘robert_frost.txt’ already there; not retrieving.\n",
            "\n",
            "epoch 0: ============  || training loss: 45.66  | training accuracy: 31.770999908447266 %\n",
            "epoch 1: ============  || training loss: 40.128  | training accuracy: 50.191001892089844 %\n",
            "epoch 2: ============  || training loss: 39.788  | training accuracy: 31.892000198364258 %\n"
          ]
        }
      ]
    },
    {
      "cell_type": "code",
      "source": [
        "print(len(idx2word))\n",
        "print(len(vocabulary_frost))\n",
        "\n",
        "print(vocabulary_frost.difference(set(idx2word)))\n",
        "print(set(idx2word).difference(vocabulary_frost))"
      ],
      "metadata": {
        "colab": {
          "base_uri": "https://localhost:8080/"
        },
        "id": "dP2VNLv_bOoR",
        "outputId": "c2ce504b-efbf-4e40-ca3a-3bce424b1bdb"
      },
      "execution_count": 16,
      "outputs": [
        {
          "output_type": "stream",
          "name": "stdout",
          "text": [
            "3057\n",
            "3056\n",
            "set()\n",
            "{'<ss>'}\n"
          ]
        }
      ]
    },
    {
      "cell_type": "markdown",
      "source": [
        ""
      ],
      "metadata": {
        "id": "3WSHeQ43bON3"
      }
    },
    {
      "cell_type": "markdown",
      "source": [
        " #### **Excercise 8**: Sampling (**1 point**)\n",
        "1. Sample some text from your models w.r.t. to the output (next) word probability distribution\n",
        "  - for both bigram and LSTM models - which is better?\n",
        "\n",
        "2. Paste your best \"poem\" here: "
      ],
      "metadata": {
        "id": "JZugaJlYWuQ4"
      }
    },
    {
      "cell_type": "code",
      "source": [
        "def sample_word(probabilities: np.ndarray):\n",
        "    p_threshold = np.sum(probabilities) * rng.random()  # Unif[a,b): (b - a) * random() + a,\n",
        "    p_cumulative = 0\n",
        "    for idx in range(len(probabilities)):\n",
        "        p_cumulative += probabilities[idx]\n",
        "        if p_threshold < p_cumulative:\n",
        "            return idx\n",
        "    assert False, f\"p_cumulative={p_cumulative}, p_thr={p_threshold}\"\n",
        "\n",
        "\n",
        "def sample_from_model(model: Model, number_of_sentences=4):\n",
        "    for _ in range(number_of_sentences):\n",
        "        sentence = []\n",
        "        idx = model.get_token_idx(\"<s>\")\n",
        "        for i in range(50):  # Generating on CzechVerseCorpus with smoothed model with vocab ~10**5 is hard to hit <\\s>\n",
        "            next_idx = sample_word(model.model[idx, :])\n",
        "            next_word = model.idx_to_token[next_idx]\n",
        "            if next_word == \"</s>\":\n",
        "                break\n",
        "            sentence.append(next_word)\n",
        "            idx = next_idx\n",
        "        print(' '.join(sentence))\n",
        "\n",
        "def sample_from_model_top_p(model: Model, number_of_sentences=4, top_p=5):\n",
        "    for _ in range(number_of_sentences):\n",
        "        sentence = []\n",
        "        idx = model.get_token_idx(\"<s>\")\n",
        "        for i in range(50):\n",
        "            probs = model.model[idx, :]\n",
        "            idcs = np.argpartition(probs, -top_p)[-top_p:]\n",
        "            x = probs[idcs]\n",
        "            idx_to_partition = sample_word(probs[idcs])\n",
        "            next_idx = idcs[idx_to_partition]\n",
        "            next_word = model.idx_to_token[next_idx]\n",
        "            if next_word == \"</s>\":\n",
        "                print(' '.join(sentence))\n",
        "                break\n",
        "            sentence.append(next_word)\n",
        "            idx = next_idx\n",
        "\n",
        "\n",
        "def sample_from_torch_model(model, corpus, number_of_sentences=4):\n",
        "    model.eval()\n",
        "    sentences_seeds = [] \n",
        "\n",
        "    for _ in range(number_of_sentences):\n",
        "      words = corpus[rng.integers(0, len(corpus))]\n",
        "      sentences_seeds.append(words)\n",
        "      words = words[1: len(words) // 3]\n",
        "      model.h_0, model.c_0 = model.init_hidden(len(words))\n",
        "\n",
        "      for i in range(0, rng.integers(0, 20)):\n",
        "          x = torch.tensor([[word2idx[w] for w in words[i:]]])\n",
        "          y_pred = model(x)\n",
        "          last_word_logits = y_pred[0][-1]\n",
        "          p = torch.nn.functional.softmax(last_word_logits, dim=0).detach().numpy()\n",
        "          word_index = np.random.choice(len(last_word_logits), p=p)\n",
        "          words.append(idx2word[word_index])\n",
        "      print(' '.join(words))\n",
        "\n",
        "    print(\"\\n(Sentence from which seed is created by taking first third of sentence, for comparison.)\")\n",
        "    for seed in sentences_seeds:\n",
        "        print(' '.join(seed[1:-1]))\n"
      ],
      "metadata": {
        "id": "ilrAhEGe2ad1"
      },
      "execution_count": 22,
      "outputs": []
    },
    {
      "cell_type": "code",
      "source": [
        "print(\"\\n==== Exercise 8. ====\")\n",
        "\n",
        "print(\"*Sample from not-smoothed bi-gram model trained on Frost corpus:\")\n",
        "sample_from_model(BiGramModel(vocabulary_frost, corpus_frost, smooth=False))\n",
        "\n",
        "top_p = 50\n",
        "print(f\"\\n*Sample from not-smoothed bi-gram model trained on Frost corpus, best {top_p} words:\")\n",
        "sample_from_model_top_p(BiGramModel(vocabulary_frost, corpus_frost, smooth=False), top_p=top_p)\n",
        "\n",
        "\n",
        "print(f\"\\n*Sample from LSTM model.\")\n",
        "sample_from_torch_model(model, corpus_frost)"
      ],
      "metadata": {
        "colab": {
          "base_uri": "https://localhost:8080/"
        },
        "id": "IRO7XlqK2aUW",
        "outputId": "3199d0d2-48e2-40cf-d40c-1ca6e100b62b"
      },
      "execution_count": 23,
      "outputs": [
        {
          "output_type": "stream",
          "name": "stdout",
          "text": [
            "\n",
            "==== Exercise 8. ====\n",
            "*Sample from not-smoothed bi-gram model trained on Frost corpus:\n",
            "so's the flowers.\n",
            "of the job.'\n",
            "(the kitchen to do to myself to say,\n",
            "cold\n",
            "\n",
            "*Sample from not-smoothed bi-gram model trained on Frost corpus, best 50 words:\n",
            "we wouldn't show.\n",
            "what is tending.\n",
            "of having interfered in the one fresh and shouted, 'shut in' for her straight down from him throw a tree that as fast\n",
            "she had it doesn't seem so far as if\n",
            "\n",
            "*Sample from LSTM model.\n"
          ]
        },
        {
          "output_type": "stream",
          "name": "stderr",
          "text": [
            "/usr/local/lib/python3.7/dist-packages/ipykernel_launcher.py:38: RuntimeWarning:\n",
            "\n",
            "invalid value encountered in true_divide\n",
            "\n"
          ]
        },
        {
          "output_type": "stream",
          "name": "stdout",
          "text": [
            "a friend or panther heart miles town tempt to at 'from like there on began it's know flowers said every was\n",
            "in warren bedroom south in meeting had him. it's needn't\n",
            "a barkless watched eye a seems with and i'm prove in for his not me\n",
            "here he melt let else. and on together. and battle and young\n",
            "\n",
            "(Sentence from which seed is created by taking first third of sentence, for comparison.)\n",
            "a friend or two as good as own the farm,\n",
            "in warren at march meeting for the reason\n",
            "a barkless spectre. he had halted too,\n",
            "here he is now. this box! put it away.\n"
          ]
        }
      ]
    },
    {
      "cell_type": "markdown",
      "source": [
        "# **Notes**\n",
        "\n",
        "If this seems like a lot of work, reiterate through the tutorials (which is the purpose, anyway) - we did most of this already!\n",
        "  - i.e., I don't expect you to be overly creative, you can find all the pieces in the tutorial notebooks\n",
        "  - but feel free to write a more efficient/clean/suitable code from scratch\n",
        "  - only the libraries we used in the tutorials are allowed\n",
        "  - teamwork is forbidden!\n",
        "  - make sure your code is runnable (in Colab) before submitting!\n",
        "\n",
        "\n",
        "I will only evaluate correctness of the solutions, not quality of the models\n",
        "  - i.e. no need to spent too much time with text preprocessing or hyperparameter tuning (LSTM)"
      ],
      "metadata": {
        "id": "qYJakWdKtP4M"
      }
    },
    {
      "cell_type": "markdown",
      "source": [
        "# **Bonus points**\n",
        "You can recover some of the potentially lost points here, but you can't reach more than 15 points in total from this assignment\n",
        "\n",
        "1. (1p) Use a 2nd order Markov model with a sparse 3D array instead\n",
        "  - i.e., you can do Laplace smoothing without actually modifying the model (tensor)!\n",
        "\n",
        "2. (1p) In your LSTM model, do not start every sample sequence with an empty hidden state (zeros), but pass the last hidden state from the preceding sample sequence\n",
        "  - i.e. the sequence ending just before the start of the current sequence\n",
        "  - but do not propagate gradient into the previous sample (detach the state value from the backprop graph)\n",
        "\n",
        "3. (1p) Improve your text generation by sampling from the top-p next words only\n",
        "\n",
        "4. (2p) Use a different (larger) textual corpus of poems\n",
        "  - e.g. Corpus of Czech Verse, collected at the Institute of Czech Literature at Czech Academy of Sciences\n",
        "    - available at https://github.com/versotym/corpusCzechVerse\n",
        "    - just be careful about czech character encoding\n"
      ],
      "metadata": {
        "id": "kgZq8YiueTqH"
      }
    },
    {
      "cell_type": "markdown",
      "source": [
        "**Bonus task 1.**\n",
        "\n",
        "Scipy doesn't offer interface for dimensions higher than two (to my best knowledge), which I find quite surprising.\n",
        "\n",
        "I have to either:\n",
        "1. use other package (which is forbidden in this hw)\n",
        "2. implement my own using python built-ins (eg.dictionary)\n",
        "3. use sparse matrix from scipy in shape of [n * n, n] where n is the vocabulary size.\n",
        "\n"
      ],
      "metadata": {
        "id": "oD48x_Rnvezl"
      }
    },
    {
      "cell_type": "code",
      "source": [
        "import scipy.sparse\n",
        "\n",
        "\n",
        "class TriGramModel(Model):\n",
        "    \"\"\"\n",
        "    2nd order Markov (tri-gram) language model.\n",
        "    \"\"\"\n",
        "\n",
        "    def __init__(self, vocabulary: set, corpus: list, smooth: bool):\n",
        "        self.vocabulary = vocabulary\n",
        "\n",
        "        self.model = scipy.sparse.lil_matrix((len(vocabulary) * len(vocabulary), len(vocabulary)), dtype=np.int8)\n",
        "        self.smooth = smooth\n",
        "\n",
        "        self.token_to_idx = {}\n",
        "        self.idx_to_token = {}\n",
        "        for idx, token in enumerate(vocabulary):\n",
        "            if token == \"<UNK>\":\n",
        "                continue\n",
        "            self.token_to_idx[token] = idx\n",
        "            self.idx_to_token[idx] = token\n",
        "\n",
        "        self.create_model(corpus, smooth)\n",
        "\n",
        "    def create_model(self, corpus: list, smooth: bool):\n",
        "        for tokens in corpus:\n",
        "            for i in range(2, len(tokens)):\n",
        "                idx1 = self.token_to_idx[tokens[i - 2]]\n",
        "                idx2 = self.token_to_idx[tokens[i - 1]]\n",
        "                idx3 = self.token_to_idx[tokens[i]]\n",
        "                self.model[idx1 * len(self.vocabulary) + idx2, idx3] += 1\n",
        "        self.model_by_maximum_likelihood(corpus)\n",
        "\n",
        "    def model_by_maximum_likelihood(self, corpus: list):\n",
        "        cols_sums = self.model.sum(axis=1)\n",
        "        x = np.where(cols_sums > 0)\n",
        "        self.model[x] = self.model[x] / cols_sums[x]\n",
        "\n",
        "    def get_prob(self, i, j, k):\n",
        "        if self.smooth:\n",
        "            cols_sum = self.model[i * len(self.vocabulary) + j, :].sum()\n",
        "            return (self.model[i * len(self.vocabulary) + j, k] + 1) / (cols_sum + len(self.vocabulary))\n",
        "        else:\n",
        "            return self.model[i * len(self.vocabulary) + j, k]\n",
        "\n",
        "    def get_token_idx(self, token):\n",
        "        if self.token_to_idx.get(token) is None:\n",
        "            return self.token_to_idx[\"<UNK>\"]\n",
        "        else:\n",
        "            return self.token_to_idx[token]\n",
        "\n",
        "\n",
        "def get_vocabulary_and_corpus_trigram(path: str):\n",
        "    vocabulary = set()\n",
        "    corpus = []\n",
        "\n",
        "    for line in open(path, encoding='utf-8'):\n",
        "        tokens = line.rstrip().lower().split()\n",
        "        if not tokens:\n",
        "            continue\n",
        "        tokens = ['<ss>'] + ['<s>'] + tokens + ['</s>']\n",
        "        vocabulary.update(tokens)\n",
        "        corpus.append(tokens)\n",
        "\n",
        "    return vocabulary, corpus"
      ],
      "metadata": {
        "id": "zeg8y35viDAK"
      },
      "execution_count": 24,
      "outputs": []
    },
    {
      "cell_type": "code",
      "source": [
        "v, c = get_vocabulary_and_corpus_trigram(\"robert_frost.txt\")\n",
        "v = v.union(\"<UNK>\")\n",
        "model_frost = TriGramModel(v, c, smooth=True)"
      ],
      "metadata": {
        "id": "zrRniAtsB0z4"
      },
      "execution_count": 27,
      "outputs": []
    },
    {
      "cell_type": "code",
      "source": [
        "idx1 = model_frost.get_token_idx('well')\n",
        "idx2 = model_frost.get_token_idx('may')\n",
        "idx3 = model_frost.get_token_idx('prove')\n",
        "print(model_frost.get_prob(idx1, idx2, idx3))\n",
        "\n",
        "if model_frost.smooth:\n",
        "  assert model_frost.model[idx1 * len(v) + idx2, idx3] == 1"
      ],
      "metadata": {
        "colab": {
          "base_uri": "https://localhost:8080/"
        },
        "id": "XD607iR3DAXH",
        "outputId": "95703e89-9ac0-48b6-b773-62751cd6a5c2"
      },
      "execution_count": 28,
      "outputs": [
        {
          "output_type": "stream",
          "name": "stdout",
          "text": [
            "0.000652954619653934\n"
          ]
        }
      ]
    },
    {
      "cell_type": "markdown",
      "source": [
        "**Bonus task 2.**\n",
        "\n",
        "implemented directly in Exercise 7. \n",
        "\n",
        "I do not detach the hidden states, which I was unable to make work (in every batch model.h_0.detach(), model.c_0.detach())\n",
        "so as work around, I initialize hidden state with new Variable every batch, which has the same effect, (could be less efficient though)."
      ],
      "metadata": {
        "id": "ZhEWxK6FY8SP"
      }
    },
    {
      "cell_type": "markdown",
      "source": [
        "**Bonus task 3.**\n",
        "\n",
        "implemented directly in Exercise 8."
      ],
      "metadata": {
        "id": "JECZH-mhZKER"
      }
    },
    {
      "cell_type": "markdown",
      "source": [
        "**Bonus task 4.**\n",
        "\n",
        "I am unable to load the whole CzechVerseCorpus (RAM crash), even with 50 books using BiGramModel implemented by numpy matrices crashes ram, so only portion *number_of_books*=20 is taken."
      ],
      "metadata": {
        "id": "UELNK0WqvXb2"
      }
    },
    {
      "cell_type": "code",
      "source": [
        "!git clone https://github.com/versotym/corpusCzechVerse\n",
        "\n",
        "import json\n",
        "from os import listdir\n",
        "path = 'corpusCzechVerse/ccv/'\n",
        "\n",
        "number_of_books = 20\n",
        "\n",
        "books = []\n",
        "files = [f for f in listdir(path)]\n",
        "for i, f in enumerate(sorted(files)):\n",
        "    if i > number_of_books:\n",
        "        break\n",
        "    book = open(path + f)\n",
        "    books.append(json.load(book))\n"
      ],
      "metadata": {
        "colab": {
          "base_uri": "https://localhost:8080/"
        },
        "id": "NQ5n5X2UMGLh",
        "outputId": "bb5dbaaa-60ab-46f1-dc53-ef40e3777763"
      },
      "execution_count": 29,
      "outputs": [
        {
          "output_type": "stream",
          "name": "stdout",
          "text": [
            "Cloning into 'corpusCzechVerse'...\n",
            "remote: Enumerating objects: 1324, done.\u001b[K\n",
            "remote: Counting objects: 100% (12/12), done.\u001b[K\n",
            "remote: Compressing objects: 100% (12/12), done.\u001b[K\n",
            "remote: Total 1324 (delta 3), reused 0 (delta 0), pack-reused 1312\u001b[K\n",
            "Receiving objects: 100% (1324/1324), 278.87 MiB | 24.65 MiB/s, done.\n",
            "Resolving deltas: 100% (1301/1301), done.\n",
            "Checking out files: 100% (1306/1306), done.\n"
          ]
        }
      ]
    },
    {
      "cell_type": "code",
      "source": [
        "# i=0\n",
        "# book = books[i]\n",
        "\n",
        "# for poem in book:\n",
        "#     author = poem['p_author']['name']\n",
        "#     title = poem['biblio']['p_title']\n",
        "#     print('------' + title + '------\\n')\n",
        "#     body = poem['body']\n",
        "#     for text in body:\n",
        "#         for line in text:\n",
        "#             print(line['text'])\n",
        "#         print('')\n",
        "#     break\n",
        "\n",
        "def get_czech_verse_corpus(number_of_books=20, order='first'):\n",
        "    vocabulary = set()\n",
        "    corpus = []\n",
        "    for book in books:\n",
        "        for poem_dict in book:\n",
        "            for text in poem_dict['body']:\n",
        "                for line in text:\n",
        "                    tokens = line['text'].rstrip().lower().split()\n",
        "                    if not tokens:\n",
        "                        continue\n",
        "                    if order == 'first':\n",
        "                        tokens = ['<s>'] + tokens + ['</s>']\n",
        "                    elif order == 'second':\n",
        "                        tokens = ['<ss>'] + ['<s>'] + tokens + ['</s>']\n",
        "\n",
        "                    vocabulary.update(tokens)\n",
        "                    corpus.append(tokens)\n",
        "    return vocabulary, corpus\n"
      ],
      "metadata": {
        "id": "Dkic4r2IPnN8"
      },
      "execution_count": 30,
      "outputs": []
    },
    {
      "cell_type": "code",
      "source": [
        "vocabulary, corpus = get_czech_verse_corpus()\n",
        "print(f\"number of sentences: {len(corpus)}\")\n",
        "print(f\"vocabulary size: {len(vocabulary)}\")\n",
        "\n",
        "model = BiGramModel(vocabulary=vocabulary, corpus=corpus, smooth=False)\n",
        "# model_smoothed = BiGramModel(vocabulary=vocabulary, corpus=corpus, smooth=True)"
      ],
      "metadata": {
        "colab": {
          "base_uri": "https://localhost:8080/"
        },
        "id": "7oykwIidyxdg",
        "outputId": "06105711-c370-4218-f2d9-51558322943a"
      },
      "execution_count": 31,
      "outputs": [
        {
          "output_type": "stream",
          "name": "stdout",
          "text": [
            "number of sentences: 17946\n",
            "vocabulary size: 26371\n"
          ]
        },
        {
          "output_type": "stream",
          "name": "stderr",
          "text": [
            "/usr/local/lib/python3.7/dist-packages/ipykernel_launcher.py:38: RuntimeWarning:\n",
            "\n",
            "invalid value encountered in true_divide\n",
            "\n"
          ]
        }
      ]
    },
    {
      "cell_type": "code",
      "source": [
        "sample_from_model(model)\n",
        "print()\n",
        "sample_from_model_top_p(model)\n",
        "# print()\n",
        "# sample_from_model(model_smoothed)\n",
        "# print()\n",
        "# sample_from_model_top_p(model_smoothed)"
      ],
      "metadata": {
        "id": "hCTdpPLqlPtL",
        "colab": {
          "base_uri": "https://localhost:8080/"
        },
        "outputId": "9f49f435-cff9-4fac-fd96-58f4e48983cd"
      },
      "execution_count": 32,
      "outputs": [
        {
          "output_type": "stream",
          "name": "stdout",
          "text": [
            "a listí chřestí:\n",
            "píseň paprsk v chvíle zmocni se,\n",
            "již v duši vězní hříchů říši.\n",
            "ať bratí tvou zeje tmavý,\n",
            "\n",
            "a na zem s námi se v srdci\n",
            "jak v duši se v té písně myslím,\n",
            "na zem se v tom světě\n",
            "na chvíli\n"
          ]
        }
      ]
    },
    {
      "cell_type": "markdown",
      "source": [
        "=======================================================================\n",
        "\n",
        "(my notes)\n",
        "http://seba1511.net/tutorials/beginner/nlp/sequence_models_tutorial.html"
      ],
      "metadata": {
        "id": "ay9C_NI0axcv"
      }
    }
  ]
}